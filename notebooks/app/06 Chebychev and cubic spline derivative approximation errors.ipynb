{
 "cells": [
  {
   "cell_type": "markdown",
   "metadata": {},
   "source": [
    "<center>\n",
    "<b>CompEcon Toolbox:</b>\n",
    "<div style=\"font-size:175%;color:white; background-color: #0064b0;\">DemApp06</div>\n",
    "<div style=\"font-size:250%;color:white; background-color: #0064b0;\">Chebychev and cubic spline derivative approximation errors</div>\n",
    "\n",
    "<b>Randall Romero Aguilar, PhD</b>\n",
    "<br><br>\n",
    "\n",
    "</center>\n",
    "\n",
    "This demo is based on the original Matlab demo accompanying the  <a href=\"https://mitpress.mit.edu/books/applied-computational-economics-and-finance\">Computational Economics and Finance</a> 2001 textbook by Mario Miranda and Paul Fackler.\n",
    "\n",
    "\n",
    "<i>Last updated: 2020-Sep-08</i>"
   ]
  },
  {
   "cell_type": "markdown",
   "metadata": {},
   "source": [
    "## Initial tasks"
   ]
  },
  {
   "cell_type": "code",
   "execution_count": null,
   "metadata": {},
   "outputs": [],
   "source": [
    "if 'google.colab' in str(get_ipython()):\n",
    "    print(\"This notebook is running on Google Colab. Installing the compecon package.\")\n",
    "    !pip install compecon"
   ]
  },
  {
   "cell_type": "code",
   "execution_count": null,
   "metadata": {},
   "outputs": [],
   "source": [
    "import numpy as np\n",
    "import pandas as pd\n",
    "import matplotlib.pyplot as plt\n",
    "from compecon import BasisChebyshev, BasisSpline, nodeunif, demo\n"
   ]
  },
  {
   "cell_type": "markdown",
   "metadata": {},
   "source": [
    "### Function to be  approximated"
   ]
  },
  {
   "cell_type": "code",
   "execution_count": null,
   "metadata": {},
   "outputs": [],
   "source": [
    "f = lambda x: np.exp(-x)\n",
    "df = lambda x: -np.exp(-x)\n",
    "d2f = lambda x: np.exp(-x)"
   ]
  },
  {
   "cell_type": "markdown",
   "metadata": {},
   "source": [
    "Set degree of approximation and endpoints of approximation interval"
   ]
  },
  {
   "cell_type": "code",
   "execution_count": null,
   "metadata": {},
   "outputs": [],
   "source": [
    "a =  -1  # left endpoint\n",
    "b =   1  # right endpoint\n",
    "n =  10  # order of interpolatioin"
   ]
  },
  {
   "cell_type": "markdown",
   "metadata": {},
   "source": [
    "Construct refined uniform grid for error ploting"
   ]
  },
  {
   "cell_type": "code",
   "execution_count": null,
   "metadata": {},
   "outputs": [],
   "source": [
    "x = np.linspace(a,b, 1001)"
   ]
  },
  {
   "cell_type": "markdown",
   "metadata": {},
   "source": [
    "Construct Chebychev interpolant"
   ]
  },
  {
   "cell_type": "code",
   "execution_count": null,
   "metadata": {},
   "outputs": [],
   "source": [
    "C = BasisChebyshev(n, a, b, f=f)    "
   ]
  },
  {
   "cell_type": "markdown",
   "metadata": {},
   "source": [
    "Construct cubic spline interpolant"
   ]
  },
  {
   "cell_type": "code",
   "execution_count": null,
   "metadata": {},
   "outputs": [],
   "source": [
    "S = BasisSpline(n, a, b, f=f)     "
   ]
  },
  {
   "cell_type": "markdown",
   "metadata": {},
   "source": [
    "### Plot function approximation error"
   ]
  },
  {
   "cell_type": "code",
   "execution_count": null,
   "metadata": {},
   "outputs": [],
   "source": [
    "y = f(x)\n",
    "\n",
    "fig1, axs = plt.subplots(2,1,sharex=True)\n",
    "fig1.suptitle('Function Approximation Error') \n",
    "\n",
    "(pd.DataFrame({\n",
    "    'Chebychev': y - C(x),\n",
    "    'Cubic Spline': y - S(x)},\n",
    "    index=x)\n",
    " .plot(subplots=True, ax=axs)\n",
    "); "
   ]
  },
  {
   "cell_type": "markdown",
   "metadata": {},
   "source": [
    "### Plot first derivative approximation error"
   ]
  },
  {
   "cell_type": "code",
   "execution_count": null,
   "metadata": {},
   "outputs": [],
   "source": [
    "dy = df(x)\n",
    "\n",
    "fig1, axs = plt.subplots(2,1,sharex=True)\n",
    "fig1.suptitle('First Derivative Approximation Error') \n",
    "\n",
    "(pd.DataFrame({\n",
    "    'Chebychev': dy - C(x, 1),\n",
    "    'Cubic Spline': dy - S(x, 1)},\n",
    "    index=x)\n",
    " .plot(subplots=True, ax=axs)\n",
    ");"
   ]
  },
  {
   "cell_type": "markdown",
   "metadata": {},
   "source": [
    "### Plot second derivative approximation error"
   ]
  },
  {
   "cell_type": "code",
   "execution_count": null,
   "metadata": {},
   "outputs": [],
   "source": [
    "d2y = d2f(x)\n",
    "\n",
    "fig1, axs = plt.subplots(2,1,sharex=True)\n",
    "fig1.suptitle('Second Derivative Approximation Error') \n",
    "\n",
    "(pd.DataFrame({\n",
    "    'Chebychev': d2y - C(x, 2),\n",
    "    'Cubic Spline': d2y - S(x, 2)},\n",
    "    index=x)\n",
    " .plot(subplots=True, ax=axs)\n",
    ");"
   ]
  }
 ],
 "metadata": {
  "kernelspec": {
   "display_name": "Python 3",
   "language": "python",
   "name": "python3"
  },
  "language_info": {
   "codemirror_mode": {
    "name": "ipython",
    "version": 3
   },
   "file_extension": ".py",
   "mimetype": "text/x-python",
   "name": "python",
   "nbconvert_exporter": "python",
   "pygments_lexer": "ipython3",
   "version": "3.8.3"
  }
 },
 "nbformat": 4,
 "nbformat_minor": 4
}
