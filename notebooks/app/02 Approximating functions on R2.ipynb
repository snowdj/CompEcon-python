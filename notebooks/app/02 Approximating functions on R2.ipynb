{
 "cells": [
  {
   "cell_type": "markdown",
   "metadata": {},
   "source": [
    "<center>\n",
    "<b>CompEcon Toolbox:</b>\n",
    "<div style=\"font-size:175%;color:white; background-color: #0064b0;\">DemApp02</div>\n",
    "<div style=\"font-size:250%;color:white; background-color: #0064b0;\">Approximating functions on $R^2$</div>\n",
    "\n",
    "<b>Randall Romero Aguilar, PhD</b>\n",
    "<br><br>\n",
    "\n",
    "</center>\n",
    "\n",
    "This demo is based on the original Matlab demo accompanying the  <a href=\"https://mitpress.mit.edu/books/applied-computational-economics-and-finance\">Computational Economics and Finance</a> 2001 textbook by Mario Miranda and Paul Fackler.\n",
    "\n",
    "\n",
    "<i>Last updated: 2020-Sep-08</i>"
   ]
  },
  {
   "cell_type": "markdown",
   "metadata": {},
   "source": [
    "## About"
   ]
  },
  {
   "cell_type": "markdown",
   "metadata": {},
   "source": [
    "This notebook illustrates how to use CompEcon Toolbox routines to construct and operate with an approximant for a function defined on a rectangle in $R^2$.\n",
    "\n",
    "In particular, we construct an approximant for $f(x_1,x_2) = \\frac{\\cos(x_1)}{\\exp(x_2)}$ on $[-1,1]\\times[-1,1]$.  The function used in this illustration posseses a closed-form, which will allow us to measure approximation error precisely. Of course, in practical applications, the function to be approximated will not possess a known closed-form.\n",
    "\n",
    "In order to carry out the exercise, one must first code the function to be approximated at arbitrary points.\n",
    "Let's begin:"
   ]
  },
  {
   "cell_type": "markdown",
   "metadata": {},
   "source": [
    "## Initial tasks"
   ]
  },
  {
   "cell_type": "code",
   "execution_count": null,
   "metadata": {},
   "outputs": [],
   "source": [
    "if 'google.colab' in str(get_ipython()):\n",
    "    print(\"This notebook is running on Google Colab. Installing the compecon package.\")\n",
    "    !pip install compecon"
   ]
  },
  {
   "cell_type": "code",
   "execution_count": null,
   "metadata": {},
   "outputs": [],
   "source": [
    "import numpy as np\n",
    "import pandas as pd\n",
    "import matplotlib.pyplot as plt\n",
    "from compecon import BasisChebyshev, BasisSpline, nodeunif, demo\n",
    "from mpl_toolkits.mplot3d import Axes3D\n",
    "from matplotlib import cm"
   ]
  },
  {
   "cell_type": "markdown",
   "metadata": {},
   "source": [
    "### Defining some functions"
   ]
  },
  {
   "cell_type": "markdown",
   "metadata": {},
   "source": [
    "Function to be approximated and analytic partial derivatives"
   ]
  },
  {
   "cell_type": "code",
   "execution_count": null,
   "metadata": {},
   "outputs": [],
   "source": [
    "exp, cos, sin = np.exp, np.cos, np.sin\n",
    "\n",
    "f   = lambda x:  cos(x[0]) / exp(x[1])\n",
    "d1  = lambda x: -sin(x[0]) / exp(x[1])\n",
    "d2  = lambda x: -cos(x[0]) / exp(x[1])\n",
    "d11 = lambda x: -cos(x[0]) / exp(x[1])\n",
    "d12 = lambda x:  sin(x[0]) / exp(x[1])\n",
    "d22 = lambda x:  cos(x[0]) / exp(x[1])"
   ]
  },
  {
   "cell_type": "markdown",
   "metadata": {},
   "source": [
    "Set the points of approximation interval:"
   ]
  },
  {
   "cell_type": "code",
   "execution_count": null,
   "metadata": {},
   "outputs": [],
   "source": [
    "a, b = 0, 1"
   ]
  },
  {
   "cell_type": "markdown",
   "metadata": {},
   "source": [
    "Choose an approximation scheme. In this case, let us use an 6 by 6 Chebychev approximation scheme:"
   ]
  },
  {
   "cell_type": "code",
   "execution_count": null,
   "metadata": {},
   "outputs": [],
   "source": [
    "n = 6  # order of approximation\n",
    "basis = BasisChebyshev([n, n], a, b)  \n",
    "# write n twice to indicate the two dimensions. \n",
    "# a and b are broadcast."
   ]
  },
  {
   "cell_type": "markdown",
   "metadata": {},
   "source": [
    "### Compute the basis coefficients c.  "
   ]
  },
  {
   "cell_type": "markdown",
   "metadata": {},
   "source": [
    "There are various way to do this:"
   ]
  },
  {
   "cell_type": "markdown",
   "metadata": {},
   "source": [
    "* One may compute the standard approximation nodes `x` and corresponding interpolation matrix `Phi` and function values `y` and use:"
   ]
  },
  {
   "cell_type": "code",
   "execution_count": null,
   "metadata": {},
   "outputs": [],
   "source": [
    "x = basis.nodes\n",
    "Phi = basis.Phi(x)  # input x may be omitted if evaluating at the basis nodes\n",
    "y = f(x)\n",
    "c = np.linalg.solve(Phi, y)"
   ]
  },
  {
   "cell_type": "markdown",
   "metadata": {},
   "source": [
    "* Alternatively, one may compute the standard approximation nodes `x` and corresponding function values `y` and use these values to create a `BasisChebyshev` object with keyword argument `y`:"
   ]
  },
  {
   "cell_type": "code",
   "execution_count": null,
   "metadata": {},
   "outputs": [],
   "source": [
    "x = basis.nodes\n",
    "y = f(x)\n",
    "fa = BasisChebyshev([n, n], a, b, y=y)\n",
    "# coefficients can be retrieved by typing fa.c"
   ]
  },
  {
   "cell_type": "markdown",
   "metadata": {},
   "source": [
    "* ... or one may simply pass the function directly to BasisChebyshev using keyword `f`, which by default will evaluate it at the basis nodes"
   ]
  },
  {
   "cell_type": "code",
   "execution_count": null,
   "metadata": {},
   "outputs": [],
   "source": [
    "F = BasisChebyshev([n, n], a, b, f=f)\n",
    "# coefficients can be retrieved by typing F.c"
   ]
  },
  {
   "cell_type": "markdown",
   "metadata": {},
   "source": [
    "### Evaluate the basis"
   ]
  },
  {
   "cell_type": "markdown",
   "metadata": {},
   "source": [
    "Having created a `BasisChebyshev` object, one may now evaluate the approximant at any point `x` by calling the object:"
   ]
  },
  {
   "cell_type": "code",
   "execution_count": null,
   "metadata": {},
   "outputs": [],
   "source": [
    "x = np.array([[0.5],[0.5]]) # first dimension should match the basis dimension\n",
    "F(x)"
   ]
  },
  {
   "cell_type": "markdown",
   "metadata": {},
   "source": [
    "... one may also evaluate the approximant's first partial derivatives at `x`:"
   ]
  },
  {
   "cell_type": "code",
   "execution_count": null,
   "metadata": {},
   "outputs": [],
   "source": [
    "dfit1 = F(x, [1, 0])\n",
    "dfit2 = F(x, [0, 1])"
   ]
  },
  {
   "cell_type": "markdown",
   "metadata": {},
   "source": [
    "... one may also evaluate the approximant's second own partial and cross partial derivatives at `x`:"
   ]
  },
  {
   "cell_type": "code",
   "execution_count": null,
   "metadata": {},
   "outputs": [],
   "source": [
    "dfit11 = F(x, [2, 0])\n",
    "dfit22 = F(x, [0, 2])\n",
    "dfit12 = F(x, [1, 1])"
   ]
  },
  {
   "cell_type": "markdown",
   "metadata": {},
   "source": [
    "### Compare analytic and numerical computations"
   ]
  },
  {
   "cell_type": "code",
   "execution_count": null,
   "metadata": {},
   "outputs": [],
   "source": [
    "ff = '%-11s %12.5f  %12.5f'\n",
    "print('Function Values and Derivatives of cos(x_1)/exp(x_2) at x=(0.5,0.5)')\n",
    "print('%-11s %12s  %12s\\n' % ('','Numerical', 'Analytic'), '_'*40)\n",
    "print(ff % ('Function',F(x),f(x)))\n",
    "print(ff % ('Partial 1',dfit1, d1(x)))\n",
    "print(ff % ('Partial 2',dfit2, d2(x)))\n",
    "print(ff % ('Partial 11',dfit11, d11(x)))\n",
    "print(ff % ('Partial 12', dfit12, d12(x)))\n",
    "print(ff % ('Partial 22',dfit22, d22(x)))"
   ]
  },
  {
   "cell_type": "markdown",
   "metadata": {},
   "source": [
    "The cell below shows how the preceeding table could be generated in a single loop, using the `zip` function and computing all partial derivatives at once."
   ]
  },
  {
   "cell_type": "code",
   "execution_count": null,
   "metadata": {},
   "outputs": [],
   "source": [
    "labels = ['Function', 'Partial 1','Partial 2','Partial 11','Partial 12','Partial 22']\n",
    "analytics =[func(x) for func in [f,d1,d2,d11,d12,d22]]\n",
    "deriv = [[0, 1, 0, 2, 0, 1],\n",
    "         [0, 0, 1, 0, 2, 1]]\n",
    "\n",
    "ff = '%-11s %12.5f  %12.5f'\n",
    "print('Function Values and Derivatives of cos(x_1)/exp(x_2) at x=(0.5,0.5)')\n",
    "print('%-11s %12s  %12s\\n' % ('','Numerical', 'Analytic'), '_'*40)\n",
    "for lab,appr,an in zip(labels, F(x,order=deriv),analytics):\n",
    "    print(f'{lab:11s} {an[0]:12.5f} {appr:12.5f}')\n"
   ]
  },
  {
   "cell_type": "markdown",
   "metadata": {},
   "source": [
    "### Approximation accuracy"
   ]
  },
  {
   "cell_type": "markdown",
   "metadata": {},
   "source": [
    "One may evaluate the accuracy of the Chebychev polynomial approximant by computing the  approximation error on a highly refined grid of points:"
   ]
  },
  {
   "cell_type": "code",
   "execution_count": null,
   "metadata": {},
   "outputs": [],
   "source": [
    "nplot = [101, 101]         # chose grid discretization\n",
    "X = nodeunif(nplot, [a, a], [b, b])  # generate refined grid for plotting\n",
    "yapp = F(X)        # approximant values at grid nodes\n",
    "yact = f(X)                      # actual function values at grid points\n",
    "error = (yapp - yact).reshape(nplot)\n",
    "X1, X2 = X\n",
    "X1.shape = nplot\n",
    "X2.shape = nplot\n",
    "\n",
    "fig1 = plt.figure(figsize=[12, 6])\n",
    "ax = fig1.add_subplot(1, 1, 1, projection='3d')\n",
    "ax.plot_surface(X1, X2, error, rstride=1, cstride=1, cmap=cm.coolwarm,\n",
    "                linewidth=0, antialiased=False)\n",
    "ax.set_xlabel('$x_1$')\n",
    "ax.set_ylabel('$x_2$')\n",
    "ax.set_zlabel('error')\n",
    "plt.title('Chebychev Approximation Error')\n",
    "plt.ticklabel_format(style='sci', axis='z', scilimits=(-1,1))"
   ]
  },
  {
   "cell_type": "markdown",
   "metadata": {},
   "source": [
    "The plot indicates that an order 11 by 11 Chebychev approximation scheme produces approximation errors no bigger in magnitude than $10^{-10}$."
   ]
  },
  {
   "cell_type": "markdown",
   "metadata": {},
   "source": [
    "Let us repeat the approximation exercise, this time constructing an order 21 by 21 cubic spline approximation scheme:"
   ]
  },
  {
   "cell_type": "code",
   "execution_count": null,
   "metadata": {},
   "outputs": [],
   "source": [
    "n = [21, 21]                          # order of approximation\n",
    "S = BasisSpline(n, a, b, f=f)\n",
    "yapp = S(X)        # approximant values at grid nodes\n",
    "error = (yapp - yact).reshape(nplot)\n",
    "\n",
    "fig2 = plt.figure(figsize=[12, 6])\n",
    "ax = fig2.add_subplot(1, 1, 1, projection='3d')\n",
    "ax.plot_surface(X1, X2, error, rstride=1, cstride=1, cmap=cm.coolwarm,\n",
    "                linewidth=0, antialiased=False)\n",
    "ax.set_xlabel('$x_1$')\n",
    "ax.set_ylabel('$x_2$')\n",
    "ax.set_zlabel('error')\n",
    "plt.title('Cubic Spline Approximation Error');"
   ]
  },
  {
   "cell_type": "markdown",
   "metadata": {},
   "source": [
    "The plot indicates that an order 21 by 21 cubic spline approximation scheme produces approximation errors no bigger in magnitude than $10^{-6}$."
   ]
  },
  {
   "cell_type": "markdown",
   "metadata": {},
   "source": [
    "### Save all figures to disc"
   ]
  },
  {
   "cell_type": "code",
   "execution_count": null,
   "metadata": {},
   "outputs": [],
   "source": [
    "#demo.savefig([fig1,fig2], name='demapp02')"
   ]
  }
 ],
 "metadata": {
  "kernelspec": {
   "display_name": "Python 3",
   "language": "python",
   "name": "python3"
  },
  "language_info": {
   "codemirror_mode": {
    "name": "ipython",
    "version": 3
   },
   "file_extension": ".py",
   "mimetype": "text/x-python",
   "name": "python",
   "nbconvert_exporter": "python",
   "pygments_lexer": "ipython3",
   "version": "3.8.3"
  }
 },
 "nbformat": 4,
 "nbformat_minor": 4
}
