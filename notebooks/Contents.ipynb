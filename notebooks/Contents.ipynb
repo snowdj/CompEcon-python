{
 "cells": [
  {
   "cell_type": "markdown",
   "metadata": {},
   "source": [
    "# CompEcon Demos"
   ]
  },
  {
   "cell_type": "markdown",
   "metadata": {},
   "source": [
    "The following lists show all the demo files that are available in the MATLAB version of CompEcon, by Mario Miranda and Paul Fackler.  Some of these demos have been ported to Python; for them a hyperlink to the correspoding Jupyter notebook is provided.\n",
    "\n",
    "_Randall Romero-Aguilar_\n",
    "\n",
    "April 2016\n",
    "\n",
    "Last updated: April 24, 2018"
   ]
  },
  {
   "cell_type": "markdown",
   "metadata": {},
   "source": [
    "## Introduction\n",
    " * demintro01 --  [Inverse Demand Problem](<intro/01 Inverse Demand Problem.ipynb>)\n",
    " * demintro02 --  Rational Expectations Agricultural Market Model"
   ]
  },
  {
   "cell_type": "markdown",
   "metadata": {},
   "source": [
    "## Mathematics Review\n",
    " * demmath01 --  [Taylor Approximations](<math/01 Taylor Approximations.ipynb>)\n",
    " * demmath02  -- [Computing Function Inner Products, Norms & Metrics](<math/02 Computing Function Inner Products, Norms, and Metrics.ipynb>)\n",
    " * demmath03  -- [Continuous Distribution CDFs and PDFs](<math/03 Major Distribution CDFs and PDFs.ipynb>)\n",
    " * demmath04  --  Standard Copulas\n",
    " * demmath05  --  Illustrates Implicit Function Theorem\n",
    " * demmath06  --  Simulate Simple Markov Chain\n",
    " * demmath07  --  Operations with Markov Chains"
   ]
  },
  {
   "cell_type": "markdown",
   "metadata": {},
   "source": [
    "## Linear Equations\n",
    " * demlin01   --  Solving Linear Equations by Different Methods\n",
    " * demlin02   --  Ill-Conditioning of Vandermonde Matrix\n",
    " * demlin03   --  Sparse Linear Equations"
   ]
  },
  {
   "cell_type": "markdown",
   "metadata": {},
   "source": [
    "## Nonlinear Equations\n",
    " * demslv01 --  [Compute Root of f(x)=exp(-x)-1](<slv/01 Compute root of f%28x%29=exp%28-x%29-1.ipynb>)\n",
    " * demslv02 --  [Compute Root of Rosencrantz Function](<slv/02 Compute root of Rosencrantz function.ipynb>)\n",
    " * demslv03 --  [Compute Fixedpoint of f(x) = x^0.5](<slv/03 Compute fixedpoint of f%28x%29 = sqrt%28x%29.ipynb>)\n",
    " * demslv04 --  [Compute Fixedpoint of f(x1,x2)= x1^2+x2^3;x1*x2-0.5](<slv/04 Compute fixedpoint of f%28x1,x2%29= [x1 2+x2 3; x1 x2 - 0.5].ipynb>)\n",
    " * demslv05 --  [Illustrates Newton and Broyden Paths](<slv/05 Cournot equilibrium model.ipynb>)\n",
    " * demslv06 --  [Illustrates Function Iteration, Newton, and Secand Methods](<slv/06 Illustrates function iteration, Newton, and secant methods.ipynb>)\n",
    " * demslv07 --  [Linear Complementarity Problem Methods](<slv/07 Linear complementarity problem methods.ipynb>)\n",
    " * demslv08 --  [Nonlinear Complementarity Problem Methods](<slv/08 Nonlinear complementarity problem methods.ipynb>)\n",
    " * demslv09 --  [Hard Nonlinear Complementarity Problem with Billup's Function](<slv/09 Hard nonlinear complementarity problem with Billup's function.ipynb>)\n",
    " * demslv10 --  [Illustrates Linear Complementarity Problem](<slv/10 Illustrates linear complementarity problem.ipynb>)\n",
    " * demslv11 --  Nonlinear Complementarity Problem Methods\n",
    " * demslv12 --  [Convergence Rates for Nonlinear Equation Methods](<slv/12 Convergence rates for nonlinear equation methods.ipynb>)\n",
    " * demslv13 --  [Simple Nonlinear Complementarity Problem](<slv/13 Simple nonlinear complementarity problem.ipynb>)\n",
    " * demslv14 --  [Spatial Equilibrium Model](<slv/14 Spacial Equilibrium Model.ipynb>)"
   ]
  },
  {
   "cell_type": "markdown",
   "metadata": {},
   "source": [
    "## Finite-Dimensional Optimization\n",
    " * demopt01   --  Maximization via Golden Search\n",
    " * demopt02   --  Changes in Nelder-Mead Simplex\n",
    " * demopt03   --  Nelder-Mead Simplex Method\n",
    " * demopt04   --  [Maximization of Banana Function, Various Methods](<opt/04 Maximization of banana function by various methods.ipynb>)\n",
    " * demopt05   --  [Optimization with qnewton](<opt/05 Optimization with qnewton.ipynb>)\n",
    " * demopt06   --  [KKT Conditions for Constrained Optimization Problems](<opt/06 KKT conditions for constrained optimization problems.ipynb>)\n",
    " * demopt07   --  Bound Constrained Optimization via Sequential LCP\n",
    " * demopt08   --  [Constrained Optimization with nlpsolve](<opt/08 Constrained optimization using scipy.ipynb>)"
   ]
  },
  {
   "cell_type": "markdown",
   "metadata": {},
   "source": [
    "## Quadrature\n",
    " * demqua01   --  [Equidistributed Sequences on Unit Square in R^2](<qua/01 Equidistributed sequences on unit square in R2.ipynb>)\n",
    " * demqua01bis -- [Computing Integral with quasi-Monte Carlo methods](<qua/01bis Computing integral with quasi-Monte Carlo methods.ipynb>) \n",
    " * demqua02   --  Compute Expectation of Function of Random Normal Vector\n",
    " * demqua03   --  [Area under 1-D and 2-D Curves, Various Methods](<qua/03 Area under 1-D and 2-D curves, various methods.ipynb>)\n",
    " * demqua04   --  [Area under Normal PDF Using Simpson's Rule](<qua/04 Area under normal pdf using Simpson's rule.ipynb>)\n",
    " * demqua05   --  Willingness to Pay, Expected Utility Model\n",
    " * demqua06   --  [Area under a Curve](<qua/06 Area under a curve.ipynb>)\n",
    " * demqua07   --  [Integration Using Trapezoidal Rule](<qua/07 Illustrates integration using Trapezoidal rule.ipynb>)\n",
    " * demqua08   --  [Integration Using Simpson's Rule](<qua/08 Illustrates integration using Simpson's rule.ipynb>)\n",
    " * demqua09   --  Chebychev and Legendre Quadrature Nodes and Weights\n",
    " * demqua10   --  [Monte Carlo Simulation of Time Series](<qua/10 Monte Carlo Simulation of Time Series.ipynb>)"
   ]
  },
  {
   "cell_type": "markdown",
   "metadata": {},
   "source": [
    "## Numerical Differentiation\n",
    " * demdif01   --  Finite Difference Hessian Evaluation\n",
    " * demdif02   --  Error in Finite Difference Differentiation\n",
    " * demdif03   --  Demonstrates fdjac and checkjac\n",
    " * demdif04   --  Demonstrates fdhess\n",
    " * demdif02 -- [Demonstrates accuracy of one- and two-sided-difference derivatives](<dif/02 Demonstrates accuracy of one- and two-sided finite-difference derivatives.ipynb>)"
   ]
  },
  {
   "cell_type": "markdown",
   "metadata": {},
   "source": [
    "## Function Approximation\n",
    " * demapp00 --  [Approximating using CompEcon toolbox](<app/00 Approximation using CompEcon toolbox.ipynb>)\n",
    " * demapp01 --  [Approximating Functions on R](<app/01 Approximating function on R.ipynb>)\n",
    " * demapp02 --  [Approximating Functions on R^2](<app/02 Approximating functions on R2.ipynb>)\n",
    " * demapp03 --  [Basis Functions and Standard Nodes for Major Approximation Schemes](<03 Basis functions and standard nodes for major approximation schemes.ipynb>)\n",
    " * demapp04 --  [Uniform-Node and Chebychev-Node Polynomial Approximation of Runge's Function](<app/04 Approximating Runge's function.ipynb>)\n",
    " * demapp05 --  [Chebychev Polynomial and Spline Approximation of Various Functions](<app/05 Chebychev polynomial and spline approximantion of various functions.ipynb>)\n",
    " * demapp06 -- [Chebyshev and Cubic Spline Derivative Approximation Errors](<app/06 Chebychev and cubic spline derivative approximation errors.ipynb>)\n",
    " * demapp07 --  [Solve Cournot Oligopoly Model via Collocation](<app/07 Solve Cournot oligopoly model via collocation.ipynb>)\n",
    " * demapp08 --  [Compute Function Inverse via Collocation](<app/08 Compute function inverse via collocation.ipynb>)\n",
    " * demapp09 --  [Linear Spline Approximation](<app/09 Linear spline approximation.ipynb>)\n",
    " * demapp10 --  [Monopolist's Effective Supply Function](<app/10 Monopolist's Effective Supply Function.ipynb>)"
   ]
  },
  {
   "cell_type": "markdown",
   "metadata": {},
   "source": [
    "## Discrete Time Discrete State Dynamic Programming\n",
    " * demddp01 --  [Mine Management Model](<ddp/01 Mine management model.ipynb>)\n",
    " * demddp02 --  [Asset Replacement Model](<ddp/02 Asset replacement model.ipynb>)\n",
    " * demddp03 --  [Asset Replacement Model With Maintenance](<ddp/03 Asset replacement model with maintenance.ipynb>)\n",
    " * demddp04   --  Binomial American Put Option Model\n",
    " * demddp05   --  Water Management Model\n",
    " * demddp06   --  Bioeconomic Model\n",
    " * demddp07   --  Renewable Resource Model\n",
    " * demddp08   --  Job Search Model\n",
    " * demddp09   --  Deterministic Cow Replacement Model\n",
    " * demddp10   --  Stochastic Cow Replacement Model\n",
    " * demddp11   --  Stochastic Optimal Growth Model"
   ]
  },
  {
   "cell_type": "markdown",
   "metadata": {},
   "source": [
    "## Discrete Time Continuous State Dynamic Programming\n",
    " * demdp01 --  [Timber Harvesting Model](<dp/01 Timber Harvesting Model - Cubic Spline Approximation.ipynb>)\n",
    " * demdp01a --  [Timber Harvesting -- 2 nodes](<dp/01a Timber Harvesting -- 2 nodes.ipynb>)\n",
    " * demdp01b --  [Timber Harvesting -- cubic spline](<dp/01b Timber Harvesting -- cubic spline.ipynb>)\n",
    " * demdp02 --  [Asset Replacement](<dp/02 Asset Replacement Model.ipynb>)\n",
    " * demdp03 --  [Industry Entry-Exit](<dp/03 Industry Entry-Exit Model.ipynb>)\n",
    " * demdp04 --  [Job Search](<dp/04 Job Search Model.ipynb>)\n",
    " * demdp05 --  [American Put Option Pricing](<dp/05 America Put Option Pricing Model.ipynb>)\n",
    " * demdp06 --  [Ramsey Economic Growth Model](<dp/06 Deterministic Optimal Economic Growth Model.ipynb>)\n",
    " * demdp07 --  [Stochastic Economic Growth](<dp/07 Stochastic Optimal Economic Growth Model.ipynb>)\n",
    " * demdp08 --  [Public Renewable Management](<dp/08 Public Renewable Resource Model.ipynb>)\n",
    " * demdp09 --  [Private Non-Renewable Resource Management](<dp/09 Private Non-Renewable Resource Model.ipynb>)\n",
    " * demdp10 --  [Water Resource Management](<dp/10 Water Resource Management Model.ipynb>)\n",
    " * demdp11 --  [Monetary Policy](<dp/11 Monetary Policy Model.ipynb>)\n",
    " * demdp12 --  [Production Management](<dp/12 Production Management Model.ipynb>)\n",
    " * demdp13 --  Inventory Management\n",
    " * demdp14 --  Livestock Feeding (Euler Conditions)\n",
    " * demdp15 --  Saving with Transactions Costs\n",
    " * demdp16 --  [Linear-Quadratic Problem](<dp/16 Linear-Quadratic Model.ipynb>)\n",
    " * demdp17 --  Miscellaneous Lecture Note Figures\n",
    " * demdp18 --  Credit With Technology Adopttopm\n",
    " * demdp19 --  Credit with Strategic Default (Broyden)\n",
    " * demdp20 --  Lifecycle Consumption-Savings\n",
    " * demdp21 --  Savings and Insurance Model\n",
    " * demdp22 --  Savings and Insurance Model - Alternate, Under Development\n",
    " * demdp23 --  Ferility Decision Model - Under Development"
   ]
  },
  {
   "cell_type": "markdown",
   "metadata": {},
   "source": [
    "## Rational Expectations Models\n",
    " * dem rem01   --  Asset Pricing Model\n",
    " * dem rem02   --  Commodity Storage Model\n",
    " * dem rem03   --  Government Price Support Model"
   ]
  },
  {
   "cell_type": "markdown",
   "metadata": {},
   "source": [
    "## Dynamic Games\n",
    " * dem game01  --  Production Capacity Game\n",
    " * dem game02  --  Income Redistribution Game\n",
    " * dem game03  --  Marketing Board Game"
   ]
  },
  {
   "cell_type": "markdown",
   "metadata": {},
   "source": [
    "## Ordinary Differential Equations\n",
    " * dem ode01   --  Stability of Linear ODEs\n",
    " * dem ode02   --  Generic Nonlinear ODE Example\n",
    " * dem ode03   --  IVP Linear ODE Example\n",
    " * dem ode04   --  Non-IVP Linear ODE Example\n",
    " * dem ode05   --  Commodity Storage Model\n",
    " * dem ode06   --  Predator-Prey Model\n",
    " * dem ode07   --  Commercial Fisheries Model\n",
    " * dem ode08   --  Lorentz Strange Attractor\n",
    " * dem ode09   --  Tobin's Q\n",
    " * dem ode10   --  Regional Migratio Model"
   ]
  },
  {
   "cell_type": "markdown",
   "metadata": {},
   "source": [
    "## Continuous Time Deterministic Optimal Control\n",
    " * dem doc01   --  Deterministic Optimal Economic Growth Model\n",
    " * dem doc02   --  Deterministic Nonrenewable Resource Model\n",
    " * dem doc03   --  Deterministic Renewable Resource Model\n",
    " * dem doc04   --  Deterministic Optimal Fish Harvest Model\n",
    " * dem doc05   --  Deterministic Production-Adjustment Model"
   ]
  },
  {
   "cell_type": "markdown",
   "metadata": {},
   "source": [
    "## Continuous Time Stochastic Optimal Control\n",
    " * dem soc00   --  Ito Processes\n",
    " * dem soc01   --  Stochastic Optimal Economic Growth Model\n",
    " * dem soc02   --  Stochastic Nonrenewable Resource Model\n",
    " * dem soc03   --  Stochastic Renewable Resource Model\n",
    " * dem soc04   --  Stochastic Optimal Fish Harvest Model\n",
    " * dem soc05   --  Stochastic Production-Adjustment Model"
   ]
  },
  {
   "cell_type": "markdown",
   "metadata": {},
   "source": [
    "## Regime Switching Problems\n",
    " * dem rs01    --  Asset Abandonment Model\n",
    " * dem rs02    --  Fish Harvest Model\n",
    " * dem rs03    --  Dixit Entry/Exit Model"
   ]
  },
  {
   "cell_type": "markdown",
   "metadata": {},
   "source": [
    "## Impulse Control Problems\n",
    " * dem ic01    --  Asset Replacement Model\n",
    " * dem ic02    --  Timber Harvesting Model\n",
    " * dem ic03    --  Storage Management Model\n",
    " * dem ic04    --  Capacity Choice Model\n",
    " * dem ic05    --  Cash Management Model\n",
    " * dem ic06    --  Fish Harvest Model"
   ]
  },
  {
   "cell_type": "markdown",
   "metadata": {},
   "source": [
    "## Financial Asset Pricing\n",
    " * dem fin01   --  Cox-Ingersoll-Ross Bond Pricing Model\n",
    " * dem fin02   --  Black-Scholes Option Pricing Model\n",
    " * dem fin04   --  American Put Option Pricing\n",
    " * dem fin05   --  Barrier Option Pricing\n",
    " * dem fin06   --  Compound Bond Option Pricing\n",
    " * dem fin07   --  Asian Option Pricing\n",
    " * dem fin08   --  Affine Asset Pricing\n",
    " * dem fin09   --  Financial Asset Calibration"
   ]
  }
 ],
 "metadata": {
  "kernelspec": {
   "display_name": "Python 3",
   "language": "python",
   "name": "python3"
  },
  "language_info": {
   "codemirror_mode": {
    "name": "ipython",
    "version": 3
   },
   "file_extension": ".py",
   "mimetype": "text/x-python",
   "name": "python",
   "nbconvert_exporter": "python",
   "pygments_lexer": "ipython3",
   "version": "3.6.2"
  }
 },
 "nbformat": 4,
 "nbformat_minor": 1
}
