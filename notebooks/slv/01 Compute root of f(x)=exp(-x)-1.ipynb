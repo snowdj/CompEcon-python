{
 "cells": [
  {
   "cell_type": "markdown",
   "metadata": {},
   "source": [
    "### DEMSLV01 "
   ]
  },
  {
   "cell_type": "markdown",
   "metadata": {},
   "source": [
    "# Compute root of $f(x)=\\exp(-x)-1$"
   ]
  },
  {
   "cell_type": "markdown",
   "metadata": {},
   "source": [
    "Compute root of $f(x)=\\exp(-x)-1$ using Newton and secant methods. Initial value generated randomly. True root is $x=0$."
   ]
  },
  {
   "cell_type": "code",
   "execution_count": 1,
   "metadata": {},
   "outputs": [],
   "source": [
    "from demos.setup import np, plt, tic, toc\n",
    "from numpy.linalg import norm\n",
    "from compecon import NLP\n",
    "%matplotlib inline"
   ]
  },
  {
   "cell_type": "markdown",
   "metadata": {},
   "source": [
    "### Set up the problem"
   ]
  },
  {
   "cell_type": "code",
   "execution_count": 2,
   "metadata": {
    "collapsed": true
   },
   "outputs": [],
   "source": [
    "def f(x):\n",
    "    fval = np.exp(-x) - 1\n",
    "    fjac = -np.exp(-x)\n",
    "    return fval, fjac\n",
    "\n",
    "problem = NLP(f, all_x=True)"
   ]
  },
  {
   "cell_type": "markdown",
   "metadata": {},
   "source": [
    "### Randomly generate starting point"
   ]
  },
  {
   "cell_type": "code",
   "execution_count": 3,
   "metadata": {
    "collapsed": true
   },
   "outputs": [],
   "source": [
    "problem.x0 = 10 * np.random.randn(1)"
   ]
  },
  {
   "cell_type": "markdown",
   "metadata": {},
   "source": [
    "### Compute root using Newton method"
   ]
  },
  {
   "cell_type": "code",
   "execution_count": 4,
   "metadata": {
    "collapsed": true
   },
   "outputs": [],
   "source": [
    "t0 = tic()\n",
    "x1 = problem.newton()\n",
    "t1 = 100 * toc(t0)\n",
    "n1, x_newton = problem.fnorm, problem.x_sequence"
   ]
  },
  {
   "cell_type": "markdown",
   "metadata": {},
   "source": [
    "### Compute root using Broyden method"
   ]
  },
  {
   "cell_type": "code",
   "execution_count": 5,
   "metadata": {},
   "outputs": [],
   "source": [
    "t0 = tic()\n",
    "x2 = problem.broyden()\n",
    "t2 = 100 * toc(t0)\n",
    "n2, x_broyden = problem.fnorm, problem.x_sequence"
   ]
  },
  {
   "cell_type": "markdown",
   "metadata": {},
   "source": [
    "### Print results"
   ]
  },
  {
   "cell_type": "code",
   "execution_count": 6,
   "metadata": {},
   "outputs": [
    {
     "name": "stdout",
     "output_type": "stream",
     "text": [
      "Hundredths of seconds required to compute root of exp(-x)-1,\n",
      "via Newton and Broyden methods, starting at x = -5.52.\n",
      "\n",
      "Method      Time   Norm of f   Final x\n",
      "Newton      0.47       1e-14     -0.00\n",
      "Broyden     0.00       7e-09     -0.00\n"
     ]
    }
   ],
   "source": [
    "print('Hundredths of seconds required to compute root of exp(-x)-1,')\n",
    "print('via Newton and Broyden methods, starting at x = %4.2f.' % problem.x0)\n",
    "print('\\nMethod      Time   Norm of f   Final x')\n",
    "print('Newton  %8.2f    %8.0e     %5.2f' % (t1, n1, x1))\n",
    "print('Broyden %8.2f    %8.0e     %5.2f' % (t2, n2, x2))"
   ]
  },
  {
   "cell_type": "markdown",
   "metadata": {},
   "source": [
    "### View current options for solver"
   ]
  },
  {
   "cell_type": "code",
   "execution_count": 7,
   "metadata": {},
   "outputs": [
    {
     "name": "stdout",
     "output_type": "stream",
     "text": [
      "Options for solving a NLP:\n",
      "\n",
      "\t    all_x = True\n",
      "\t    initb = None\n",
      "\t    initi = False\n",
      "\t    maxit = 100\n",
      "\t maxsteps = 10\n",
      "\t   method = broyden\n",
      "\t    print = False\n",
      "\t      tol = 1.49011611938e-08\n",
      "\ttransform = ssmooth\n",
      "\n"
     ]
    }
   ],
   "source": [
    "print(problem.opts)"
   ]
  },
  {
   "cell_type": "markdown",
   "metadata": {},
   "source": [
    "# Describe the options"
   ]
  },
  {
   "cell_type": "code",
   "execution_count": 8,
   "metadata": {},
   "outputs": [
    {
     "name": "stdout",
     "output_type": "stream",
     "text": [
      " A container for options to find a zero for a NLP or MCP\n",
      "\n",
      "    Attributes: default in brackets\n",
      "        method:     either ['newton'] or 'broyden'\n",
      "        maxit:      maximum number of iterations [100]\n",
      "        maxsteps:   maximum number of backsteps [10]\n",
      "        tol:        convergence tolerance [sqrt(machine eps)]\n",
      "        initb:      an initial inverse Jacobian aprroximation matrix [None]\n",
      "        initi:      if True, use the identity matrix to initialize Jacobian,\n",
      "                    if [False], a numerical Jacobian will be used\n",
      "        transform:  either ['ssmooth'] or 'minmax', required for MC problems\n",
      "        print: print to screen if [True], quiet if False\n",
      "        all_x:      whether to output the full solution sequence too [False]\n",
      "    \n"
     ]
    }
   ],
   "source": [
    "print(problem.opts.__doc__)"
   ]
  },
  {
   "cell_type": "markdown",
   "metadata": {},
   "source": [
    "### Plot the convergence"
   ]
  },
  {
   "cell_type": "code",
   "execution_count": 9,
   "metadata": {},
   "outputs": [
    {
     "data": {
      "image/png": "[encoded data removed]",
      "text/plain": [
       "<matplotlib.figure.Figure at 0x1cdbdabc550>"
      ]
     },
     "metadata": {},
     "output_type": "display_data"
    }
   ],
   "source": [
    "b = -abs(problem.x0)\n",
    "a = -b\n",
    "xx = np.linspace(a, b, 100)\n",
    "\n",
    "fig = plt.figure()\n",
    "plt.hlines(0, a, b, 'gray')\n",
    "plt.plot(xx, f(xx)[0], 'b-', alpha=0.4)\n",
    "plt.plot(x_newton,f(x_newton)[0],'ro:', alpha=0.4)\n",
    "plt.show()"
   ]
  }
 ],
 "metadata": {
  "kernelspec": {
   "display_name": "Python 3",
   "language": "python",
   "name": "python3"
  },
  "language_info": {
   "codemirror_mode": {
    "name": "ipython",
    "version": 3
   },
   "file_extension": ".py",
   "mimetype": "text/x-python",
   "name": "python",
   "nbconvert_exporter": "python",
   "pygments_lexer": "ipython3",
   "version": "3.6.1"
  }
 },
 "nbformat": 4,
 "nbformat_minor": 1
}
