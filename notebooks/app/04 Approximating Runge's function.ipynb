{
 "cells": [
  {
   "cell_type": "markdown",
   "metadata": {},
   "source": [
    "<center>\n",
    "<b>CompEcon Toolbox:</b>\n",
    "<div style=\"font-size:175%;color:white; background-color: #0064b0;\">DemApp04</div>\n",
    "<div style=\"font-size:250%;color:white; background-color: #0064b0;\">Approximating Runge's function</div>\n",
    "\n",
    "<b>Randall Romero Aguilar, PhD</b>\n",
    "<br><br>\n",
    "\n",
    "</center>\n",
    "\n",
    "This demo is based on the original Matlab demo accompanying the  <a href=\"https://mitpress.mit.edu/books/applied-computational-economics-and-finance\">Computational Economics and Finance</a> 2001 textbook by Mario Miranda and Paul Fackler.\n",
    "\n",
    "\n",
    "<i>Last updated: 2020-Sep-08</i>"
   ]
  },
  {
   "cell_type": "markdown",
   "metadata": {},
   "source": [
    "## About\n",
    "\n",
    "Uniform-node and Chebyshev-node polynomial approximation of Runge's function and compute condition numbers of associated interpolation matrices"
   ]
  },
  {
   "cell_type": "markdown",
   "metadata": {},
   "source": [
    "## Initial tasks"
   ]
  },
  {
   "cell_type": "code",
   "execution_count": null,
   "metadata": {},
   "outputs": [],
   "source": [
    "if 'google.colab' in str(get_ipython()):\n",
    "    print(\"This notebook is running on Google Colab. Installing the compecon package.\")\n",
    "    !pip install compecon"
   ]
  },
  {
   "cell_type": "code",
   "execution_count": null,
   "metadata": {},
   "outputs": [],
   "source": [
    "import numpy as np\n",
    "import matplotlib.pyplot as plt\n",
    "from numpy.linalg import norm, cond\n",
    "from compecon import BasisChebyshev, demo\n",
    "import warnings\n",
    "\n",
    "warnings.simplefilter('ignore')"
   ]
  },
  {
   "cell_type": "markdown",
   "metadata": {},
   "source": [
    "### Runge function"
   ]
  },
  {
   "cell_type": "code",
   "execution_count": null,
   "metadata": {},
   "outputs": [],
   "source": [
    "runge = lambda x: 1 / (1 + 25 * x ** 2)"
   ]
  },
  {
   "cell_type": "markdown",
   "metadata": {},
   "source": [
    "Set points of approximation interval"
   ]
  },
  {
   "cell_type": "code",
   "execution_count": null,
   "metadata": {},
   "outputs": [],
   "source": [
    "a, b = -1, 1"
   ]
  },
  {
   "cell_type": "markdown",
   "metadata": {},
   "source": [
    "Construct plotting grid"
   ]
  },
  {
   "cell_type": "code",
   "execution_count": null,
   "metadata": {},
   "outputs": [],
   "source": [
    "nplot = 1001\n",
    "x = np.linspace(a, b, nplot)\n",
    "y = runge(x)"
   ]
  },
  {
   "cell_type": "markdown",
   "metadata": {},
   "source": [
    "## Plot Runge's Function"
   ]
  },
  {
   "cell_type": "markdown",
   "metadata": {},
   "source": [
    "Initialize data matrices"
   ]
  },
  {
   "cell_type": "code",
   "execution_count": null,
   "metadata": {},
   "outputs": [],
   "source": [
    "n = np.arange(3, 33, 2)\n",
    "nn = n.size\n",
    "errunif, errcheb = (np.zeros([nn, nplot]) for k in range(2))\n",
    "nrmunif, nrmcheb, conunif, concheb = (np.zeros(nn) for k in range(4))"
   ]
  },
  {
   "cell_type": "markdown",
   "metadata": {},
   "source": [
    "Compute approximation errors on refined grid and interpolation matrix condition numbers"
   ]
  },
  {
   "cell_type": "code",
   "execution_count": null,
   "metadata": {},
   "outputs": [],
   "source": [
    "for i in range(nn):\n",
    "    # Uniform-node monomial-basis approximant\n",
    "    xnodes = np.linspace(a, b, n[i])\n",
    "    c = np.polyfit(xnodes, runge(xnodes), n[i])\n",
    "    yfit = np.polyval(c, x)\n",
    "    phi = xnodes.reshape(-1, 1) ** np.arange(n[i])\n",
    "\n",
    "    errunif[i] = yfit - y\n",
    "    nrmunif[i] = np.log10(norm(yfit - y, np.inf))\n",
    "    conunif[i] = np.log10(cond(phi, 2))\n",
    "\n",
    "    # Chebychev-node Chebychev-basis approximant\n",
    "    yapprox = BasisChebyshev(n[i], a, b, f=runge)\n",
    "    yfit = yapprox(x)  # [0] no longer needed?  # index zero is to eliminate one dimension\n",
    "    phi = yapprox.Phi()\n",
    "    errcheb[i] = yfit - y\n",
    "    nrmcheb[i] = np.log10(norm(yfit - y, np.inf))\n",
    "    concheb[i] = np.log10(cond(phi, 2))"
   ]
  },
  {
   "cell_type": "markdown",
   "metadata": {},
   "source": [
    "Plot Chebychev- and uniform node polynomial approximation errors"
   ]
  },
  {
   "cell_type": "code",
   "execution_count": null,
   "metadata": {},
   "outputs": [],
   "source": [
    "figs = []\n",
    "fig1, ax = plt.subplots()\n",
    "ax.plot(x, y)\n",
    "ax.text(-0.8, 0.8, r'$y = \\frac{1}{1+25x^2}$', fontsize=18)\n",
    "ax.set(xticks=[], title=\"Runge's Function\", xlabel='', ylabel='y');\n",
    "figs.append(fig1)"
   ]
  },
  {
   "cell_type": "code",
   "execution_count": null,
   "metadata": {},
   "outputs": [],
   "source": [
    "fig2, ax = plt.subplots()\n",
    "ax.hlines(0, a, b, 'gray', '--')\n",
    "ax.plot(x, errcheb[4], label='Chebychev Nodes')\n",
    "ax.plot(x, errunif[4], label='Uniform Nodes')\n",
    "ax.legend(loc='upper center')\n",
    "ax.set(title=\"Runge's Function $11^{th}$-Degree\\nPolynomial Approximation Error.\", xlabel='x', ylabel='Error')\n",
    "figs.append(fig2)"
   ]
  },
  {
   "cell_type": "markdown",
   "metadata": {},
   "source": [
    "Plot approximation error per degree of approximation"
   ]
  },
  {
   "cell_type": "code",
   "execution_count": null,
   "metadata": {},
   "outputs": [],
   "source": [
    "fig3, ax = plt.subplots()\n",
    "ax.plot(n, nrmcheb, label='Chebychev Nodes')\n",
    "ax.plot(n, nrmunif, label='Uniform Nodes')\n",
    "ax.legend(loc='upper left')\n",
    "ax.set(title=\"Log10 Polynomial Approximation Error for Runge's Function\",xlabel='', ylabel='Log10 Error', xticks=[])\n",
    "figs.append(fig3)"
   ]
  },
  {
   "cell_type": "code",
   "execution_count": null,
   "metadata": {},
   "outputs": [],
   "source": [
    "fig4, ax = plt.subplots()\n",
    "ax.plot(n, concheb, label='Chebychev Polynomial Basis')\n",
    "ax.plot(n, conunif, label='Mononomial Basis')\n",
    "ax.legend(loc='upper left')\n",
    "ax.set(title=\"Log10 Interpolation Matrix Condition Number\",\n",
    "       xlabel='Degree of Approximating Polynomial',\n",
    "       ylabel='Log10 Condition Number')\n",
    "figs.append(fig4)"
   ]
  },
  {
   "cell_type": "markdown",
   "metadata": {},
   "source": [
    "### Save all figures to disc"
   ]
  },
  {
   "cell_type": "code",
   "execution_count": null,
   "metadata": {},
   "outputs": [],
   "source": [
    "#demo.savefig(figs, name='demapp04')"
   ]
  }
 ],
 "metadata": {
  "kernelspec": {
   "display_name": "Python 3",
   "language": "python",
   "name": "python3"
  },
  "language_info": {
   "codemirror_mode": {
    "name": "ipython",
    "version": 3
   },
   "file_extension": ".py",
   "mimetype": "text/x-python",
   "name": "python",
   "nbconvert_exporter": "python",
   "pygments_lexer": "ipython3",
   "version": "3.8.3"
  },
  "nteract": {
   "version": "0.21.0"
  }
 },
 "nbformat": 4,
 "nbformat_minor": 4
}
