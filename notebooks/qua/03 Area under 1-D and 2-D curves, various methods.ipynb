{
 "cells": [
  {
   "cell_type": "markdown",
   "metadata": {},
   "source": [
    "### DEMQUA03\n",
    "# Area under 1-D and 2-D curves, various methods\n",
    "\n",
    "Uni- and bi-vaiariate integration using Newton-Cotes, Gaussian, Monte Carlo, and quasi-Monte Carlo quadrature methods."
   ]
  },
  {
   "cell_type": "code",
   "execution_count": 1,
   "metadata": {},
   "outputs": [],
   "source": [
    "import numpy as np\n",
    "from compecon import qnwtrap, qnwsimp, qnwlege, demo\n",
    "import matplotlib.pyplot as plt\n",
    "import pandas as pd"
   ]
  },
  {
   "cell_type": "code",
   "execution_count": 2,
   "metadata": {},
   "outputs": [],
   "source": [
    "quadmethods = [qnwtrap, qnwsimp, qnwlege]"
   ]
  },
  {
   "cell_type": "markdown",
   "metadata": {},
   "source": [
    "### Make support function"
   ]
  },
  {
   "cell_type": "code",
   "execution_count": 3,
   "metadata": {},
   "outputs": [],
   "source": [
    "a, b = -1, 1\n",
    "nlist = [5, 11, 21, 31]\n",
    "N = len(nlist)\n",
    "\n",
    "def quad(func, qnw, n):\n",
    "    xi, wi = qnw(n,a,b)\n",
    "    return np.dot(func(xi),wi)"
   ]
  },
  {
   "cell_type": "markdown",
   "metadata": {},
   "source": [
    "## Evaluating $\\int_{-1}^1e^{-x}dx$"
   ]
  },
  {
   "cell_type": "code",
   "execution_count": 4,
   "metadata": {},
   "outputs": [],
   "source": [
    "def f(x):\n",
    "    return np.exp(-x)\n",
    "\n",
    "f_quad = np.array([[quad(f, qnw, ni) for qnw in quadmethods] for ni in nlist])\n",
    "f_true = np.exp(1) - 1/np.exp(1)\n",
    "f_error = np.log10(np.abs(f_quad/f_true - 1))\n"
   ]
  },
  {
   "cell_type": "markdown",
   "metadata": {},
   "source": [
    "## Evaluating $\\int_{-1}^1\\sqrt{|x|}dx$"
   ]
  },
  {
   "cell_type": "code",
   "execution_count": 5,
   "metadata": {},
   "outputs": [],
   "source": [
    "def g(x):\n",
    "    return np.sqrt(np.abs(x))\n",
    "\n",
    "g_quad = np.array([[quad(g, qnw, ni) for qnw in quadmethods] for ni in nlist])\n",
    "g_true = 4/3\n",
    "g_error = np.log10(np.abs(g_quad/g_true - 1))"
   ]
  },
  {
   "cell_type": "markdown",
   "metadata": {},
   "source": [
    "## Make table with results"
   ]
  },
  {
   "cell_type": "code",
   "execution_count": 6,
   "metadata": {
    "scrolled": true
   },
   "outputs": [
    {
     "data": {
      "text/html": [
       "<div>\n",
       "<style scoped>\n",
       "    .dataframe tbody tr th:only-of-type {\n",
       "        vertical-align: middle;\n",
       "    }\n",
       "\n",
       "    .dataframe tbody tr th {\n",
       "        vertical-align: top;\n",
       "    }\n",
       "\n",
       "    .dataframe thead th {\n",
       "        text-align: right;\n",
       "    }\n",
       "</style>\n",
       "<table border=\"1\" class=\"dataframe\">\n",
       "  <thead>\n",
       "    <tr style=\"text-align: right;\">\n",
       "      <th></th>\n",
       "      <th></th>\n",
       "      <th>Trapezoid rule</th>\n",
       "      <th>Simpson's rule</th>\n",
       "      <th>Gauss-Legendre</th>\n",
       "    </tr>\n",
       "    <tr>\n",
       "      <th>Integral</th>\n",
       "      <th>Nodes n</th>\n",
       "      <th></th>\n",
       "      <th></th>\n",
       "      <th></th>\n",
       "    </tr>\n",
       "  </thead>\n",
       "  <tbody>\n",
       "    <tr>\n",
       "      <th rowspan=\"4\" valign=\"top\">$\\int_{-1}^1e^{-x}dx$</th>\n",
       "      <th>5</th>\n",
       "      <td>-1.683044</td>\n",
       "      <td>-3.472173</td>\n",
       "      <td>-9.454795</td>\n",
       "    </tr>\n",
       "    <tr>\n",
       "      <th>11</th>\n",
       "      <td>-2.477411</td>\n",
       "      <td>-5.053217</td>\n",
       "      <td>-14.273349</td>\n",
       "    </tr>\n",
       "    <tr>\n",
       "      <th>21</th>\n",
       "      <td>-3.079254</td>\n",
       "      <td>-6.255789</td>\n",
       "      <td>-14.653560</td>\n",
       "    </tr>\n",
       "    <tr>\n",
       "      <th>31</th>\n",
       "      <td>-3.431396</td>\n",
       "      <td>-6.959867</td>\n",
       "      <td>-inf</td>\n",
       "    </tr>\n",
       "    <tr>\n",
       "      <th rowspan=\"4\" valign=\"top\">$\\int_{-1}^1\\sqrt{|x|}dx$</th>\n",
       "      <th>5</th>\n",
       "      <td>-1.023788</td>\n",
       "      <td>-1.367611</td>\n",
       "      <td>-0.870112</td>\n",
       "    </tr>\n",
       "    <tr>\n",
       "      <th>11</th>\n",
       "      <td>-1.595301</td>\n",
       "      <td>-1.347900</td>\n",
       "      <td>-1.351241</td>\n",
       "    </tr>\n",
       "    <tr>\n",
       "      <th>21</th>\n",
       "      <td>-2.034517</td>\n",
       "      <td>-2.414470</td>\n",
       "      <td>-1.758970</td>\n",
       "    </tr>\n",
       "    <tr>\n",
       "      <th>31</th>\n",
       "      <td>-2.293296</td>\n",
       "      <td>-2.063539</td>\n",
       "      <td>-2.007803</td>\n",
       "    </tr>\n",
       "  </tbody>\n",
       "</table>\n",
       "</div>"
      ],
      "text/plain": [
       "                                   Trapezoid rule  Simpson's rule  \\\n",
       "Integral                  Nodes n                                   \n",
       "$\\int_{-1}^1e^{-x}dx$     5             -1.683044       -3.472173   \n",
       "                          11            -2.477411       -5.053217   \n",
       "                          21            -3.079254       -6.255789   \n",
       "                          31            -3.431396       -6.959867   \n",
       "$\\int_{-1}^1\\sqrt{|x|}dx$ 5             -1.023788       -1.367611   \n",
       "                          11            -1.595301       -1.347900   \n",
       "                          21            -2.034517       -2.414470   \n",
       "                          31            -2.293296       -2.063539   \n",
       "\n",
       "                                   Gauss-Legendre  \n",
       "Integral                  Nodes n                  \n",
       "$\\int_{-1}^1e^{-x}dx$     5             -9.454795  \n",
       "                          11           -14.273349  \n",
       "                          21           -14.653560  \n",
       "                          31                 -inf  \n",
       "$\\int_{-1}^1\\sqrt{|x|}dx$ 5             -0.870112  \n",
       "                          11            -1.351241  \n",
       "                          21            -1.758970  \n",
       "                          31            -2.007803  "
      ]
     },
     "execution_count": 6,
     "metadata": {},
     "output_type": "execute_result"
    }
   ],
   "source": [
    "results = pd.DataFrame(np.r_[f_error,g_error])\n",
    "\n",
    "results.columns=['Trapezoid rule', \"Simpson's rule\", 'Gauss-Legendre']\n",
    "results['Integral'] = [r'$\\int_{-1}^1e^{-x}dx$']*N + [r'$\\int_{-1}^1\\sqrt{|x|}dx$']*N\n",
    "results['Nodes n'] = nlist*2\n",
    "results.set_index(['Integral', 'Nodes n'], inplace=True)\n",
    "results"
   ]
  },
  {
   "cell_type": "markdown",
   "metadata": {},
   "source": [
    "## Plot the functions"
   ]
  },
  {
   "cell_type": "code",
   "execution_count": 7,
   "metadata": {},
   "outputs": [
    {
     "data": {
      "text/plain": [
       "([<matplotlib.axis.YTick at 0x26272daec88>],\n",
       " <a list of 1 Text yticklabel objects>)"
      ]
     },
     "execution_count": 7,
     "metadata": {},
     "output_type": "execute_result"
    },
    {
     "data": {
      "image/png": "[encoded data removed]",
      "text/plain": [
       "<matplotlib.figure.Figure at 0x26272f3f630>"
      ]
     },
     "metadata": {},
     "output_type": "display_data"
    }
   ],
   "source": [
    "a, b, n = -1, 1, 301\n",
    "x = np.linspace(a, b, n)\n",
    "\n",
    "plt.figure(figsize=[10,4])\n",
    "demo.subplot(1, 2, 1, '$e^{-x}$','','',[a,b],[0,f(a)])\n",
    "plt.plot(x, f(x), linewidth=3)\n",
    "plt.xticks([-1,0,1])\n",
    "plt.yticks([0])\n",
    "\n",
    "demo.subplot(1, 2, 2, '$\\sqrt{|x|}$','','',[a,b],[0,g(a)])\n",
    "plt.plot(x, g(x), linewidth=3)\n",
    "plt.xticks([-1,0,1])\n",
    "plt.yticks([0])\n"
   ]
  },
  {
   "cell_type": "code",
   "execution_count": 8,
   "metadata": {
    "scrolled": true
   },
   "outputs": [],
   "source": [
    "#results.to_latex('figures/demqua03.tex', escape=False, float_format='%.1f')\n",
    "#demo.savefig([plt.gcf()])"
   ]
  }
 ],
 "metadata": {
  "kernelspec": {
   "display_name": "Python 3",
   "language": "python",
   "name": "python3"
  },
  "language_info": {
   "codemirror_mode": {
    "name": "ipython",
    "version": 3
   },
   "file_extension": ".py",
   "mimetype": "text/x-python",
   "name": "python",
   "nbconvert_exporter": "python",
   "pygments_lexer": "ipython3",
   "version": "3.6.4"
  }
 },
 "nbformat": 4,
 "nbformat_minor": 2
}
