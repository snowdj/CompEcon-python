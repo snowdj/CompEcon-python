{
 "cells": [
  {
   "cell_type": "markdown",
   "metadata": {},
   "source": [
    "<center>\n",
    "<b>CompEcon Toolbox:</b>\n",
    "<div style=\"font-size:175%;color:white; background-color: #0064b0;\">DemApp05</div>\n",
    "<div style=\"font-size:250%;color:white; background-color: #0064b0;\">Chebychev polynomial and spline approximantion of various functions</div>\n",
    "\n",
    "<b>Randall Romero Aguilar, PhD</b>\n",
    "<br><br>\n",
    "\n",
    "</center>\n",
    "\n",
    "This demo is based on the original Matlab demo accompanying the  <a href=\"https://mitpress.mit.edu/books/applied-computational-economics-and-finance\">Computational Economics and Finance</a> 2001 textbook by Mario Miranda and Paul Fackler.\n",
    "\n",
    "\n",
    "<i>Last updated: 2020-Sep-08</i>"
   ]
  },
  {
   "cell_type": "markdown",
   "metadata": {},
   "source": [
    "## About"
   ]
  },
  {
   "cell_type": "markdown",
   "metadata": {},
   "source": [
    "Demonstrates Chebychev polynomial, cubic spline, and linear spline approximation for the following functions\n",
    "\\begin{align}\n",
    "    y &= 1 + x + 2x^2 - 3x^3 \\\\\n",
    "    y &= \\exp(-x) \\\\\n",
    "    y &= \\frac{1}{1+25x^2} \\\\\n",
    "    y &= \\sqrt{|x|} \n",
    "\\end{align}"
   ]
  },
  {
   "cell_type": "markdown",
   "metadata": {},
   "source": [
    "## Initial tasks"
   ]
  },
  {
   "cell_type": "code",
   "execution_count": null,
   "metadata": {},
   "outputs": [],
   "source": [
    "if 'google.colab' in str(get_ipython()):\n",
    "    print(\"This notebook is running on Google Colab. Installing the compecon package.\")\n",
    "    !pip install compecon"
   ]
  },
  {
   "cell_type": "code",
   "execution_count": null,
   "metadata": {},
   "outputs": [],
   "source": [
    "import numpy as np\n",
    "import pandas as pd\n",
    "import matplotlib.pyplot as plt\n",
    "from compecon import BasisChebyshev, BasisSpline, nodeunif"
   ]
  },
  {
   "cell_type": "markdown",
   "metadata": {},
   "source": [
    "### Functions to be approximated"
   ]
  },
  {
   "cell_type": "code",
   "execution_count": null,
   "metadata": {},
   "outputs": [],
   "source": [
    "funcs = [lambda x: 1 + x + 2 * x ** 2 - 3 * x ** 3,\n",
    "         lambda x: np.exp(-x),\n",
    "         lambda x: 1 / ( 1 + 25 * x ** 2),\n",
    "         lambda x: np.sqrt(np.abs(x))]\n",
    "\n",
    "fst = ['$y = 1 + x + 2x^2 - 3x^3$', '$y = \\exp(-x)$', \n",
    "       '$y = 1/(1+25x^2)$', '$y = \\sqrt{|x|}$']"
   ]
  },
  {
   "cell_type": "markdown",
   "metadata": {},
   "source": [
    "Set degree of approximation and endpoints of approximation interval"
   ]
  },
  {
   "cell_type": "code",
   "execution_count": null,
   "metadata": {},
   "outputs": [],
   "source": [
    "n = 7   # degree of approximation\n",
    "a = -1  # left endpoint\n",
    "b = 1   # right endpoint"
   ]
  },
  {
   "cell_type": "markdown",
   "metadata": {},
   "source": [
    "Construct uniform grid for error ploting"
   ]
  },
  {
   "cell_type": "code",
   "execution_count": null,
   "metadata": {},
   "outputs": [],
   "source": [
    "x = np.linspace(a, b, 2001)"
   ]
  },
  {
   "cell_type": "code",
   "execution_count": null,
   "metadata": {},
   "outputs": [],
   "source": [
    "def subfig(f,  title):\n",
    "   \n",
    "    # Construct interpolants\n",
    "    C = BasisChebyshev(n, a, b, f=f)\n",
    "    S = BasisSpline(n, a, b, f=f)\n",
    "    L = BasisSpline(n, a, b, k=1, f=f)\n",
    "    \n",
    "    data = pd.DataFrame({\n",
    "        'actual': f(x),\n",
    "        'Chebyshev': C(x),\n",
    "        'Cubic Spline': S(x),\n",
    "        'Linear Spline': L(x)},\n",
    "        index = x)\n",
    "\n",
    "    fig1, axs = plt.subplots(2,2, figsize=[12,6], sharex=True, sharey=True)\n",
    "    fig1.suptitle(title)    \n",
    "    data.plot(ax=axs, subplots=True)\n",
    "\n",
    "    errors = data[['Chebyshev', 'Cubic Spline']].subtract(data['actual'], axis=0)\n",
    "    \n",
    "    fig2, ax = plt.subplots(figsize=[12,3])\n",
    "    fig2.suptitle(\"Approximation Error\")    \n",
    "    errors.plot(ax=ax)\n",
    "    \n"
   ]
  },
  {
   "cell_type": "markdown",
   "metadata": {},
   "source": [
    "## Polynomial \n",
    "$y = 1 + x + 2x^2 - 3x^3$"
   ]
  },
  {
   "cell_type": "code",
   "execution_count": null,
   "metadata": {},
   "outputs": [],
   "source": [
    "subfig(lambda x: 1 + x + 2*x**2 - 3*x**3, '$y = 1 + x + 2x^2 - 3x^3$')"
   ]
  },
  {
   "cell_type": "markdown",
   "metadata": {},
   "source": [
    "## Exponential\n",
    "$y = \\exp(-x)$"
   ]
  },
  {
   "cell_type": "code",
   "execution_count": null,
   "metadata": {},
   "outputs": [],
   "source": [
    "subfig(lambda x: np.exp(-x),'$y = \\exp(-x)$')"
   ]
  },
  {
   "cell_type": "markdown",
   "metadata": {},
   "source": [
    "## Rational\n",
    "$y = 1/(1+25x^2)$"
   ]
  },
  {
   "cell_type": "code",
   "execution_count": null,
   "metadata": {},
   "outputs": [],
   "source": [
    "subfig(lambda x: 1 / ( 1 + 25 * x ** 2),'$y = 1/(1+25x^2)$')"
   ]
  },
  {
   "cell_type": "markdown",
   "metadata": {},
   "source": [
    "## Kinky\n",
    "$y = \\sqrt{|x|}$"
   ]
  },
  {
   "cell_type": "code",
   "execution_count": null,
   "metadata": {},
   "outputs": [],
   "source": [
    "subfig(lambda x: np.sqrt(np.abs(x)), '$y = \\sqrt{|x|}$')"
   ]
  }
 ],
 "metadata": {
  "kernelspec": {
   "display_name": "Python 3",
   "language": "python",
   "name": "python3"
  },
  "language_info": {
   "codemirror_mode": {
    "name": "ipython",
    "version": 3
   },
   "file_extension": ".py",
   "mimetype": "text/x-python",
   "name": "python",
   "nbconvert_exporter": "python",
   "pygments_lexer": "ipython3",
   "version": "3.8.3"
  }
 },
 "nbformat": 4,
 "nbformat_minor": 4
}
