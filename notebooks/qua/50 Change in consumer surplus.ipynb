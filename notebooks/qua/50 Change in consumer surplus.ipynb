{
 "cells": [
  {
   "cell_type": "markdown",
   "metadata": {},
   "source": [
    "<center>\n",
    "<b>CompEcon Toolbox:</b>\n",
    "<div style=\"font-size:175%;color:white; background-color: #0064b0;\">DemQua50</div>\n",
    "<div style=\"font-size:250%;color:white; background-color: #0064b0;\">Change in Consumer Surplus</div>\n",
    "\n",
    "<b>Randall Romero Aguilar, PhD</b>\n",
    "<br><br>\n",
    "\n",
    "</center>\n",
    "\n",
    "This demo is based on the original Matlab demo accompanying the  <a href=\"https://mitpress.mit.edu/books/applied-computational-economics-and-finance\">Computational Economics and Finance</a> 2001 textbook by Mario Miranda and Paul Fackler.\n",
    "\n",
    "\n",
    "<i>Last updated: 2020-Sep-10</i>"
   ]
  },
  {
   "cell_type": "markdown",
   "metadata": {},
   "source": [
    "## Initial tasks"
   ]
  },
  {
   "cell_type": "code",
   "execution_count": null,
   "metadata": {},
   "outputs": [],
   "source": [
    "if 'google.colab' in str(get_ipython()):\n",
    "    print(\"This notebook is running on Google Colab. Installing the compecon package.\")\n",
    "    !pip install compecon"
   ]
  },
  {
   "cell_type": "code",
   "execution_count": null,
   "metadata": {},
   "outputs": [],
   "source": [
    "from compecon import demo, qnwlege\n",
    "import numpy as np\n",
    "import matplotlib.pyplot as plt"
   ]
  },
  {
   "cell_type": "markdown",
   "metadata": {},
   "source": [
    "## Define inverse demand curve"
   ]
  },
  {
   "cell_type": "code",
   "execution_count": null,
   "metadata": {},
   "outputs": [],
   "source": [
    "f = lambda p: 0.15*p**(-1.25)\n",
    "p, w = qnwlege(11, 0.3, 0.7)\n",
    "change = w.dot(f(p))\n",
    "change"
   ]
  },
  {
   "cell_type": "markdown",
   "metadata": {},
   "source": [
    "## Make figure"
   ]
  },
  {
   "cell_type": "code",
   "execution_count": null,
   "metadata": {},
   "outputs": [],
   "source": [
    "# Initiate figure\n",
    "fig0, ax = plt.subplots()\n",
    "\n",
    "# Set plotting parameters\n",
    "n = 1001\n",
    "qmin, qmax = 0, 1\n",
    "pmin, pmax = 0, 1\n",
    "p1, p2 = 0.7, 0.3\n",
    "\n",
    "q1 = f(p1)\n",
    "q2 = f(p2)\n",
    "\n",
    "# Plot area under inverse demand curve\n",
    "p = np.linspace(0,pmax, n)\n",
    "q = f(p)\n",
    "\n",
    "par = np.linspace(p2,p1, n)\n",
    "ax.fill_betweenx(par, f(par), qmin, alpha=0.35, color='LightSkyBlue')\n",
    "\n",
    "# Plot inverse demand curve\n",
    "ax.plot(q,p)\n",
    "\n",
    "# Annotate figure\n",
    "\n",
    "ax.hlines([p1, p2], qmin, [q1, q2], linestyles=':', colors='gray')\n",
    "ax.vlines([q1, q2], pmin, [p1, p2], linestyles=':', colors='gray')\n",
    "\n",
    "ax.annotate('$p(q)$', [0.8,0.3], fontsize=14)\n",
    "\n",
    "# To compute the change in consumer surplus `numerically'\n",
    "[x,w] = qnwlege(15,p2,p1)\n",
    "intn = w.T * f(x)\n",
    "\n",
    "# To compute the change in consumer surplus `analytically'\n",
    "F = lambda p: (0.15/(1-1.25))*p**(1-1.25)\n",
    "inta = F(p1)-F(p2)\n",
    "\n",
    "ax.set_aspect('equal')\n",
    "ax.set(xlim=[qmin, qmax], xticks=[qmin,q1,q2,qmax], xticklabels=[r'$0$', r'$q_1$',r'$q_2$',r'$q$'],\n",
    "       ylim=[pmin, pmax], yticks= [p1, p2, pmax], yticklabels=[r'$p_1$', r'$p_2$', r'$p$']);"
   ]
  },
  {
   "cell_type": "code",
   "execution_count": null,
   "metadata": {},
   "outputs": [],
   "source": [
    "#demo.savefig([fig0], name='demqua50')"
   ]
  }
 ],
 "metadata": {
  "kernelspec": {
   "display_name": "Python 3",
   "language": "python",
   "name": "python3"
  },
  "language_info": {
   "codemirror_mode": {
    "name": "ipython",
    "version": 3
   },
   "file_extension": ".py",
   "mimetype": "text/x-python",
   "name": "python",
   "nbconvert_exporter": "python",
   "pygments_lexer": "ipython3",
   "version": "3.8.3"
  }
 },
 "nbformat": 4,
 "nbformat_minor": 4
}
