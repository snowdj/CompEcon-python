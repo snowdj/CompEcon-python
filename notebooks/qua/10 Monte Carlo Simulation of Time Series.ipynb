{
 "cells": [
  {
   "cell_type": "markdown",
   "metadata": {},
   "source": [
    "<center>\n",
    "<b>CompEcon Toolbox:</b>\n",
    "<div style=\"font-size:175%;color:white; background-color: #0064b0;\">DemQua10</div>\n",
    "<div style=\"font-size:250%;color:white; background-color: #0064b0;\">Monte Carlo Simulation of Time Series</div>\n",
    "\n",
    "<b>Randall Romero Aguilar, PhD</b>\n",
    "<br><br>\n",
    "\n",
    "</center>\n",
    "\n",
    "This demo is based on the original Matlab demo accompanying the  <a href=\"https://mitpress.mit.edu/books/applied-computational-economics-and-finance\">Computational Economics and Finance</a> 2001 textbook by Mario Miranda and Paul Fackler.\n",
    "\n",
    "\n",
    "<i>Last updated: 2020-Sep-10</i>"
   ]
  },
  {
   "cell_type": "markdown",
   "metadata": {},
   "source": [
    "## About\n",
    "Simulate time series using Monte Carlo Method."
   ]
  },
  {
   "cell_type": "markdown",
   "metadata": {},
   "source": [
    "A commodity price is governed by weekly price movements\n",
    "\\begin{equation*}\n",
    "\\log(p_{t+1}) = \\log(p_t) + \\tilde \\epsilon_t\n",
    "\\end{equation*}\n",
    "where the $\\tilde \\epsilon_t$ are i.i.d. normal with mean $\\mu=0.005$ and standard deviation $\\sigma=0.02$.\n",
    "\n",
    "To simulate three time series of T=40 weekly price changes, starting from a price of 2, execute the script"
   ]
  },
  {
   "cell_type": "markdown",
   "metadata": {},
   "source": [
    "## Initial tasks"
   ]
  },
  {
   "cell_type": "code",
   "execution_count": null,
   "metadata": {},
   "outputs": [],
   "source": [
    "if 'google.colab' in str(get_ipython()):\n",
    "    print(\"This notebook is running on Google Colab. Installing the compecon package.\")\n",
    "    !pip install compecon"
   ]
  },
  {
   "cell_type": "code",
   "execution_count": null,
   "metadata": {},
   "outputs": [],
   "source": [
    "import numpy as np\n",
    "from compecon import demo\n",
    "from scipy.stats import norm\n",
    "import matplotlib.pyplot as plt"
   ]
  },
  {
   "cell_type": "markdown",
   "metadata": {},
   "source": [
    "## Simulation"
   ]
  },
  {
   "cell_type": "code",
   "execution_count": null,
   "metadata": {},
   "outputs": [],
   "source": [
    "m, T = 3, 40\n",
    "mu, sigma = 0.005, 0.02\n",
    "e = norm.rvs(mu,sigma,size=[T,m])\n",
    "logp = np.zeros([T+1,m])\n",
    "logp[0] = np.log(2)\n",
    "for t in range(T):\n",
    "    logp[t+1] = logp[t] + e[t]"
   ]
  },
  {
   "cell_type": "markdown",
   "metadata": {},
   "source": [
    "## Make figure"
   ]
  },
  {
   "cell_type": "code",
   "execution_count": null,
   "metadata": {},
   "outputs": [],
   "source": [
    "fig, ax = plt.subplots()\n",
    "ax.set(xlabel='Week', ylabel='Price', xlim=[0,T])\n",
    "ax.plot(np.exp(logp));\n",
    "#demo.savefig([fig],name='demqua10')"
   ]
  }
 ],
 "metadata": {
  "kernelspec": {
   "display_name": "Python 3",
   "language": "python",
   "name": "python3"
  },
  "language_info": {
   "codemirror_mode": {
    "name": "ipython",
    "version": 3
   },
   "file_extension": ".py",
   "mimetype": "text/x-python",
   "name": "python",
   "nbconvert_exporter": "python",
   "pygments_lexer": "ipython3",
   "version": "3.8.3"
  }
 },
 "nbformat": 4,
 "nbformat_minor": 4
}
