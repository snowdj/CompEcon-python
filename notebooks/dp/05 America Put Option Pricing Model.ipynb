{
 "cells": [
  {
   "cell_type": "markdown",
   "metadata": {
    "Collapsed": "false"
   },
   "source": [
    "### DEMDP05 \n",
    "# American Put Option Pricing Model"
   ]
  },
  {
   "cell_type": "markdown",
   "metadata": {
    "Collapsed": "false"
   },
   "source": [
    "An American put option gives the holder the right, but not the obligation, to sell a specified quantity of a commodity at a specified strike price $K$ on or before a specified expiration period $T$. In the discrete time, continuous state Black-Scholes option pricing model, the price of the commodity follows an exogenous continuous-valued Markov process\n",
    "\\begin{equation}\n",
    "    P_{t+1} = h(P_t, \\epsilon_{t+1})\n",
    "\\end{equation}\n",
    "\n",
    "**What is the value of an American put option in period $t$ if the commodity price is $P$?** At what critical price is it optimal to exercise the put option, and how does this critical price vary over time?\n",
    "\n",
    "This is a finite horizon, stochastic model with time $t$ measured in periods. The state variables\n",
    "\\begin{align}\n",
    "    P &\\in (0,\\infty) \\\\\n",
    "    d &\\in \\{0, 1\\}\n",
    "\\end{align}\n",
    "\n",
    "are the current commodity price, a continuous variable, and the exercise status of the option, a discrete variable that equals 1 if the option has been exercised previously and equals 0 otherwise. The action variable\n",
    "\\begin{equation}\n",
    "    j \\in \\{0, 1\\}\n",
    "\\end{equation}    \n",
    "\n",
    "is the exercise decision, a discrete variable that equals 1 if the option is exercised and equals 0 otherwise. The state transition function is\n",
    "\\begin{equation}\n",
    "    g(P,d,j,\\epsilon) = \\left(h(P,\\epsilon), j\\right)\n",
    "\\end{equation}\n",
    "\n",
    "The reward function is\n",
    "\\begin{equation}\n",
    "    f(P,d,j) = \\begin{cases}K − P, &d = 0, j = 1 \\\\\n",
    "    0, &\\text{otherwise} \\end{cases}\n",
    "\\end{equation}    "
   ]
  },
  {
   "cell_type": "markdown",
   "metadata": {
    "Collapsed": "false"
   },
   "source": [
    "The value of an unexercised option in period $t$, given that the commodity price is $P$, satisfies the Bellman equation\n",
    "\\begin{equation}\n",
    "    V_t(P,0) = \\max\\left\\{K − P, \\quad\\delta E_\\epsilon V_{t+1}\\left(h(P,\\epsilon), 0\\right)\\right\\}\n",
    "\\end{equation}\n",
    "\n",
    "subject to the terminal condition $V_{T+1}(P,1) = 0$. The value of a previously exercised option is zero, regardless of the price of the commodity; that is, $V_t(P,1) = 0$ for all $P$ and $t$."
   ]
  },
  {
   "cell_type": "markdown",
   "metadata": {
    "Collapsed": "false"
   },
   "source": [
    "# Preliminary tasks"
   ]
  },
  {
   "cell_type": "code",
   "execution_count": 1,
   "metadata": {
    "Collapsed": "false"
   },
   "outputs": [],
   "source": [
    "import numpy as np\n",
    "import matplotlib.pyplot as plt\n",
    "from compecon import BasisSpline, NLP, qnwnorm, demo"
   ]
  },
  {
   "cell_type": "markdown",
   "metadata": {
    "Collapsed": "false"
   },
   "source": [
    "## FORMULATION"
   ]
  },
  {
   "cell_type": "markdown",
   "metadata": {
    "Collapsed": "false"
   },
   "source": [
    "In what follows, we are going to solve the problem in term of the log-price, defining $p\\equiv\\log(P)$. We assume that log-price of the commodity follows a random walk:\n",
    "\\begin{equation}\n",
    "    p_{t+1} = p_t + \\epsilon_{t+1}\n",
    "\\end{equation}\n",
    "\n",
    "where $\\epsilon$ is a normal $(\\mu, \\sigma^2)$ shock. We discretize this distribution by using ```qnwnorm```, assuming that $\\mu=0.0001,\\quad\\sigma=0.008$ and setting up $m=15$ nodes."
   ]
  },
  {
   "cell_type": "code",
   "execution_count": 2,
   "metadata": {
    "Collapsed": "false"
   },
   "outputs": [],
   "source": [
    "mu, sigma    = 0.0001, 0.0080\n",
    "m = 15\n",
    "[e,w] = qnwnorm(m,mu,sigma ** 2)"
   ]
  },
  {
   "cell_type": "markdown",
   "metadata": {
    "Collapsed": "false"
   },
   "source": [
    "We are going to compute the critical exercise price in terms of the time to expiration, up to an horizon of $T=300$ periods. First we allocate memory for the critical prices:"
   ]
  },
  {
   "cell_type": "code",
   "execution_count": 3,
   "metadata": {
    "Collapsed": "false"
   },
   "outputs": [],
   "source": [
    "T = 300\n",
    "pcrit = np.empty(T + 1)"
   ]
  },
  {
   "cell_type": "markdown",
   "metadata": {
    "Collapsed": "false"
   },
   "source": [
    "The critical exercise price is the price at which the value of exercising the option $K-\\exp(p)$ equals the discounted expected value of keeping the option one more period $\\delta E_\\epsilon V(p + \\epsilon)$. To find it, we set it as a nonlinear rootfinding problem by using the ```NLP``` class; here we assume that the option strike price is $K=1$ and that the discount factor is $\\delta=0.9998$"
   ]
  },
  {
   "cell_type": "code",
   "execution_count": 4,
   "metadata": {
    "Collapsed": "false"
   },
   "outputs": [],
   "source": [
    "K = 1.0\n",
    "delta = 0.9998\n",
    "f = NLP(lambda p: K - np.exp(p) - delta * Value(p))"
   ]
  },
  {
   "cell_type": "markdown",
   "metadata": {
    "Collapsed": "false"
   },
   "source": [
    "Notice that we have not defined the ```Value(p)``` function yet. This function is unknown, so we are going to approximate it with a cubic spline, setting 500 nodes between -1 and 1. Since the basis is expressed in terms of log-prices, this interval corresponds to prices between 0.3679 and 2.7183."
   ]
  },
  {
   "cell_type": "code",
   "execution_count": 5,
   "metadata": {
    "Collapsed": "false"
   },
   "outputs": [
    {
     "name": "stdout",
     "output_type": "stream",
     "text": [
      "A 1-dimension Cubic spline basis:  using 500 Canonical nodes and 500 polynomials\n",
      "___________________________________________________________________________\n",
      "\tlogprice: 500 nodes in [ -1.00,   1.00]\n",
      "\n",
      "===========================================================================\n",
      "WARNING! Class Basis is still work in progress\n"
     ]
    }
   ],
   "source": [
    "n = 500\n",
    "pmin  = -1 # minimum log price\n",
    "pmax  =  1 # maximum log price\n",
    "Value = BasisSpline(n, pmin, pmax,\n",
    "                    labels=['logprice'], l=['value'])\n",
    "print(Value)"
   ]
  },
  {
   "cell_type": "markdown",
   "metadata": {
    "Collapsed": "false"
   },
   "source": [
    "In the last expression, by passing the option `l` with a one-element list we are telling the ```BasisSpline``` class that we a single function named \"value\". On creation, the function will be set by default to $V(p)=0$ for all values of $p$, which conveniently corresponds to the terminal condition of this problem."
   ]
  },
  {
   "cell_type": "markdown",
   "metadata": {
    "Collapsed": "false"
   },
   "source": [
    "## Finding the critical exercise prices\n",
    "\n",
    "We are going to find the prices recursively, starting form a option in the expiration date. Notice that the solution to this problem is trivial: since next-period value is zero, the exercise price is $K$. Either way, we can find it numerically by calling the ```zero``` method on the `f` object."
   ]
  },
  {
   "cell_type": "code",
   "execution_count": 6,
   "metadata": {
    "Collapsed": "false"
   },
   "outputs": [],
   "source": [
    "pcrit[0] = f.zero(0.0)"
   ]
  },
  {
   "cell_type": "markdown",
   "metadata": {
    "Collapsed": "false"
   },
   "source": [
    "Next, for each possible price shock, we compute next period log-price by adding the shock to current log-prices (the nodes of the Value object). Then, we use each next-period price to compute the expected value of an option with one-period to maturity (save the values in ```v```). We update the value function to reflect the new time-to-maturity and use ```broyden``` to solve for the critical value. We repeat this procedure until we reach the $T=300$ horizon."
   ]
  },
  {
   "cell_type": "code",
   "execution_count": 7,
   "metadata": {
    "Collapsed": "false"
   },
   "outputs": [],
   "source": [
    "for t in range(T):\n",
    "    v = np.zeros((1, n))\n",
    "    for k in range(m):\n",
    "        pnext = Value.nodes + e[k]\n",
    "        v += w[k] * np.maximum(K - np.exp(pnext), delta * Value(pnext))\n",
    "\n",
    "    Value[:] = v\n",
    "    pcrit[t + 1] = f.broyden(pcrit[t])"
   ]
  },
  {
   "cell_type": "markdown",
   "metadata": {
    "Collapsed": "false"
   },
   "source": [
    "### Print Critical Exercise Price 300 Periods to Expiration"
   ]
  },
  {
   "cell_type": "code",
   "execution_count": 8,
   "metadata": {
    "Collapsed": "false"
   },
   "outputs": [
    {
     "name": "stdout",
     "output_type": "stream",
     "text": [
      "Critical Price  =  0.88\n"
     ]
    }
   ],
   "source": [
    "print('Critical Price  = %5.2f' % np.exp(pcrit[-1]))"
   ]
  },
  {
   "cell_type": "markdown",
   "metadata": {
    "Collapsed": "false"
   },
   "source": [
    "### Plot Critical Exercise Prices"
   ]
  },
  {
   "cell_type": "code",
   "execution_count": 9,
   "metadata": {
    "Collapsed": "false"
   },
   "outputs": [
    {
     "data": {
      "text/plain": [
       "[<matplotlib.lines.Line2D at 0x242b5f4e1c8>]"
      ]
     },
     "execution_count": 9,
     "metadata": {},
     "output_type": "execute_result"
    },
    {
     "data": {
      "image/png": "[encoded data removed]",
      "text/plain": [
       "<Figure size 864x432 with 1 Axes>"
      ]
     },
     "metadata": {},
     "output_type": "display_data"
    }
   ],
   "source": [
    "fig1 = demo.figure('American Put Option Optimal Exercise Boundary',\n",
    "            'Periods Remaining Until Expiration', \n",
    "            'Exercise Price')\n",
    "plt.plot(np.exp(pcrit))"
   ]
  },
  {
   "cell_type": "code",
   "execution_count": 10,
   "metadata": {
    "Collapsed": "false"
   },
   "outputs": [],
   "source": [
    "#demo.savefig([fig1])"
   ]
  }
 ],
 "metadata": {
  "kernelspec": {
   "display_name": "Python 3",
   "language": "python",
   "name": "python3"
  },
  "language_info": {
   "codemirror_mode": {
    "name": "ipython",
    "version": 3
   },
   "file_extension": ".py",
   "mimetype": "text/x-python",
   "name": "python",
   "nbconvert_exporter": "python",
   "pygments_lexer": "ipython3",
   "version": "3.7.5"
  }
 },
 "nbformat": 4,
 "nbformat_minor": 4
}
