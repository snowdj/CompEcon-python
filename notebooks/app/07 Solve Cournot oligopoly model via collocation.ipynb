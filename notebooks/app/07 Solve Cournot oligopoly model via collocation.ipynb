{
 "cells": [
  {
   "cell_type": "markdown",
   "metadata": {},
   "source": [
    "<center>\n",
    "<b>CompEcon Toolbox:</b>\n",
    "<div style=\"font-size:175%;color:white; background-color: #0064b0;\">DemApp07</div>\n",
    "<div style=\"font-size:250%;color:white; background-color: #0064b0;\">Solve Cournot oligopoly model via collocation</div>\n",
    "\n",
    "<b>Randall Romero Aguilar, PhD</b>\n",
    "<br><br>\n",
    "\n",
    "</center>\n",
    "\n",
    "This demo is based on the original Matlab demo accompanying the  <a href=\"https://mitpress.mit.edu/books/applied-computational-economics-and-finance\">Computational Economics and Finance</a> 2001 textbook by Mario Miranda and Paul Fackler.\n",
    "\n",
    "\n",
    "<i>Last updated: 2020-Sep-09</i>"
   ]
  },
  {
   "cell_type": "markdown",
   "metadata": {},
   "source": [
    "## About"
   ]
  },
  {
   "cell_type": "markdown",
   "metadata": {},
   "source": [
    "To illustrate implementation of the collocation method for implicit function problems, consider the example of Cournot oligopoly. In the standard microeconomic model of the firm, the firm maximizes profit by equating marginal revenue to marginal cost (MC). An oligopolistic firm, recognizing that its actions affect price, takes the marginal revenue to be $p + q\\frac{dp}{dq}$, where $p$ is price, $q$ is quantity produced, and $\\frac{dp}{dq}$ is the marginal impact of output on market price. The Cournot assumption is that the firm acts as if any change in its output will be unmatched by its competitors. This implies that\n",
    "\n",
    "\\begin{equation}\n",
    "    \\frac{dp}{dq} = \\frac{1}{D'(p)}\n",
    "\\end{equation}\n",
    "\n",
    "where $D(p)$ is the market demand curve.\n",
    "\n",
    "Suppose we wish to derive the effective supply function for the firm, which specifies\n",
    "the quantity $q = S(p)$ it will supply at any price. The firm's effective supply function is\n",
    "characterized by the functional equation\n",
    "\n",
    "\\begin{equation}\n",
    "    p + \\frac{S(p)}{D'(p)} - MC(S(p)) = 0\n",
    "\\end{equation}\n",
    "\n",
    "for all positive prices $p$. In simple cases, this function can be found explicitly.  However,\n",
    "in more complicated cases, no explicit solution exists."
   ]
  },
  {
   "cell_type": "markdown",
   "metadata": {},
   "source": [
    "## Initial tasks"
   ]
  },
  {
   "cell_type": "code",
   "execution_count": null,
   "metadata": {},
   "outputs": [],
   "source": [
    "if 'google.colab' in str(get_ipython()):\n",
    "    print(\"This notebook is running on Google Colab. Installing the compecon package.\")\n",
    "    !pip install compecon"
   ]
  },
  {
   "cell_type": "code",
   "execution_count": null,
   "metadata": {},
   "outputs": [],
   "source": [
    "import numpy as np\n",
    "import matplotlib.pyplot as plt\n",
    "from compecon import BasisChebyshev, NLP, demo"
   ]
  },
  {
   "cell_type": "markdown",
   "metadata": {},
   "source": [
    "### Model parameters\n",
    "\n",
    "Here, the demand elasticity and the marginal cost function parameter are"
   ]
  },
  {
   "cell_type": "code",
   "execution_count": null,
   "metadata": {},
   "outputs": [],
   "source": [
    "alpha, eta = 1.0, 3.5"
   ]
  },
  {
   "cell_type": "code",
   "execution_count": null,
   "metadata": {},
   "outputs": [],
   "source": [
    "D = lambda p: p**(-eta)"
   ]
  },
  {
   "cell_type": "markdown",
   "metadata": {},
   "source": [
    "### Approximation structure\n",
    "\n",
    "A degree-25 Chebychev basis on the interval [0.5, 3.0] is selected; also, the associated collocation nodes `p` are computed."
   ]
  },
  {
   "cell_type": "code",
   "execution_count": null,
   "metadata": {},
   "outputs": [],
   "source": [
    "n, a, b =  25, 0.5, 2.0\n",
    "S = BasisChebyshev(n, a, b, labels=['price'], y=np.ones(n))\n",
    "p = S.nodes"
   ]
  },
  {
   "cell_type": "code",
   "execution_count": null,
   "metadata": {},
   "outputs": [],
   "source": [
    "S2 = BasisChebyshev(n, a, b, labels=['price'], l=['supply'])\n",
    "S2.y = np.ones_like(p)"
   ]
  },
  {
   "cell_type": "markdown",
   "metadata": {},
   "source": [
    "### Residual function\n",
    "\n",
    "Suppose, for example, that\n",
    "\n",
    "\\begin{equation}\n",
    "    D(p) = p^{-\\eta} \\quad\\text{and}\\quad MC(q) = \\alpha\\sqrt{q} + q^2\n",
    "\\end{equation}\n",
    "\n",
    "Then the functional equation to be solved for S(p),\n",
    "\n",
    "\\begin{equation}\n",
    " \\left[p - \\frac{S(p)p^{\\eta+1}}{\\eta}\\right] -\\left[\\alpha\\sqrt{S(p)} + S(p)^2\\right] = 0\n",
    "\\end{equation}\n",
    "\n",
    "has no known closed-form solution."
   ]
  },
  {
   "cell_type": "code",
   "execution_count": null,
   "metadata": {},
   "outputs": [],
   "source": [
    "def resid(c):\n",
    "    S.c = c  # update interpolation coefficients\n",
    "    q = S(p) # compute quantity supplied at price nodes\n",
    "    marginal_income = p - q * (p ** (eta+1) / eta)\n",
    "    marginal_cost = alpha * np.sqrt(q) + q ** 2\n",
    "    return  marginal_income - marginal_cost "
   ]
  },
  {
   "cell_type": "markdown",
   "metadata": {},
   "source": [
    "Notice that `resid` only takes one argument. The other parameters (`Q`, `p`, `eta`, `alpha`) should be declared as such in the main script, were Python's scoping rules will find them."
   ]
  },
  {
   "cell_type": "markdown",
   "metadata": {},
   "source": [
    "### Solve for effective supply function\n",
    "\n",
    "Class `NLP` defines nonlinear problems. It can be used to solve `resid` by Broyden's method."
   ]
  },
  {
   "cell_type": "code",
   "execution_count": null,
   "metadata": {},
   "outputs": [],
   "source": [
    "cournot = NLP(resid)\n",
    "S.c = cournot.broyden(S.c, tol=1e-12)"
   ]
  },
  {
   "cell_type": "markdown",
   "metadata": {},
   "source": [
    "### Plot demand and effective supply for m=5 firms"
   ]
  },
  {
   "cell_type": "code",
   "execution_count": null,
   "metadata": {},
   "outputs": [],
   "source": [
    "prices = np.linspace(a, b, 501)\n",
    "\n",
    "fig1, ax = plt.subplots()\n",
    "ax.plot(5 * S(prices), prices, label='Supply')\n",
    "ax.plot(D(prices), prices, label='Demand')\n",
    "\n",
    "ax.set(title='Cournot Effective Firm Supply Function', \n",
    "       xlabel='Quantity',\n",
    "       ylabel='Price',\n",
    "       xlim=[0, 4],\n",
    "       ylim=[0.5, 2])\n",
    "\n",
    "ax.legend();"
   ]
  },
  {
   "cell_type": "markdown",
   "metadata": {},
   "source": [
    "### Plot residual\n",
    "\n",
    "Notice that `resid` does not take explicit parameters, so to evaluate it when prices are `prices` we need to assign `p = prices`."
   ]
  },
  {
   "cell_type": "markdown",
   "metadata": {},
   "source": [
    "In order to assess the quality of the approximation, one plots the residual function over the approximation domain. Here, the residual function is plotted by computing the residual at a refined grid of 501 equally spaced points."
   ]
  },
  {
   "cell_type": "code",
   "execution_count": null,
   "metadata": {},
   "outputs": [],
   "source": [
    "p = prices\n",
    "fig2, ax = plt.subplots()\n",
    "\n",
    "ax.hlines(0, a, b, 'k', '--', lw=2)\n",
    "ax.plot(prices, resid(S.c))\n",
    "ax.set(title='Residual Function for Cournot Problem',\n",
    "       xlabel='Quantity',\n",
    "       ylabel='Residual');"
   ]
  },
  {
   "cell_type": "markdown",
   "metadata": {},
   "source": [
    "### Plot demand and effective supply for m=1, 3, 5, 10, 15, 20 firms"
   ]
  },
  {
   "cell_type": "code",
   "execution_count": null,
   "metadata": {},
   "outputs": [],
   "source": [
    "fig3, ax = plt.subplots(figsize=[9,4])\n",
    "\n",
    "ax.set(title='Industry Supply and Demand Functions', \n",
    "       xlabel='Quantity',\n",
    "       ylabel='Price',\n",
    "       xlim=[0, 12])\n",
    "\n",
    "lcolor = [z['color']  for z in plt.rcParams['axes.prop_cycle']]\n",
    "\n",
    "for i, m in enumerate([1, 3, 5, 10, 15, 20]):\n",
    "    ax.plot(m*S(prices), prices) # supply\n",
    "    ax.annotate(f'm={m:d}', [m*S(1.2)+.025, 1.4-i/12], color=lcolor[i], fontsize=12)\n",
    "        \n",
    "ax.plot(D(prices), prices, linewidth=4, color='grey') # demand\n",
    "ax.annotate('demand', [10, 0.6], color='grey', fontsize=12);"
   ]
  },
  {
   "cell_type": "markdown",
   "metadata": {},
   "source": [
    "### Plot equilibrium price as a function of number of firms m"
   ]
  },
  {
   "cell_type": "code",
   "execution_count": null,
   "metadata": {},
   "outputs": [],
   "source": [
    "m = np.arange(1,26)\n",
    "x0 = np.full_like(m, 0.7, dtype=float) #initial guess\n",
    "eqprices = NLP(lambda p: m*S(p) - D(p)).broyden(x0)\n",
    "\n",
    "fig4, ax = plt.subplots()\n",
    "ax.set(title='Cournot Equilibrium Price as Function of Industry Size', \n",
    "       xlabel='Number of Firms',\n",
    "       ylabel='Price')\n",
    "ax.plot(m, eqprices);"
   ]
  },
  {
   "cell_type": "markdown",
   "metadata": {},
   "source": [
    "### Save all figures to disc"
   ]
  },
  {
   "cell_type": "code",
   "execution_count": null,
   "metadata": {},
   "outputs": [],
   "source": [
    "#demo.savefig([fig1,fig2,fig3,fig4], name='demapp07')"
   ]
  }
 ],
 "metadata": {
  "kernelspec": {
   "display_name": "Python 3",
   "language": "python",
   "name": "python3"
  },
  "language_info": {
   "codemirror_mode": {
    "name": "ipython",
    "version": 3
   },
   "file_extension": ".py",
   "mimetype": "text/x-python",
   "name": "python",
   "nbconvert_exporter": "python",
   "pygments_lexer": "ipython3",
   "version": "3.8.3"
  }
 },
 "nbformat": 4,
 "nbformat_minor": 4
}
