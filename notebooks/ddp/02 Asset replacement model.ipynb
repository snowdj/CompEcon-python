{
 "cells": [
  {
   "cell_type": "markdown",
   "metadata": {},
   "source": [
    "<center>\n",
    "<b>CompEcon Toolbox:</b>\n",
    "<div style=\"font-size:175%;color:white; background-color: #0064b0;\">DemDdp02</div>\n",
    "<div style=\"font-size:250%;color:white; background-color: #0064b0;\">Asset replacement model</div>\n",
    "\n",
    "<b>Randall Romero Aguilar, PhD</b>\n",
    "<br><br>\n",
    "\n",
    "</center>\n",
    "\n",
    "This demo is based on the original Matlab demo accompanying the  <a href=\"https://mitpress.mit.edu/books/applied-computational-economics-and-finance\">Computational Economics and Finance</a> 2001 textbook by Mario Miranda and Paul Fackler.\n",
    "\n",
    "\n",
    "<i>Last updated: 2020-Sep-09</i>"
   ]
  },
  {
   "cell_type": "markdown",
   "metadata": {},
   "source": [
    "## About"
   ]
  },
  {
   "cell_type": "markdown",
   "metadata": {},
   "source": [
    "At the beginning of each year, a manufacturer must decide whether to continue to operate an aging physical asset or replace it with a new one. An asset that is $a$ years old yields a profit contribution $p(a)$ up to $n$ years, at which point the asset becomes unsafe and must be\n",
    "replaced by law. The cost of a new asset is $c$. What replacement policy maximizes profits?"
   ]
  },
  {
   "cell_type": "markdown",
   "metadata": {},
   "source": [
    "This is an infinite horizon, deterministic model with time $t$ measured in years. "
   ]
  },
  {
   "cell_type": "markdown",
   "metadata": {},
   "source": [
    "## Initial tasks"
   ]
  },
  {
   "cell_type": "code",
   "execution_count": null,
   "metadata": {},
   "outputs": [],
   "source": [
    "if 'google.colab' in str(get_ipython()):\n",
    "    print(\"This notebook is running on Google Colab. Installing the compecon package.\")\n",
    "    !pip install compecon"
   ]
  },
  {
   "cell_type": "code",
   "execution_count": null,
   "metadata": {},
   "outputs": [],
   "source": [
    "import numpy as np\n",
    "import pandas as pd\n",
    "import matplotlib.pyplot as plt\n",
    "from compecon import DDPmodel\n",
    "%matplotlib inline"
   ]
  },
  {
   "cell_type": "markdown",
   "metadata": {},
   "source": [
    "## Model Parameters"
   ]
  },
  {
   "cell_type": "markdown",
   "metadata": {},
   "source": [
    "Assume a maximum asset age of 5 years, asset replacement cost $c = 75$, and annual discount factor $\\delta = 0.9$."
   ]
  },
  {
   "cell_type": "code",
   "execution_count": null,
   "metadata": {},
   "outputs": [],
   "source": [
    "maxage  = 5\n",
    "repcost = 75\n",
    "delta   = 0.9"
   ]
  },
  {
   "cell_type": "markdown",
   "metadata": {},
   "source": [
    "### State Space"
   ]
  },
  {
   "cell_type": "markdown",
   "metadata": {},
   "source": [
    "The state variable $a \\in \\{1, 2, 3, \\dots, n\\}$ is the age of the asset in years."
   ]
  },
  {
   "cell_type": "code",
   "execution_count": null,
   "metadata": {},
   "outputs": [],
   "source": [
    "S = np.arange(1, 1 + maxage)  # machine age\n",
    "n = S.size                    # number of states"
   ]
  },
  {
   "cell_type": "markdown",
   "metadata": {},
   "source": [
    "### Action Space"
   ]
  },
  {
   "cell_type": "markdown",
   "metadata": {},
   "source": [
    "The action variable $x \\in \\{\\text{keep, replace}\\}$ is the hold-replacement decision. "
   ]
  },
  {
   "cell_type": "code",
   "execution_count": null,
   "metadata": {},
   "outputs": [],
   "source": [
    "X = np.array(['keep', 'replace'])     # list of actions\n",
    "m = len(X)                  # number of actions"
   ]
  },
  {
   "cell_type": "markdown",
   "metadata": {},
   "source": [
    "### Reward Function"
   ]
  },
  {
   "cell_type": "markdown",
   "metadata": {},
   "source": [
    "The reward function is\n",
    "\\begin{equation}\n",
    "f(a, x) = \\begin{cases} p(a), &x = \\text{keep} \\\\\n",
    "    p(0) - c, &x = \\text{replace}\n",
    "\\end{cases}\n",
    "\\end{equation}\n",
    "\n",
    "Assuming a profit contribution $p(a) = 50 − 2.5a − 2.5a^2$ that is a function of the asset age $a$ in years:"
   ]
  },
  {
   "cell_type": "code",
   "execution_count": null,
   "metadata": {},
   "outputs": [],
   "source": [
    "f = np.zeros((m, n))\n",
    "f[0] = 50 - 2.5 * S - 2.5 * S ** 2\n",
    "f[1] = 50 - repcost\n",
    "f[0, -1] = -np.inf"
   ]
  },
  {
   "cell_type": "markdown",
   "metadata": {},
   "source": [
    "### State Transition Function"
   ]
  },
  {
   "cell_type": "markdown",
   "metadata": {},
   "source": [
    "The state transition function is\n",
    "\\begin{equation}\n",
    "g(a, x) = \\begin{cases} a + 1, &x = \\text{keep} \\\\\n",
    "    1, &x = \\text{replace}\n",
    "\\end{cases}\n",
    "\\end{equation}"
   ]
  },
  {
   "cell_type": "code",
   "execution_count": null,
   "metadata": {},
   "outputs": [],
   "source": [
    "g = np.zeros_like(f)\n",
    "g[0] = np.arange(1, n + 1)\n",
    "g[0, -1] = n - 1  # adjust last state so it doesn't go out of bounds"
   ]
  },
  {
   "cell_type": "markdown",
   "metadata": {},
   "source": [
    "## Model Structure"
   ]
  },
  {
   "cell_type": "markdown",
   "metadata": {},
   "source": [
    "The value of an asset of age a satisfies the Bellman equation\n",
    "\\begin{equation}\n",
    "V(a) = \\max\\{p(a) + \\delta V(a + 1),\\quad p(0) − c + \\delta V(1)\\}\n",
    "\\end{equation}\n",
    "\n",
    "where we set $p(n) = -\\infty$ to enforce replacement of an asset of age $n$. The Bellman equation asserts that if the manufacturer keeps an asset of age $a$, he earns $p(a)$ over the coming year and begins the subsequent year with an asset that is one year older and worth $V(a+1)$; if he replaces the asset, however, he starts the year with a new asset, earns $p(0)−c$ over the year, and begins the subsequent year with an asset that is one year old and worth $V(1)$. Actually, our language is a little loose here. The value $V(a)$ measures not only the current and future net earnings of an asset of age $a$, but also the net earnings of all future assets that replace it."
   ]
  },
  {
   "cell_type": "markdown",
   "metadata": {},
   "source": [
    "To solve and simulate this model, use the CompEcon class ```DDPmodel```. "
   ]
  },
  {
   "cell_type": "code",
   "execution_count": null,
   "metadata": {},
   "outputs": [],
   "source": [
    "model = DDPmodel(f, g, delta)\n",
    "model.solve()"
   ]
  },
  {
   "cell_type": "code",
   "execution_count": null,
   "metadata": {},
   "outputs": [],
   "source": [
    "solution = pd.DataFrame({\n",
    "    'Age of Machine': S,\n",
    "    'Action': X[model.policy], \n",
    "    'Value': model.value}).set_index('Age of Machine')\n",
    "\n",
    "solution['Action'] = solution['Action'].astype('category')"
   ]
  },
  {
   "cell_type": "markdown",
   "metadata": {},
   "source": [
    "## Analysis"
   ]
  },
  {
   "cell_type": "markdown",
   "metadata": {},
   "source": [
    "### Plot Optimal Value\n",
    "This Figure gives the value of the firm at\n",
    "the beginning of the period as a function of the asset’s age."
   ]
  },
  {
   "cell_type": "code",
   "execution_count": null,
   "metadata": {},
   "outputs": [],
   "source": [
    "ax = solution['Value'].plot();\n",
    "ax.set(title='Optimal Value Function', ylabel='Value', xticks=S);"
   ]
  },
  {
   "cell_type": "markdown",
   "metadata": {},
   "source": [
    "### Plot Optimal Policy\n",
    "This Figure gives the optimal action as a function of the asset’s age."
   ]
  },
  {
   "cell_type": "code",
   "execution_count": null,
   "metadata": {},
   "outputs": [],
   "source": [
    "ax = solution['Action'].cat.codes.plot(marker='o')\n",
    "ax.set(title='Optimal Replacement Policy', yticks=[0, 1], yticklabels=X, xticks=S);"
   ]
  },
  {
   "cell_type": "markdown",
   "metadata": {},
   "source": [
    "### Simulate Model\n",
    "The path was computed by performing a deterministic simulation of 12 years in duration using the ```simulate()``` method."
   ]
  },
  {
   "cell_type": "code",
   "execution_count": null,
   "metadata": {},
   "outputs": [],
   "source": [
    "sinit, nyrs = S.min() - 1, 12\n",
    "t = np.arange(1 + nyrs)\n",
    "spath, xpath = model.simulate(sinit, nyrs)"
   ]
  },
  {
   "cell_type": "code",
   "execution_count": null,
   "metadata": {},
   "outputs": [],
   "source": [
    "simul = pd.DataFrame({\n",
    "    'Year': t,\n",
    "    'Age of Machine': S[spath],\n",
    "    'Action': X[xpath]}).set_index('Year')\n",
    "\n",
    "simul['Action'] = pd.Categorical(X[xpath], categories=X)\n",
    "simul"
   ]
  },
  {
   "cell_type": "markdown",
   "metadata": {},
   "source": [
    "### Plot State and Action Paths\n",
    "Next Figure gives the age of the asset along the optimal path. As can be seen in this figure, the asset is replaced every four years."
   ]
  },
  {
   "cell_type": "code",
   "execution_count": null,
   "metadata": {},
   "outputs": [],
   "source": [
    "fig, axs = plt.subplots(2, 1, sharex=True)\n",
    "simul['Age of Machine'].plot(ax=axs[0])\n",
    "axs[0].set(title='Age Path');\n",
    "\n",
    "simul['Action'].cat.codes.plot(marker='o', ax=axs[1])\n",
    "axs[1].set(title='Replacement Path', yticks=[0, 1], yticklabels=X);"
   ]
  }
 ],
 "metadata": {
  "kernelspec": {
   "display_name": "Python 3",
   "language": "python",
   "name": "python3"
  },
  "language_info": {
   "codemirror_mode": {
    "name": "ipython",
    "version": 3
   },
   "file_extension": ".py",
   "mimetype": "text/x-python",
   "name": "python",
   "nbconvert_exporter": "python",
   "pygments_lexer": "ipython3",
   "version": "3.8.3"
  }
 },
 "nbformat": 4,
 "nbformat_minor": 4
}
