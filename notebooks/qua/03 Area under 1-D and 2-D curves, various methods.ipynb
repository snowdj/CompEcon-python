{
 "cells": [
  {
   "cell_type": "markdown",
   "metadata": {},
   "source": [
    "<center>\n",
    "<b>CompEcon Toolbox:</b>\n",
    "<div style=\"font-size:175%;color:white; background-color: #0064b0;\">DemQua03</div>\n",
    "<div style=\"font-size:250%;color:white; background-color: #0064b0;\">Area under 1-D and 2-D curves, various methods</div>\n",
    "\n",
    "<b>Randall Romero Aguilar, PhD</b>\n",
    "<br><br>\n",
    "\n",
    "</center>\n",
    "\n",
    "This demo is based on the original Matlab demo accompanying the  <a href=\"https://mitpress.mit.edu/books/applied-computational-economics-and-finance\">Computational Economics and Finance</a> 2001 textbook by Mario Miranda and Paul Fackler.\n",
    "\n",
    "\n",
    "<i>Last updated: 2020-Sep-10</i>"
   ]
  },
  {
   "cell_type": "markdown",
   "metadata": {},
   "source": [
    "## About"
   ]
  },
  {
   "cell_type": "markdown",
   "metadata": {},
   "source": [
    "Uni- and bi-vaiariate integration using Newton-Cotes, Gaussian, Monte Carlo, and quasi-Monte Carlo quadrature methods."
   ]
  },
  {
   "cell_type": "markdown",
   "metadata": {},
   "source": [
    "## Initial tasks"
   ]
  },
  {
   "cell_type": "code",
   "execution_count": null,
   "metadata": {},
   "outputs": [],
   "source": [
    "if 'google.colab' in str(get_ipython()):\n",
    "    print(\"This notebook is running on Google Colab. Installing the compecon package.\")\n",
    "    !pip install compecon"
   ]
  },
  {
   "cell_type": "code",
   "execution_count": null,
   "metadata": {},
   "outputs": [],
   "source": [
    "import numpy as np\n",
    "from compecon import qnwtrap, qnwsimp, qnwlege, demo\n",
    "import matplotlib.pyplot as plt\n",
    "import pandas as pd"
   ]
  },
  {
   "cell_type": "code",
   "execution_count": null,
   "metadata": {},
   "outputs": [],
   "source": [
    "quadmethods = [qnwtrap, qnwsimp, qnwlege]"
   ]
  },
  {
   "cell_type": "markdown",
   "metadata": {},
   "source": [
    "### Make support function"
   ]
  },
  {
   "cell_type": "code",
   "execution_count": null,
   "metadata": {},
   "outputs": [],
   "source": [
    "a, b = -1, 1\n",
    "nlist = [5, 11, 21, 31]\n",
    "N = len(nlist)\n",
    "\n",
    "def quad(func, qnw, n):\n",
    "    xi, wi = qnw(n,a,b)\n",
    "    return np.dot(func(xi),wi)"
   ]
  },
  {
   "cell_type": "markdown",
   "metadata": {},
   "source": [
    "## Evaluating\n",
    "$\\int_{-1}^1e^{-x}dx$"
   ]
  },
  {
   "cell_type": "code",
   "execution_count": null,
   "metadata": {},
   "outputs": [],
   "source": [
    "def f(x):\n",
    "    return np.exp(-x)\n",
    "\n",
    "f_quad = np.array([[quad(f, qnw, ni) for qnw in quadmethods] for ni in nlist])\n",
    "f_true = np.exp(1) - 1/np.exp(1)\n",
    "f_error = np.log10(np.abs(f_quad/f_true - 1))\n"
   ]
  },
  {
   "cell_type": "markdown",
   "metadata": {},
   "source": [
    "## Evaluating\n",
    "$\\int_{-1}^1\\sqrt{|x|}dx$"
   ]
  },
  {
   "cell_type": "code",
   "execution_count": null,
   "metadata": {},
   "outputs": [],
   "source": [
    "def g(x):\n",
    "    return np.sqrt(np.abs(x))\n",
    "\n",
    "g_quad = np.array([[quad(g, qnw, ni) for qnw in quadmethods] for ni in nlist])\n",
    "g_true = 4/3\n",
    "g_error = np.log10(np.abs(g_quad/g_true - 1))"
   ]
  },
  {
   "cell_type": "markdown",
   "metadata": {},
   "source": [
    "## Make table with results"
   ]
  },
  {
   "cell_type": "code",
   "execution_count": null,
   "metadata": {},
   "outputs": [],
   "source": [
    "methods = ['Trapezoid rule', \"Simpson's rule\", 'Gauss-Legendre']\n",
    "functions = [r'$\\int_{-1}^1e^{-x}dx$', r'$\\int_{-1}^1\\sqrt{|x|}dx$']\n",
    "\n",
    "results = pd.concat(\n",
    "    [pd.DataFrame(errors, columns=methods, index=nlist) for errors in (f_error, g_error)],\n",
    "    keys=functions)\n",
    "\n",
    "results"
   ]
  },
  {
   "cell_type": "markdown",
   "metadata": {},
   "source": [
    "## Plot the functions"
   ]
  },
  {
   "cell_type": "code",
   "execution_count": null,
   "metadata": {},
   "outputs": [],
   "source": [
    "a, b, n = -1, 1, 301\n",
    "x = np.linspace(a, b, n)\n",
    "\n",
    "fig, axs = plt.subplots(1, 2, figsize=[10,4])\n",
    "axs[0].plot(x, f(x), linewidth=3)\n",
    "axs[0].set(\n",
    "    title='$e^{-x}$', \n",
    "    xlim=[a,b],\n",
    "    ylim=[0,f(a)],\n",
    "    xticks=[-1,0,1], \n",
    "    yticks=[0])\n",
    "\n",
    "axs[1].plot(x, g(x), linewidth=3)\n",
    "axs[1].set(\n",
    "    title='$\\sqrt{|x|}$',\n",
    "    xlim=[a,b],\n",
    "    ylim=[0,g(a)],\n",
    "    xticks=[-1,0,1],\n",
    "    yticks=[0]);"
   ]
  },
  {
   "cell_type": "markdown",
   "metadata": {},
   "source": [
    "### Export figure and table"
   ]
  },
  {
   "cell_type": "code",
   "execution_count": null,
   "metadata": {},
   "outputs": [],
   "source": [
    "#results.to_latex('demqua03.tex', escape=False, float_format='%.1f')\n",
    "#demo.savefig([plt.gcf()], name='demqua03')"
   ]
  }
 ],
 "metadata": {
  "kernelspec": {
   "display_name": "Python 3",
   "language": "python",
   "name": "python3"
  },
  "language_info": {
   "codemirror_mode": {
    "name": "ipython",
    "version": 3
   },
   "file_extension": ".py",
   "mimetype": "text/x-python",
   "name": "python",
   "nbconvert_exporter": "python",
   "pygments_lexer": "ipython3",
   "version": "3.8.3"
  }
 },
 "nbformat": 4,
 "nbformat_minor": 4
}
