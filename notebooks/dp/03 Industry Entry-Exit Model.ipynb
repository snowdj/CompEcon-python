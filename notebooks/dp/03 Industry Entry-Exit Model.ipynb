{
 "cells": [
  {
   "cell_type": "markdown",
   "metadata": {},
   "source": [
    "### DEMDP03"
   ]
  },
  {
   "cell_type": "markdown",
   "metadata": {},
   "source": [
    "#  Industry Entry-Exit Model"
   ]
  },
  {
   "cell_type": "markdown",
   "metadata": {},
   "source": [
    "A firm operates in an uncertain profit environment. At the beginning of each period, the firm observes its potential short-run operating profit over the coming period $\\pi$, which may be negative, and decides whether to operate, making a short-run profit $\\pi$, or not operate, making a short-run profit $0$. Although the firm faces no fixed costs, it incurs a shutdown cost $K_0$ when it closes and a start-up cost $K_1$ when it reopens. The short-run profit $\\pi$ is an exogenous continuous-valued Markov process\n",
    "\\begin{equation}\n",
    "    \\pi_{t+1} = h(\\pi_t, \\epsilon_{t+1})\n",
    "\\end{equation}\n",
    "\n",
    "**What is the optimal entry-exit policy?** In particular, how low must the short-run profit be for an operating firm to close, and how high must the short-run profit be for nonoperating firm to reopen? \n",
    "\n",
    "This is an infinite horizon, stochastic model with time $t$ measured in years. The state variables\n",
    "\\begin{align}\n",
    "    \\pi &\\in (−\\infty,\\infty)\\\\\n",
    "    d &\\in \\{0, 1\\}\n",
    "\\end{align}\n",
    "\n",
    "are the current short-run profit, a continuous variable, and the operational status of the firm, a binary variable that equals 1 if the firm is operating and 0 if the firm is not operating. The choice variable\n",
    "\\begin{equation}\n",
    "    j \\in \\{0, 1\\}\n",
    "\\end{equation}\n",
    "\n",
    "is the operating decision for the coming year, a binary variable that equals 1 if the firm operates and 0 if does not operate. The state transition function is \n",
    "\\begin{equation}\n",
    "    g(\\pi, d, j, \\epsilon) = h(\\pi, \\epsilon), j)\n",
    "\\end{equation}\n",
    "\n",
    "The reward function is\n",
    "\\begin{equation}\n",
    "    f(\\pi, d, j) = \\pi j − K_1(1 − d)j − K_0 d(1 − j)\n",
    "\\end{equation}\n",
    "\n",
    "The value of the firm, given that the current short-run profit is $\\pi$ and the firm's operational status is $d$, satisfies the Bellman equation\n",
    "\\begin{equation}\n",
    "    V(\\pi,d) = \\max_{j=0,1}\\left\\{\\pi j − K_1(1−d)j − K_0d(1−j) + \\delta E_\\epsilon V\\left(h(\\pi,\\epsilon),j\\right)\\right\\}\n",
    "\\end{equation}\n"
   ]
  },
  {
   "cell_type": "code",
   "execution_count": 1,
   "metadata": {},
   "outputs": [],
   "source": [
    "import numpy as np\n",
    "import matplotlib.pyplot as plt\n",
    "from compecon import BasisSpline, DPmodel,qnwnorm, demo"
   ]
  },
  {
   "cell_type": "markdown",
   "metadata": {},
   "source": [
    "### The reward function\n",
    "\n",
    "The reward function is\n",
    "\\begin{equation}\n",
    "    f(\\pi, d, j) = \\pi j − K_1(1 − d)j − K_0 d(1 − j)\n",
    "\\end{equation}\n",
    "\n",
    " where the exit cost is $K_0=0$ and the entry cost is $K_1=10$."
   ]
  },
  {
   "cell_type": "code",
   "execution_count": 2,
   "metadata": {},
   "outputs": [],
   "source": [
    "K0     = 0.0\n",
    "K1     = 10\n",
    "\n",
    "def profit(p, x, d, j):\n",
    "    return p * j - K1 * (1 - d) * j - K0 * d * (1 - j)"
   ]
  },
  {
   "cell_type": "markdown",
   "metadata": {},
   "source": [
    "### The transition function\n",
    "\n",
    "Assuming that the short-run profit $\\pi$ is an exogenous Markov process \n",
    "\\begin{equation}\n",
    "    \\pi_{t+1} = g(\\pi_t,\\epsilon_{t+1}) = \\bar{\\pi} + \\gamma(\\pi_t − \\bar{\\pi}) + \\epsilon_{t+1}\n",
    "\\end{equation}    \n",
    "where $\\bar{\\pi}=1.0$ and $\\gamma=0.7$. "
   ]
  },
  {
   "cell_type": "code",
   "execution_count": 3,
   "metadata": {},
   "outputs": [],
   "source": [
    "pbar   = 1.0\n",
    "gamma  = 0.7\n",
    "\n",
    "def transition(p, x, d, j, in_, e):\n",
    "    return pbar + gamma * (p - pbar) + e"
   ]
  },
  {
   "cell_type": "markdown",
   "metadata": {},
   "source": [
    "In the transition function $\\epsilon_t$ is an i.i.d. normal(0, $σ^2$), with $\\sigma=1$. We discretize this distribution by using a discrete distribution, matching the first 10 moments of the normal distribution."
   ]
  },
  {
   "cell_type": "code",
   "execution_count": 4,
   "metadata": {},
   "outputs": [],
   "source": [
    "m = 5  # number of profit shocks\n",
    "sigma  = 1.0\n",
    "[e,w] = qnwnorm(m,0,sigma **2)"
   ]
  },
  {
   "cell_type": "markdown",
   "metadata": {},
   "source": [
    "The collocation method calls for the analyst to select $n$ basis functions $\\varphi_j$ and $n$ collocation nodes $(\\pi_i,d_i)$, and form the value function approximant $V(\\pi,d) \\approx \\sum_{j=1}^{n} c_j\\varphi_j(\\pi,d)$ whose coefficients $c_j$ solve the collocation equation\n",
    "\n",
    "\\begin{equation}\n",
    "    \\sum_{j=1}^{n} c_j\\varphi_j(\\pi_i,d_i) = \\max_{x\\in\\{0,1\\}}\\left\\{\\pi_i x − K_1(1−d_i)x − K_0 d_i(1−x) + \\delta\\sum_{k=1}^{m}\\sum_{j=1}^{n}w_k c_j \\varphi_j(\\hat{\\pi}_{ik},x)\\right\\}\n",
    "\\end{equation}\n",
    "\n",
    "where $\\hat\\pi_{ik}=g(\\pi_i,\\epsilon_k)$ and where $\\epsilon_k$ and $w_k$ represent quadrature nodes and weights for\n",
    "the normal shock.\n",
    "\n",
    "For the approximation, we use a cubic spline basis with $n=250$ nodes between $p_{\\min}=-20$ and $p_\\max=20$."
   ]
  },
  {
   "cell_type": "code",
   "execution_count": 5,
   "metadata": {
    "scrolled": true
   },
   "outputs": [
    {
     "name": "stdout",
     "output_type": "stream",
     "text": [
      "A 1-dimension Cubic spline basis:  using 250 Canonical nodes and 250 polynomials\n",
      "___________________________________________________________________________\n",
      "\tprofit: 250 nodes in [-20.00,  20.00]\n",
      "\n",
      "===========================================================================\n",
      "WARNING! Class Basis is still work in progress\n"
     ]
    }
   ],
   "source": [
    "n = 250\n",
    "pmin = -20\n",
    "pmax =  20\n",
    "basis = BasisSpline(n, pmin, pmax, labels=['profit'])\n",
    "print(basis)"
   ]
  },
  {
   "cell_type": "markdown",
   "metadata": {},
   "source": [
    "Discrete states and discrete actions are"
   ]
  },
  {
   "cell_type": "code",
   "execution_count": 6,
   "metadata": {},
   "outputs": [],
   "source": [
    "dstates = ['idle', 'active']\n",
    "dactions = ['close', 'open']"
   ]
  },
  {
   "cell_type": "markdown",
   "metadata": {},
   "source": [
    "The Bellman equation is represeted by a ```DPmodel``` object, where we assume a discount factor of $\\delta=0.9$. Notice that the discrete state transition is deterministic, with transition matrix \n",
    "\\begin{equation}\n",
    "    h=\\begin{bmatrix}0&0\\\\1&1\\end{bmatrix}\n",
    "\\end{equation}   "
   ]
  },
  {
   "cell_type": "code",
   "execution_count": 7,
   "metadata": {},
   "outputs": [],
   "source": [
    "model = DPmodel(basis,\n",
    "                profit, transition,\n",
    "                i=dstates,\n",
    "                j=dactions,\n",
    "                discount=0.9, e=e, w=w,\n",
    "                h=[[0, 0], [1, 1]])"
   ]
  },
  {
   "cell_type": "markdown",
   "metadata": {},
   "source": [
    "## SOLUTION\n",
    "\n",
    "To solve the model, we simply call the ```solve``` method on the ```model``` object."
   ]
  },
  {
   "cell_type": "code",
   "execution_count": 8,
   "metadata": {},
   "outputs": [
    {
     "name": "stdout",
     "output_type": "stream",
     "text": [
      "Solving infinite-horizon model collocation equation by Newton's method\n",
      "iter change       time    \n",
      "------------------------------\n",
      "   0       6.0e+01    0.0938\n",
      "   1       3.2e+01    0.1719\n",
      "   2       2.9e+00    0.2500\n",
      "   3       4.3e-01    0.3125\n",
      "   4       3.8e-14    0.3907\n",
      "Elapsed Time =    0.39 Seconds\n"
     ]
    },
    {
     "data": {
      "text/html": [
       "<div>\n",
       "<style scoped>\n",
       "    .dataframe tbody tr th:only-of-type {\n",
       "        vertical-align: middle;\n",
       "    }\n",
       "\n",
       "    .dataframe tbody tr th {\n",
       "        vertical-align: top;\n",
       "    }\n",
       "\n",
       "    .dataframe thead th {\n",
       "        text-align: right;\n",
       "    }\n",
       "</style>\n",
       "<table border=\"1\" class=\"dataframe\">\n",
       "  <thead>\n",
       "    <tr style=\"text-align: right;\">\n",
       "      <th></th>\n",
       "      <th></th>\n",
       "      <th>profit</th>\n",
       "      <th>i</th>\n",
       "      <th>value</th>\n",
       "      <th>resid</th>\n",
       "      <th>j*</th>\n",
       "      <th>value[close]</th>\n",
       "      <th>value[open]</th>\n",
       "    </tr>\n",
       "    <tr>\n",
       "      <th></th>\n",
       "      <th>profit</th>\n",
       "      <th></th>\n",
       "      <th></th>\n",
       "      <th></th>\n",
       "      <th></th>\n",
       "      <th></th>\n",
       "      <th></th>\n",
       "      <th></th>\n",
       "    </tr>\n",
       "  </thead>\n",
       "  <tbody>\n",
       "    <tr>\n",
       "      <th rowspan=\"5\" valign=\"top\">idle</th>\n",
       "      <th>-20.000000</th>\n",
       "      <td>-20.000000</td>\n",
       "      <td>0</td>\n",
       "      <td>0.894342</td>\n",
       "      <td>-1.110223e-16</td>\n",
       "      <td>close</td>\n",
       "      <td>0.894342</td>\n",
       "      <td>-29.105658</td>\n",
       "    </tr>\n",
       "    <tr>\n",
       "      <th>-19.983994</th>\n",
       "      <td>-19.983994</td>\n",
       "      <td>0</td>\n",
       "      <td>0.894542</td>\n",
       "      <td>-5.251333e-11</td>\n",
       "      <td>close</td>\n",
       "      <td>0.894542</td>\n",
       "      <td>-29.089452</td>\n",
       "    </tr>\n",
       "    <tr>\n",
       "      <th>-19.967987</th>\n",
       "      <td>-19.967987</td>\n",
       "      <td>0</td>\n",
       "      <td>0.894743</td>\n",
       "      <td>-5.991030e-11</td>\n",
       "      <td>close</td>\n",
       "      <td>0.894743</td>\n",
       "      <td>-29.073245</td>\n",
       "    </tr>\n",
       "    <tr>\n",
       "      <th>-19.951981</th>\n",
       "      <td>-19.951981</td>\n",
       "      <td>0</td>\n",
       "      <td>0.894943</td>\n",
       "      <td>-2.191847e-11</td>\n",
       "      <td>close</td>\n",
       "      <td>0.894943</td>\n",
       "      <td>-29.057038</td>\n",
       "    </tr>\n",
       "    <tr>\n",
       "      <th>-19.935974</th>\n",
       "      <td>-19.935974</td>\n",
       "      <td>0</td>\n",
       "      <td>0.895144</td>\n",
       "      <td>4.235923e-11</td>\n",
       "      <td>close</td>\n",
       "      <td>0.895144</td>\n",
       "      <td>-29.040830</td>\n",
       "    </tr>\n",
       "  </tbody>\n",
       "</table>\n",
       "</div>"
      ],
      "text/plain": [
       "                    profit  i     value         resid     j*  value[close]  \\\n",
       "     profit                                                                  \n",
       "idle -20.000000 -20.000000  0  0.894342 -1.110223e-16  close      0.894342   \n",
       "     -19.983994 -19.983994  0  0.894542 -5.251333e-11  close      0.894542   \n",
       "     -19.967987 -19.967987  0  0.894743 -5.991030e-11  close      0.894743   \n",
       "     -19.951981 -19.951981  0  0.894943 -2.191847e-11  close      0.894943   \n",
       "     -19.935974 -19.935974  0  0.895144  4.235923e-11  close      0.895144   \n",
       "\n",
       "                 value[open]  \n",
       "     profit                   \n",
       "idle -20.000000   -29.105658  \n",
       "     -19.983994   -29.089452  \n",
       "     -19.967987   -29.073245  \n",
       "     -19.951981   -29.057038  \n",
       "     -19.935974   -29.040830  "
      ]
     },
     "execution_count": 8,
     "metadata": {},
     "output_type": "execute_result"
    }
   ],
   "source": [
    "S = model.solve(print=True)\n",
    "S.head()"
   ]
  },
  {
   "cell_type": "markdown",
   "metadata": {},
   "source": [
    "### Plot Action-Contingent Value Functions"
   ]
  },
  {
   "cell_type": "code",
   "execution_count": 9,
   "metadata": {},
   "outputs": [
    {
     "name": "stdout",
     "output_type": "stream",
     "text": [
      "Profit Entry =  2.10\n",
      "Profit Exit  = -2.30\n"
     ]
    },
    {
     "data": {
      "image/png": "[encoded data removed]",
      "text/plain": [
       "<matplotlib.figure.Figure at 0x2260bc56898>"
      ]
     },
     "metadata": {},
     "output_type": "display_data"
    }
   ],
   "source": [
    "fig1,axs = plt.subplots(1,2,sharey=True, figsize=[12,5])\n",
    "offs = [(4, -8), (-8, 5)]\n",
    "msgs = ['Profit Entry', 'Profit Exit']\n",
    "\n",
    "for i,iname in enumerate(dstates):\n",
    "    plt.axes(axs[i])\n",
    "    subdata = S.loc[iname,['value[close]', 'value[open]']]\n",
    "    plt.plot(subdata)\n",
    "    plt.title('Value of a currently ' + iname + ' firm')\n",
    "    plt.xlabel('Potential Profit')\n",
    "    if not i: plt.ylabel('Value of Firm')\n",
    "    plt.legend(dactions)\n",
    "    \n",
    "    subdata['v.diff'] = subdata['value[open]'] - subdata['value[close]']\n",
    "    pcrit = np.interp(0, subdata['v.diff'], subdata.index)\n",
    "    vcrit  = np.interp(pcrit, subdata.index, subdata['value[close]'])\n",
    "    demo.annotate(pcrit, vcrit, f'$p^*_{i:d} = {pcrit:.2f}$', 'wo', offs[i], fs=11, ms=12,)\n",
    "    print(f'{msgs[i]:12s} = {pcrit:5.2f}')\n",
    "    \n",
    "    "
   ]
  },
  {
   "cell_type": "markdown",
   "metadata": {},
   "source": [
    "### Plot Residual\n",
    "\n",
    "We normalize the residuals as percentage of the value function. Notice the spikes at the \"Profit entry\" and \"Profit exit\" points."
   ]
  },
  {
   "cell_type": "code",
   "execution_count": 10,
   "metadata": {},
   "outputs": [
    {
     "data": {
      "text/plain": [
       "<matplotlib.legend.Legend at 0x2260c1a10f0>"
      ]
     },
     "execution_count": 10,
     "metadata": {},
     "output_type": "execute_result"
    },
    {
     "data": {
      "image/png": "[encoded data removed]",
      "text/plain": [
       "<matplotlib.figure.Figure at 0x2260bbcae80>"
      ]
     },
     "metadata": {},
     "output_type": "display_data"
    }
   ],
   "source": [
    "S['resid2'] = 100 * (S.resid / S.value)\n",
    "fig2 = demo.figure('Bellman Equation Residual','Potential Profit','Percent Residual')\n",
    "demo.qplot('profit','resid2','i',S)\n",
    "plt.legend(dactions)"
   ]
  },
  {
   "cell_type": "markdown",
   "metadata": {},
   "source": [
    "## SIMULATION"
   ]
  },
  {
   "cell_type": "markdown",
   "metadata": {},
   "source": [
    "We simulate the model 50000 times for a time horizon $T=50$, starting with an operating firm ($d=1$) at the long-term profit mean $\\bar{\\pi}$. To be able to reproduce these results, we set the random seed at an arbitrary value of 945."
   ]
  },
  {
   "cell_type": "code",
   "execution_count": 11,
   "metadata": {},
   "outputs": [],
   "source": [
    "T = 50\n",
    "nrep = 50000\n",
    "p0 = np.tile(pbar, (1, nrep))\n",
    "d0 = 1\n",
    "data = model.simulate(T, p0, d0, seed=945)"
   ]
  },
  {
   "cell_type": "markdown",
   "metadata": {},
   "source": [
    "### Print Ergodic Moments"
   ]
  },
  {
   "cell_type": "code",
   "execution_count": 12,
   "metadata": {
    "scrolled": true
   },
   "outputs": [
    {
     "name": "stdout",
     "output_type": "stream",
     "text": [
      "\n",
      "Ergodic Means\n",
      "\tProfit Contribution   =  1.00\n",
      "\tActivity              =  0.94\n",
      "\n",
      "Ergodic Standard Deviations\n",
      "\n",
      "\tProfit Contribution   =  1.37\n",
      "\tActivity              =  0.24\n"
     ]
    }
   ],
   "source": [
    "f = '\\t{:21s} = {:5.2f}'\n",
    "print('\\nErgodic Means')\n",
    "print(f.format('Profit Contribution', data['profit'].mean()))\n",
    "print(f.format('Activity', (data['i'] == 'active').mean()))\n",
    "print('\\nErgodic Standard Deviations\\n')\n",
    "print(f.format('Profit Contribution', data['profit'].std()))\n",
    "print(f.format('Activity', (data['i'] == 'active').std()))"
   ]
  },
  {
   "cell_type": "markdown",
   "metadata": {},
   "source": [
    "### Plot Simulated and Expected Continuous State Path"
   ]
  },
  {
   "cell_type": "code",
   "execution_count": 13,
   "metadata": {},
   "outputs": [
    {
     "data": {
      "text/plain": [
       "<matplotlib.legend.Legend at 0x2260c205908>"
      ]
     },
     "execution_count": 13,
     "metadata": {},
     "output_type": "execute_result"
    },
    {
     "data": {
      "image/png": "[encoded data removed]",
      "text/plain": [
       "<matplotlib.figure.Figure at 0x2260c2a2828>"
      ]
     },
     "metadata": {},
     "output_type": "display_data"
    }
   ],
   "source": [
    "subdata = data[data['_rep'].isin(range(3))]\n",
    "\n",
    "fig3 = demo.figure('Simulated and Expected Profit Contribution', 'Period','Profit Contribution')\n",
    "demo.qplot('time','profit','_rep',subdata)\n",
    "plt.plot(data[['time','profit']].groupby('time').mean(),'k--',label='mean')\n",
    "plt.legend()"
   ]
  },
  {
   "cell_type": "markdown",
   "metadata": {},
   "source": [
    "### Plot Expected Discrete State Path"
   ]
  },
  {
   "cell_type": "code",
   "execution_count": 14,
   "metadata": {
    "scrolled": true
   },
   "outputs": [
    {
     "data": {
      "text/plain": [
       "[<matplotlib.lines.Line2D at 0x2260c26e898>]"
      ]
     },
     "execution_count": 14,
     "metadata": {},
     "output_type": "execute_result"
    },
    {
     "data": {
      "image/png": "[encoded data removed]",
      "text/plain": [
       "<matplotlib.figure.Figure at 0x2260c0c7978>"
      ]
     },
     "metadata": {},
     "output_type": "display_data"
    }
   ],
   "source": [
    "fig4 = demo.figure('Probability of Operation', 'Period', 'Probability')\n",
    "data['ii'] = data['i'] == 'active'\n",
    "plt.plot(data[['time','ii']].groupby('time').mean())"
   ]
  },
  {
   "cell_type": "code",
   "execution_count": null,
   "metadata": {},
   "outputs": [],
   "source": [
    "#demo.savefig([fig1,fig2,fig3,fig4])"
   ]
  }
 ],
 "metadata": {
  "kernelspec": {
   "display_name": "Python 3",
   "language": "python",
   "name": "python3"
  },
  "language_info": {
   "codemirror_mode": {
    "name": "ipython",
    "version": 3
   },
   "file_extension": ".py",
   "mimetype": "text/x-python",
   "name": "python",
   "nbconvert_exporter": "python",
   "pygments_lexer": "ipython3",
   "version": "3.6.4"
  }
 },
 "nbformat": 4,
 "nbformat_minor": 1
}
