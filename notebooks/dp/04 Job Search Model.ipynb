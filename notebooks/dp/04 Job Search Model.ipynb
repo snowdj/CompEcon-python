{
 "cells": [
  {
   "cell_type": "markdown",
   "metadata": {},
   "source": [
    "### DEMDP04 \n",
    "# Job Search Model"
   ]
  },
  {
   "cell_type": "markdown",
   "metadata": {},
   "source": [
    "Infinitely-lived worker must decide whether to quit, if employed, or search for a job, if unemployed, given prevailing market wages."
   ]
  },
  {
   "cell_type": "markdown",
   "metadata": {},
   "source": [
    "### States\n",
    "\n",
    "-      w       prevailing wage\n",
    "-     i       unemployed (0) or employed (1) at beginning of period\n",
    "\n",
    "### Actions\n",
    "\n",
    "-     j       idle (0) or active (i.e., work or search) (1) this period\n",
    "\n",
    "### Parameters\n",
    "\n",
    "| Parameter | Meaning    |\n",
    "|-----------|-------------------------|\n",
    "| $v$       | benefit of pure leisure |\n",
    "| $\\bar{w}$  | long-run mean wage |\n",
    "| $\\gamma$  | wage reversion rate |\n",
    "| $p_0$      | probability of finding job |\n",
    "| $p_1$      | probability of keeping job |\n",
    "| $\\sigma$   | standard deviation of wage shock |\n",
    "| $\\delta$   | discount factor |\n"
   ]
  },
  {
   "cell_type": "markdown",
   "metadata": {},
   "source": [
    "# Preliminary tasks"
   ]
  },
  {
   "cell_type": "code",
   "execution_count": 1,
   "metadata": {},
   "outputs": [],
   "source": [
    "import numpy as np\n",
    "import matplotlib.pyplot as plt\n",
    "from compecon import BasisSpline, DPmodel, qnwnorm, demo"
   ]
  },
  {
   "cell_type": "markdown",
   "metadata": {},
   "source": [
    "## FORMULATION\n",
    "  \n",
    "### Worker's reward\n",
    "\n",
    "The worker's reward is:\n",
    "\n",
    "- $w$ (the prevailing wage rate), if he's employed and active (working)\n",
    "- $u=90$, if he's unemployed but active (searching)\n",
    "- $v=95$, if he's idle (quit if employed, not searching if unemployed)"
   ]
  },
  {
   "cell_type": "code",
   "execution_count": 2,
   "metadata": {},
   "outputs": [],
   "source": [
    "u     =  90\n",
    "v     =  95\n",
    "\n",
    "def reward(w, x, employed, active):\n",
    "    if active:\n",
    "        return w.copy() if employed else np.full_like(w, u)  # the copy is critical!!! otherwise it passes a pointer to w!!\n",
    "    else:\n",
    "        return np.full_like(w, v)"
   ]
  },
  {
   "cell_type": "markdown",
   "metadata": {},
   "source": [
    "### Model dynamics\n",
    "\n",
    "#### Stochastic Discrete State Transition Probabilities\n",
    "\n",
    "An unemployed worker who is searching for a job has a probability $p_0=0.2$ of finding it, while an employed worker who doesn't want to quit his job has a probability $p_1 = 0.9$ of keeping it. An idle worker (someone who quits or doesn't search for a job) will definitely be unemployed next period. Thus, the transition probabilities are\n",
    "\\begin{align}\n",
    "    q = \\begin{bmatrix}1-p_0 &p_0\\\\1-p_1&p_1\\end{bmatrix},&\\qquad\\text{if active} \\\\\n",
    "      = \\begin{bmatrix}1 & 0\\\\1 &0 \\end{bmatrix},&\\qquad\\text{if iddle}\n",
    "\\end{align}"
   ]
  },
  {
   "cell_type": "code",
   "execution_count": 3,
   "metadata": {},
   "outputs": [],
   "source": [
    "p0    = 0.20\n",
    "p1    = 0.90\n",
    "\n",
    "q = np.zeros((2, 2, 2))\n",
    "q[1, 0, 1] = p0\n",
    "q[1, 1, 1] = p1\n",
    "q[:, :, 0] = 1 - q[:, :, 1]"
   ]
  },
  {
   "cell_type": "markdown",
   "metadata": {},
   "source": [
    "#### Stochastic Continuous State Transition\n",
    "Assuming that the wage rate $w$ follows an exogenous Markov process \n",
    "\\begin{equation}\n",
    "    w_{t+1} = \\bar{w} + \\gamma(w_t − \\bar{w}) + \\epsilon_{t+1}\n",
    "\\end{equation}\n",
    "\n",
    "where $\\bar{w}=100$ and $\\gamma=0.4$. "
   ]
  },
  {
   "cell_type": "code",
   "execution_count": 4,
   "metadata": {},
   "outputs": [],
   "source": [
    "wbar  = 100\n",
    "gamma = 0.40\n",
    "def transition(w, x, i, j, in_, e):\n",
    "    return wbar + gamma * (w - wbar) + e"
   ]
  },
  {
   "cell_type": "markdown",
   "metadata": {},
   "source": [
    "Here, $\\epsilon$ is normal $(0,\\sigma^2)$ wage shock, where $\\sigma=5$. We discretize this distribution with the function ```qnwnorm```."
   ]
  },
  {
   "cell_type": "code",
   "execution_count": 5,
   "metadata": {},
   "outputs": [],
   "source": [
    "sigma = 5\n",
    "m = 15\n",
    "e, w = qnwnorm(m, 0, sigma ** 2)"
   ]
  },
  {
   "cell_type": "markdown",
   "metadata": {},
   "source": [
    "### Approximation Structure\n",
    "\n",
    "To discretize the continuous state variable, we use a cubic spline basis with $n=150$ nodes between $w_\\min=0$ and $w_\\max=200$."
   ]
  },
  {
   "cell_type": "code",
   "execution_count": 6,
   "metadata": {},
   "outputs": [],
   "source": [
    "n = 150\n",
    "wmin = 0\n",
    "wmax = 200\n",
    "basis = BasisSpline(n, wmin, wmax, labels=['wage'])"
   ]
  },
  {
   "cell_type": "markdown",
   "metadata": {},
   "source": [
    "## SOLUTION\n",
    "\n",
    "To represent the model, we create an instance of ```DPmodel```. Here, we assume a discout factor of $\\delta=0.95$."
   ]
  },
  {
   "cell_type": "code",
   "execution_count": 7,
   "metadata": {},
   "outputs": [],
   "source": [
    "model = DPmodel(basis, reward, transition,\n",
    "                i =['unemployed', 'employed'],\n",
    "                j = ['idle', 'active'],\n",
    "                discount=0.95, e=e, w=w, q=q)"
   ]
  },
  {
   "cell_type": "markdown",
   "metadata": {},
   "source": [
    "Then, we call the method ```solve``` to solve the Bellman equation"
   ]
  },
  {
   "cell_type": "code",
   "execution_count": 8,
   "metadata": {},
   "outputs": [
    {
     "name": "stdout",
     "output_type": "stream",
     "text": [
      "Solving infinite-horizon model collocation equation by Newton's method\n",
      "iter change       time    \n",
      "------------------------------\n",
      "   0       2.1e+03    0.2188\n",
      "   1       3.5e+01    0.4391\n",
      "   2       1.9e+01    0.6891\n",
      "   3       1.4e+00    0.9391\n",
      "   4       3.3e-12    1.1579\n",
      "Elapsed Time =    1.16 Seconds\n"
     ]
    },
    {
     "data": {
      "text/html": [
       "<div>\n",
       "<style scoped>\n",
       "    .dataframe tbody tr th:only-of-type {\n",
       "        vertical-align: middle;\n",
       "    }\n",
       "\n",
       "    .dataframe tbody tr th {\n",
       "        vertical-align: top;\n",
       "    }\n",
       "\n",
       "    .dataframe thead th {\n",
       "        text-align: right;\n",
       "    }\n",
       "</style>\n",
       "<table border=\"1\" class=\"dataframe\">\n",
       "  <thead>\n",
       "    <tr style=\"text-align: right;\">\n",
       "      <th></th>\n",
       "      <th></th>\n",
       "      <th>wage</th>\n",
       "      <th>i</th>\n",
       "      <th>value</th>\n",
       "      <th>resid</th>\n",
       "      <th>j*</th>\n",
       "      <th>value[idle]</th>\n",
       "      <th>value[active]</th>\n",
       "    </tr>\n",
       "    <tr>\n",
       "      <th></th>\n",
       "      <th>wage</th>\n",
       "      <th></th>\n",
       "      <th></th>\n",
       "      <th></th>\n",
       "      <th></th>\n",
       "      <th></th>\n",
       "      <th></th>\n",
       "      <th></th>\n",
       "    </tr>\n",
       "  </thead>\n",
       "  <tbody>\n",
       "    <tr>\n",
       "      <th rowspan=\"5\" valign=\"top\">unemployed</th>\n",
       "      <th>0.000000</th>\n",
       "      <td>0.000000</td>\n",
       "      <td>0</td>\n",
       "      <td>1911.101186</td>\n",
       "      <td>0.000000e+00</td>\n",
       "      <td>idle</td>\n",
       "      <td>1911.101186</td>\n",
       "      <td>1906.101213</td>\n",
       "    </tr>\n",
       "    <tr>\n",
       "      <th>0.133422</th>\n",
       "      <td>0.133422</td>\n",
       "      <td>0</td>\n",
       "      <td>1911.101997</td>\n",
       "      <td>-1.405169e-10</td>\n",
       "      <td>idle</td>\n",
       "      <td>1911.101997</td>\n",
       "      <td>1906.102026</td>\n",
       "    </tr>\n",
       "    <tr>\n",
       "      <th>0.266845</th>\n",
       "      <td>0.266845</td>\n",
       "      <td>0</td>\n",
       "      <td>1911.102810</td>\n",
       "      <td>-1.452918e-10</td>\n",
       "      <td>idle</td>\n",
       "      <td>1911.102810</td>\n",
       "      <td>1906.102841</td>\n",
       "    </tr>\n",
       "    <tr>\n",
       "      <th>0.400267</th>\n",
       "      <td>0.400267</td>\n",
       "      <td>0</td>\n",
       "      <td>1911.103625</td>\n",
       "      <td>-5.456968e-11</td>\n",
       "      <td>idle</td>\n",
       "      <td>1911.103625</td>\n",
       "      <td>1906.103656</td>\n",
       "    </tr>\n",
       "    <tr>\n",
       "      <th>0.533689</th>\n",
       "      <td>0.533689</td>\n",
       "      <td>0</td>\n",
       "      <td>1911.104440</td>\n",
       "      <td>9.481482e-11</td>\n",
       "      <td>idle</td>\n",
       "      <td>1911.104440</td>\n",
       "      <td>1906.104473</td>\n",
       "    </tr>\n",
       "  </tbody>\n",
       "</table>\n",
       "</div>"
      ],
      "text/plain": [
       "                         wage  i        value         resid    j*  \\\n",
       "           wage                                                     \n",
       "unemployed 0.000000  0.000000  0  1911.101186  0.000000e+00  idle   \n",
       "           0.133422  0.133422  0  1911.101997 -1.405169e-10  idle   \n",
       "           0.266845  0.266845  0  1911.102810 -1.452918e-10  idle   \n",
       "           0.400267  0.400267  0  1911.103625 -5.456968e-11  idle   \n",
       "           0.533689  0.533689  0  1911.104440  9.481482e-11  idle   \n",
       "\n",
       "                     value[idle]  value[active]  \n",
       "           wage                                  \n",
       "unemployed 0.000000  1911.101186    1906.101213  \n",
       "           0.133422  1911.101997    1906.102026  \n",
       "           0.266845  1911.102810    1906.102841  \n",
       "           0.400267  1911.103625    1906.103656  \n",
       "           0.533689  1911.104440    1906.104473  "
      ]
     },
     "execution_count": 8,
     "metadata": {},
     "output_type": "execute_result"
    }
   ],
   "source": [
    "S = model.solve(print=True)\n",
    "S.head()"
   ]
  },
  {
   "cell_type": "markdown",
   "metadata": {},
   "source": [
    "### Compute and Print Critical Action Wages"
   ]
  },
  {
   "cell_type": "code",
   "execution_count": 9,
   "metadata": {},
   "outputs": [
    {
     "name": "stdout",
     "output_type": "stream",
     "text": [
      "Critical Search Wage =  93.8\n",
      "Critical Quit Wage   =  79.4\n"
     ]
    }
   ],
   "source": [
    "def critical(db):\n",
    "    wcrit = np.interp(0, db['value[active]'] - db['value[idle]'], db['wage'])\n",
    "    vcrit = np.interp(wcrit, db['wage'], db['value[idle]'])\n",
    "    return wcrit, vcrit\n",
    "\n",
    "wcrit0, vcrit0 = critical(S.loc['unemployed'])\n",
    "print(f'Critical Search Wage = {wcrit0:5.1f}')\n",
    "\n",
    "wcrit1, vcrit1 = critical(S.loc['employed'])\n",
    "print(f'Critical Quit Wage   = {wcrit1:5.1f}')"
   ]
  },
  {
   "cell_type": "markdown",
   "metadata": {},
   "source": [
    "### Plot Action-Contingent Value Function"
   ]
  },
  {
   "cell_type": "code",
   "execution_count": 10,
   "metadata": {},
   "outputs": [
    {
     "data": {
      "text/plain": [
       "<matplotlib.legend.Legend at 0x2c71e1b7358>"
      ]
     },
     "execution_count": 10,
     "metadata": {},
     "output_type": "execute_result"
    },
    {
     "data": {
      "image/png": "[encoded data removed]",
      "text/plain": [
       "<matplotlib.figure.Figure at 0x2c71ea16320>"
      ]
     },
     "metadata": {},
     "output_type": "display_data"
    }
   ],
   "source": [
    "vv = ['value[idle]','value[active]']\n",
    "fig1 = plt.figure(figsize=[12,4])\n",
    "\n",
    "# UNEMPLOYED\n",
    "demo.subplot(1,2,1,'Action-Contingent Value, Unemployed', 'Wage', 'Value')\n",
    "plt.plot(S.loc['unemployed',vv])\n",
    "demo.annotate(wcrit0, vcrit0, f'$w^*_0 = {wcrit0:.1f}$', 'wo', (5, -5), fs=12)\n",
    "plt.legend(['Do Not Search', 'Search'], loc='upper left')\n",
    "\n",
    "\n",
    "# EMPLOYED\n",
    "demo.subplot(1,2,2,'Action-Contingent Value, Employed', 'Wage', 'Value')\n",
    "plt.plot(S.loc['employed',vv])\n",
    "demo.annotate(wcrit1, vcrit1, f'$w^*_0 = {wcrit1:.1f}$', 'wo',(5, -5), fs=12)\n",
    "plt.legend(['Quit', 'Work'], loc='upper left')"
   ]
  },
  {
   "cell_type": "markdown",
   "metadata": {},
   "source": [
    "### Plot Residual"
   ]
  },
  {
   "cell_type": "code",
   "execution_count": 11,
   "metadata": {},
   "outputs": [
    {
     "data": {
      "text/plain": [
       "<matplotlib.legend.Legend at 0x2c71e9e6cf8>"
      ]
     },
     "execution_count": 11,
     "metadata": {},
     "output_type": "execute_result"
    },
    {
     "data": {
      "image/png": "[encoded data removed]",
      "text/plain": [
       "<matplotlib.figure.Figure at 0x2c71e717748>"
      ]
     },
     "metadata": {},
     "output_type": "display_data"
    }
   ],
   "source": [
    "S['resid2'] = 100 * (S['resid'] / S['value'])\n",
    "fig2 = demo.figure('Bellman Equation Residual', 'Wage', 'Percent Residual')\n",
    "plt.plot(S.loc['unemployed','resid2'])\n",
    "plt.plot(S.loc['employed','resid2'])\n",
    "plt.legend(model.labels.i)"
   ]
  },
  {
   "cell_type": "markdown",
   "metadata": {},
   "source": [
    "## SIMULATION"
   ]
  },
  {
   "cell_type": "markdown",
   "metadata": {},
   "source": [
    "### Simulate Model\n",
    "\n",
    "We simulate the model 10000 times for a time horizon $T=40$, starting with an unemployed worker ($i=0$) at the long-term wage rate mean $\\bar{w}$. To be able to reproduce these results, we set the random seed at an arbitrary value of 945."
   ]
  },
  {
   "cell_type": "code",
   "execution_count": 12,
   "metadata": {},
   "outputs": [],
   "source": [
    "T = 40\n",
    "nrep = 10000\n",
    "sinit = np.full((1, nrep), wbar)\n",
    "iinit = 0\n",
    "data = model.simulate(T, sinit, iinit, seed=945)"
   ]
  },
  {
   "cell_type": "code",
   "execution_count": 13,
   "metadata": {},
   "outputs": [
    {
     "data": {
      "text/html": [
       "<div>\n",
       "<style scoped>\n",
       "    .dataframe tbody tr th:only-of-type {\n",
       "        vertical-align: middle;\n",
       "    }\n",
       "\n",
       "    .dataframe tbody tr th {\n",
       "        vertical-align: top;\n",
       "    }\n",
       "\n",
       "    .dataframe thead th {\n",
       "        text-align: right;\n",
       "    }\n",
       "</style>\n",
       "<table border=\"1\" class=\"dataframe\">\n",
       "  <thead>\n",
       "    <tr style=\"text-align: right;\">\n",
       "      <th></th>\n",
       "      <th>time</th>\n",
       "      <th>_rep</th>\n",
       "      <th>i</th>\n",
       "      <th>wage</th>\n",
       "      <th>j*</th>\n",
       "    </tr>\n",
       "  </thead>\n",
       "  <tbody>\n",
       "    <tr>\n",
       "      <th>0</th>\n",
       "      <td>0</td>\n",
       "      <td>0</td>\n",
       "      <td>unemployed</td>\n",
       "      <td>100.0</td>\n",
       "      <td>active</td>\n",
       "    </tr>\n",
       "    <tr>\n",
       "      <th>1</th>\n",
       "      <td>0</td>\n",
       "      <td>1</td>\n",
       "      <td>unemployed</td>\n",
       "      <td>100.0</td>\n",
       "      <td>active</td>\n",
       "    </tr>\n",
       "    <tr>\n",
       "      <th>2</th>\n",
       "      <td>0</td>\n",
       "      <td>2</td>\n",
       "      <td>unemployed</td>\n",
       "      <td>100.0</td>\n",
       "      <td>active</td>\n",
       "    </tr>\n",
       "    <tr>\n",
       "      <th>3</th>\n",
       "      <td>0</td>\n",
       "      <td>3</td>\n",
       "      <td>unemployed</td>\n",
       "      <td>100.0</td>\n",
       "      <td>active</td>\n",
       "    </tr>\n",
       "    <tr>\n",
       "      <th>4</th>\n",
       "      <td>0</td>\n",
       "      <td>4</td>\n",
       "      <td>unemployed</td>\n",
       "      <td>100.0</td>\n",
       "      <td>active</td>\n",
       "    </tr>\n",
       "  </tbody>\n",
       "</table>\n",
       "</div>"
      ],
      "text/plain": [
       "   time  _rep           i   wage      j*\n",
       "0     0     0  unemployed  100.0  active\n",
       "1     0     1  unemployed  100.0  active\n",
       "2     0     2  unemployed  100.0  active\n",
       "3     0     3  unemployed  100.0  active\n",
       "4     0     4  unemployed  100.0  active"
      ]
     },
     "execution_count": 13,
     "metadata": {},
     "output_type": "execute_result"
    }
   ],
   "source": [
    "data.head()"
   ]
  },
  {
   "cell_type": "markdown",
   "metadata": {},
   "source": [
    "### Print Ergodic Moments"
   ]
  },
  {
   "cell_type": "code",
   "execution_count": 14,
   "metadata": {},
   "outputs": [
    {
     "name": "stdout",
     "output_type": "stream",
     "text": [
      "\n",
      "Ergodic Means\n",
      "\tWage         = 100.02\n",
      "\tEmployment   =  0.58\n",
      "\n",
      "Ergodic Standard Deviations\n",
      "\tWage         =  5.37\n",
      "\tEmployment   =  0.49\n"
     ]
    }
   ],
   "source": [
    "ff = '\\t{:12s} = {:5.2f}'\n",
    "\n",
    "print('\\nErgodic Means')\n",
    "print(ff.format('Wage', data['wage'].mean()))\n",
    "print(ff.format('Employment', (data['i'] == 'employed').mean()))\n",
    "print('\\nErgodic Standard Deviations')\n",
    "print(ff.format('Wage',data['wage'].std()))\n",
    "print(ff.format('Employment', (data['i'] == 'employed').std()))"
   ]
  },
  {
   "cell_type": "markdown",
   "metadata": {},
   "source": [
    "### Plot Expected Discrete State Path"
   ]
  },
  {
   "cell_type": "code",
   "execution_count": 15,
   "metadata": {},
   "outputs": [
    {
     "data": {
      "text/html": [
       "<div>\n",
       "<style scoped>\n",
       "    .dataframe tbody tr th:only-of-type {\n",
       "        vertical-align: middle;\n",
       "    }\n",
       "\n",
       "    .dataframe tbody tr th {\n",
       "        vertical-align: top;\n",
       "    }\n",
       "\n",
       "    .dataframe thead th {\n",
       "        text-align: right;\n",
       "    }\n",
       "</style>\n",
       "<table border=\"1\" class=\"dataframe\">\n",
       "  <thead>\n",
       "    <tr style=\"text-align: right;\">\n",
       "      <th></th>\n",
       "      <th>time</th>\n",
       "      <th>_rep</th>\n",
       "      <th>i</th>\n",
       "      <th>wage</th>\n",
       "      <th>j*</th>\n",
       "    </tr>\n",
       "  </thead>\n",
       "  <tbody>\n",
       "    <tr>\n",
       "      <th>0</th>\n",
       "      <td>0</td>\n",
       "      <td>0</td>\n",
       "      <td>unemployed</td>\n",
       "      <td>100.0</td>\n",
       "      <td>active</td>\n",
       "    </tr>\n",
       "    <tr>\n",
       "      <th>1</th>\n",
       "      <td>0</td>\n",
       "      <td>1</td>\n",
       "      <td>unemployed</td>\n",
       "      <td>100.0</td>\n",
       "      <td>active</td>\n",
       "    </tr>\n",
       "    <tr>\n",
       "      <th>2</th>\n",
       "      <td>0</td>\n",
       "      <td>2</td>\n",
       "      <td>unemployed</td>\n",
       "      <td>100.0</td>\n",
       "      <td>active</td>\n",
       "    </tr>\n",
       "    <tr>\n",
       "      <th>3</th>\n",
       "      <td>0</td>\n",
       "      <td>3</td>\n",
       "      <td>unemployed</td>\n",
       "      <td>100.0</td>\n",
       "      <td>active</td>\n",
       "    </tr>\n",
       "    <tr>\n",
       "      <th>4</th>\n",
       "      <td>0</td>\n",
       "      <td>4</td>\n",
       "      <td>unemployed</td>\n",
       "      <td>100.0</td>\n",
       "      <td>active</td>\n",
       "    </tr>\n",
       "  </tbody>\n",
       "</table>\n",
       "</div>"
      ],
      "text/plain": [
       "   time  _rep           i   wage      j*\n",
       "0     0     0  unemployed  100.0  active\n",
       "1     0     1  unemployed  100.0  active\n",
       "2     0     2  unemployed  100.0  active\n",
       "3     0     3  unemployed  100.0  active\n",
       "4     0     4  unemployed  100.0  active"
      ]
     },
     "execution_count": 15,
     "metadata": {},
     "output_type": "execute_result"
    }
   ],
   "source": [
    "data.head()"
   ]
  },
  {
   "cell_type": "code",
   "execution_count": 16,
   "metadata": {},
   "outputs": [
    {
     "data": {
      "text/plain": [
       "[<matplotlib.lines.Line2D at 0x2c71eb018d0>]"
      ]
     },
     "execution_count": 16,
     "metadata": {},
     "output_type": "execute_result"
    },
    {
     "data": {
      "image/png": "[encoded data removed]",
      "text/plain": [
       "<matplotlib.figure.Figure at 0x2c71eb2a0b8>"
      ]
     },
     "metadata": {},
     "output_type": "display_data"
    }
   ],
   "source": [
    "data['ii'] = data['i'] == 'employed'\n",
    "\n",
    "fig3 = demo.figure('Probability of Employment', 'Period','Probability')\n",
    "plt.plot(data[['ii','time']].groupby('time').mean())"
   ]
  },
  {
   "cell_type": "markdown",
   "metadata": {},
   "source": [
    "### Plot Simulated and Expected Continuous State Path"
   ]
  },
  {
   "cell_type": "code",
   "execution_count": 17,
   "metadata": {},
   "outputs": [
    {
     "data": {
      "text/plain": [
       "[<matplotlib.lines.Line2D at 0x2c71eb8aeb8>]"
      ]
     },
     "execution_count": 17,
     "metadata": {},
     "output_type": "execute_result"
    },
    {
     "data": {
      "image/png": "[encoded data removed]",
      "text/plain": [
       "<matplotlib.figure.Figure at 0x2c71eb2a080>"
      ]
     },
     "metadata": {},
     "output_type": "display_data"
    }
   ],
   "source": [
    "subdata = data[data['_rep'].isin(range(3))]\n",
    "\n",
    "fig4 = demo.figure('Simulated and Expected Wage', 'Period', 'Wage')\n",
    "plt.plot(subdata.pivot('time', '_rep', 'wage'))\n",
    "plt.plot(data[['time','wage']].groupby('time').mean(),'k--',label='mean')"
   ]
  },
  {
   "cell_type": "code",
   "execution_count": 18,
   "metadata": {},
   "outputs": [],
   "source": [
    "#demo.savefig([fig1,fig2,fig3,fig4])"
   ]
  }
 ],
 "metadata": {
  "kernelspec": {
   "display_name": "Python 3",
   "language": "python",
   "name": "python3"
  },
  "language_info": {
   "codemirror_mode": {
    "name": "ipython",
    "version": 3
   },
   "file_extension": ".py",
   "mimetype": "text/x-python",
   "name": "python",
   "nbconvert_exporter": "python",
   "pygments_lexer": "ipython3",
   "version": "3.6.4"
  }
 },
 "nbformat": 4,
 "nbformat_minor": 1
}
