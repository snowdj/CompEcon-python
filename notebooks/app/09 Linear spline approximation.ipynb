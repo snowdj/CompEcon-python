{
 "cells": [
  {
   "cell_type": "markdown",
   "metadata": {},
   "source": [
    "<center>\n",
    "<b>CompEcon Toolbox:</b>\n",
    "<div style=\"font-size:175%;color:white; background-color: #0064b0;\">DemApp09</div>\n",
    "<div style=\"font-size:250%;color:white; background-color: #0064b0;\">Linear Spline Approximation</div>\n",
    "\n",
    "<b>Randall Romero Aguilar, PhD</b>\n",
    "<br><br>\n",
    "\n",
    "</center>\n",
    "\n",
    "This demo is based on the original Matlab demo accompanying the  <a href=\"https://mitpress.mit.edu/books/applied-computational-economics-and-finance\">Computational Economics and Finance</a> 2001 textbook by Mario Miranda and Paul Fackler.\n",
    "\n",
    "\n",
    "<i>Last updated: 2020-Sep-09</i>"
   ]
  },
  {
   "cell_type": "markdown",
   "metadata": {},
   "source": [
    "## Initial tasks"
   ]
  },
  {
   "cell_type": "code",
   "execution_count": null,
   "metadata": {},
   "outputs": [],
   "source": [
    "if 'google.colab' in str(get_ipython()):\n",
    "    print(\"This notebook is running on Google Colab. Installing the compecon package.\")\n",
    "    !pip install compecon"
   ]
  },
  {
   "cell_type": "code",
   "execution_count": null,
   "metadata": {},
   "outputs": [],
   "source": [
    "import numpy as np\n",
    "import matplotlib.pyplot as plt\n",
    "from compecon import BasisSpline, demo"
   ]
  },
  {
   "cell_type": "code",
   "execution_count": null,
   "metadata": {},
   "outputs": [],
   "source": [
    "def f(x):\n",
    "    return 50 - np.cos(x**2 / 8) * (x - np.pi + .5)**2"
   ]
  },
  {
   "cell_type": "code",
   "execution_count": null,
   "metadata": {},
   "outputs": [],
   "source": [
    "xmin, xmax = 0.0, 1.5*np.pi\n",
    "off = 0.05\n",
    "xlims = [xmin - off, xmax + off]\n",
    "n = 401\n",
    "x = np.linspace(xmin, xmax, n)\n",
    "y = f(x)\n",
    "ymin, ymax = y.min(), y.max()\n",
    "ywid = ymax - ymin\n",
    "ylims = [ymin - 0.5*ywid, ymax + 0.1*ywid]"
   ]
  },
  {
   "cell_type": "code",
   "execution_count": null,
   "metadata": {},
   "outputs": [],
   "source": [
    "figs = []\n",
    "for nnode in 3, 5, 9:\n",
    "    F = BasisSpline(nnode, xmin, xmax, k=1, f=f)\n",
    "    xnodes = F.nodes[0]\n",
    "\n",
    "    xx = np.r_[x, xnodes]\n",
    "    xx.sort()\n",
    "\n",
    "    fig, ax= plt.subplots(figsize=[10,5])\n",
    "    ax.set(title = f'Linear Spline with {nnode} nodes',\n",
    "           #xlabel='', ylabel='', \n",
    "           xlim=xlims, ylim=ylims)\n",
    "    \n",
    "    ax.plot(xx, f(xx), lw=3)  # true function\n",
    "    ax.plot(xx, F(xx), 'r', lw=1) # approximation\n",
    "    ax.set_yticks(ylims, ['', ''])\n",
    "    xe = ['$x_{%d}$' % k for k in range(nnode)]\n",
    "    xe[0], xe[-1] = '$x_0=a$', '$x_{%d}=b$' % (nnode-1)\n",
    "    ax.set_xticks(xnodes)\n",
    "    ax.set_xticklabels(xe, fontsize=18)\n",
    "    for i, xi in enumerate(xnodes):\n",
    "        ax.vlines(xi, ylims[0], F(xi), 'gray','--')\n",
    "        \n",
    "    figs.append(fig)    "
   ]
  },
  {
   "cell_type": "markdown",
   "metadata": {},
   "source": [
    "### Save all figures to disc"
   ]
  },
  {
   "cell_type": "code",
   "execution_count": null,
   "metadata": {},
   "outputs": [],
   "source": [
    "#demo.savefig(figs, name='demapp09')"
   ]
  }
 ],
 "metadata": {
  "kernelspec": {
   "display_name": "Python 3",
   "language": "python",
   "name": "python3"
  },
  "language_info": {
   "codemirror_mode": {
    "name": "ipython",
    "version": 3
   },
   "file_extension": ".py",
   "mimetype": "text/x-python",
   "name": "python",
   "nbconvert_exporter": "python",
   "pygments_lexer": "ipython3",
   "version": "3.8.3"
  }
 },
 "nbformat": 4,
 "nbformat_minor": 4
}
