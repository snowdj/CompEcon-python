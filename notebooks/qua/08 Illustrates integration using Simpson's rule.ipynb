{
 "cells": [
  {
   "cell_type": "markdown",
   "metadata": {},
   "source": [
    "<center>\n",
    "<b>CompEcon Toolbox:</b>\n",
    "<div style=\"font-size:175%;color:white; background-color: #0064b0;\">DemQua08</div>\n",
    "<div style=\"font-size:250%;color:white; background-color: #0064b0;\">Illustrates integration using Simpson's rule</div>\n",
    "\n",
    "<b>Randall Romero Aguilar, PhD</b>\n",
    "<br><br>\n",
    "\n",
    "</center>\n",
    "\n",
    "This demo is based on the original Matlab demo accompanying the  <a href=\"https://mitpress.mit.edu/books/applied-computational-economics-and-finance\">Computational Economics and Finance</a> 2001 textbook by Mario Miranda and Paul Fackler.\n",
    "\n",
    "\n",
    "<i>Last updated: 2020-Sep-10</i>"
   ]
  },
  {
   "cell_type": "markdown",
   "metadata": {},
   "source": [
    "## Initial tasks"
   ]
  },
  {
   "cell_type": "code",
   "execution_count": null,
   "metadata": {},
   "outputs": [],
   "source": [
    "if 'google.colab' in str(get_ipython()):\n",
    "    print(\"This notebook is running on Google Colab. Installing the compecon package.\")\n",
    "    !pip install compecon"
   ]
  },
  {
   "cell_type": "code",
   "execution_count": null,
   "metadata": {},
   "outputs": [],
   "source": [
    "from numpy import poly1d,polyfit, linspace, array\n",
    "from compecon import qnwsimp, demo\n",
    "import matplotlib.pyplot as plt"
   ]
  },
  {
   "cell_type": "code",
   "execution_count": null,
   "metadata": {},
   "outputs": [],
   "source": [
    "n = 1001\n",
    "xmin, xmax = -1, 1\n",
    "xwid = xmax-xmin\n",
    "x = linspace(xmin, xmax, n)"
   ]
  },
  {
   "cell_type": "code",
   "execution_count": null,
   "metadata": {},
   "outputs": [],
   "source": [
    "f = poly1d([2.0, -1.0, 0.5, 5.0])"
   ]
  },
  {
   "cell_type": "code",
   "execution_count": null,
   "metadata": {},
   "outputs": [],
   "source": [
    "def fitquad(xi):\n",
    "    newcoef = polyfit(xi, f(xi), 2)\n",
    "    return poly1d(newcoef)"
   ]
  },
  {
   "cell_type": "code",
   "execution_count": null,
   "metadata": {},
   "outputs": [],
   "source": [
    "def plot_simp(n):\n",
    "    xi, wi = qnwsimp(n+1, xmin, xmax)\n",
    "    \n",
    "    fig, ax = plt.subplots()\n",
    "    ax.plot(x, f(x), linewidth=3)\n",
    "    \n",
    "    for k in range(n//2):\n",
    "        xii = xi[(2*k):(2*k+3)]\n",
    "        xiii = linspace(xii[0], xii[2], 125)\n",
    "        p = fitquad(xii)\n",
    "        ax.fill_between(xiii, p(xiii), alpha=0.35, color='LightSkyBlue')    \n",
    "        ax.plot(xiii, p(xiii),color='Tab:Orange', linestyle='--')\n",
    "    \n",
    "    plt.vlines(xi, 0, f(xi),'k', linestyle=':')\n",
    "    plt.hlines(0,xmin-0.1, xmax+0.1,'k',linewidth=2)\n",
    "    plt.xlim(xmin-0.1, xmax+0.1)\n",
    "    xtl = ['$x_{%d}$' % i for i in range(n+1)]\n",
    "    xtl[0] += '=a'\n",
    "    xtl[n] += '=b'\n",
    "    plt.xticks(xi, xtl)\n",
    "    plt.yticks([0],['0'])\n",
    "    plt.legend([r'$f(x)$', f'$\\\\tilde{{f}}_{n+1}(x)$'])\n",
    "    return fig"
   ]
  },
  {
   "cell_type": "code",
   "execution_count": null,
   "metadata": {},
   "outputs": [],
   "source": [
    "def plot_simp(n):\n",
    "    xi, wi = qnwsimp(n+1, xmin, xmax)\n",
    "    \n",
    "    fig, ax = plt.subplots()\n",
    "    ax.plot(x, f(x), linewidth=3)\n",
    "    \n",
    "    for k in range(n//2):\n",
    "        xii = xi[(2*k):(2*k+3)]\n",
    "        xiii = linspace(xii[0], xii[2], 125)\n",
    "        p = fitquad(xii)\n",
    "        ax.fill_between(xiii, p(xiii), alpha=0.35, color='LightSkyBlue')    \n",
    "        ax.plot(xiii, p(xiii), color='Tab:Orange', linestyle='--')\n",
    "    \n",
    "    ax.vlines(xi, 0, f(xi), color='Tab:Orange', linestyle=':')\n",
    "    ax.axhline(0,color='k',linewidth=2)\n",
    "    \n",
    "    xtl = [f'$x_{i}$' for i in range(n+1)]\n",
    "    xtl[0] += '=a'\n",
    "    xtl[n] += '=b'\n",
    "    \n",
    "    ax.set(xlim=[xmin-0.1, xmax+0.1], xticks=xi, xticklabels=xtl,\n",
    "           yticks=[0], yticklabels=['0'])\n",
    "    \n",
    "    plt.legend([r'$f(x)$', f'$\\\\tilde{{f}}_{n+1}(x)$'])\n",
    "    return fig\n",
    "\n",
    "figs = [plot_simp(n) for n in [2, 4, 8]]\n",
    "#demo.savefig(figs,name='demqua08')"
   ]
  }
 ],
 "metadata": {
  "kernelspec": {
   "display_name": "Python 3",
   "language": "python",
   "name": "python3"
  },
  "language_info": {
   "codemirror_mode": {
    "name": "ipython",
    "version": 3
   },
   "file_extension": ".py",
   "mimetype": "text/x-python",
   "name": "python",
   "nbconvert_exporter": "python",
   "pygments_lexer": "ipython3",
   "version": "3.8.3"
  }
 },
 "nbformat": 4,
 "nbformat_minor": 4
}
