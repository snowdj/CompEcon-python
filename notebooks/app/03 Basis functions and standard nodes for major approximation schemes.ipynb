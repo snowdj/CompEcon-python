{
 "cells": [
  {
   "cell_type": "markdown",
   "metadata": {},
   "source": [
    "<center>\n",
    "<b>CompEcon Toolbox:</b>\n",
    "<div style=\"font-size:175%;color:white; background-color: #0064b0;\">DemApp03</div>\n",
    "<div style=\"font-size:250%;color:white; background-color: #0064b0;\">Basis functions and standard nodes for major approximation schemes</div>\n",
    "\n",
    "<b>Randall Romero Aguilar, PhD</b>\n",
    "<br><br>\n",
    "\n",
    "</center>\n",
    "\n",
    "This demo is based on the original Matlab demo accompanying the  <a href=\"https://mitpress.mit.edu/books/applied-computational-economics-and-finance\">Computational Economics and Finance</a> 2001 textbook by Mario Miranda and Paul Fackler.\n",
    "\n",
    "\n",
    "<i>Last updated: 2020-Sep-08</i>"
   ]
  },
  {
   "cell_type": "markdown",
   "metadata": {},
   "source": [
    "## Initial tasks"
   ]
  },
  {
   "cell_type": "code",
   "execution_count": null,
   "metadata": {},
   "outputs": [],
   "source": [
    "if 'google.colab' in str(get_ipython()):\n",
    "    print(\"This notebook is running on Google Colab. Installing the compecon package.\")\n",
    "    !pip install compecon"
   ]
  },
  {
   "cell_type": "markdown",
   "metadata": {},
   "source": [
    "### Set degree of approximation and approximation interval"
   ]
  },
  {
   "cell_type": "code",
   "execution_count": null,
   "metadata": {},
   "outputs": [],
   "source": [
    "import numpy as np\n",
    "import matplotlib.pyplot as plt\n",
    "from compecon import BasisChebyshev, BasisSpline, demo \n",
    "\n",
    "FIGSIZE = [9,6]"
   ]
  },
  {
   "cell_type": "code",
   "execution_count": null,
   "metadata": {},
   "outputs": [],
   "source": [
    "n, a, b = 12, -1, 1"
   ]
  },
  {
   "cell_type": "markdown",
   "metadata": {},
   "source": [
    "###  Routine for plotting basis functions"
   ]
  },
  {
   "cell_type": "code",
   "execution_count": null,
   "metadata": {},
   "outputs": [],
   "source": [
    "def basisplot(x,Phi,figtitle, titles):\n",
    "    fig, axs = plt.subplots(3, 4, figsize=FIGSIZE, sharex=True,sharey=True)\n",
    "    ymin = np.round(Phi.min())\n",
    "    ymax = np.round(Phi.max())\n",
    "    degree = 0\n",
    "    for phi, ax, ttl in zip(Phi, axs.flatten(), titles):        \n",
    "        ax.plot(x, phi, lw=4)\n",
    "        ax.set_title(ttl, size=14)\n",
    "        ax.set_xticklabels([a, b], fontsize=11)\n",
    "        ax.set_yticklabels([ymin, ymax], fontsize=11)\n",
    "        degree += 1\n",
    "    ax.set(ylim=[ymin,ymax], xlim=[a,b],xticks=[a, b], yticks=[ymin, ymax])\n",
    "    fig.suptitle(figtitle, size=16)    \n",
    "    return fig"
   ]
  },
  {
   "cell_type": "markdown",
   "metadata": {},
   "source": [
    "### Construct plotting grid"
   ]
  },
  {
   "cell_type": "code",
   "execution_count": null,
   "metadata": {},
   "outputs": [],
   "source": [
    "m = 1001\n",
    "x = np.linspace(a, b, m)"
   ]
  },
  {
   "cell_type": "markdown",
   "metadata": {},
   "source": [
    "### Plot monomial basis functions"
   ]
  },
  {
   "cell_type": "code",
   "execution_count": null,
   "metadata": {},
   "outputs": [],
   "source": [
    "Phi = np.array([x ** j for j in np.arange(n)])\n",
    "figm = basisplot(x,Phi,'Monomial Basis Functions on [-1,1]',['$x^{%d}$' % d for d in range(12)])"
   ]
  },
  {
   "cell_type": "markdown",
   "metadata": {},
   "source": [
    "### Plot Chebychev basis functions and nodes"
   ]
  },
  {
   "cell_type": "code",
   "execution_count": null,
   "metadata": {},
   "outputs": [],
   "source": [
    "B = BasisChebyshev(n,a,b)\n",
    "figch = basisplot(x, B.Phi(x).T,'Chebychev Polynomial Basis Functions on [-1,1]',['$T_{%d}(z)$' % d for d in range(12)])"
   ]
  },
  {
   "cell_type": "markdown",
   "metadata": {},
   "source": [
    "### Plot linear spline basis functions and nodes"
   ]
  },
  {
   "cell_type": "code",
   "execution_count": null,
   "metadata": {},
   "outputs": [],
   "source": [
    "L = BasisSpline(n,a,b,k=1)\n",
    "figl = basisplot(x, L.Phi(x).T.toarray(),'Linear Spline Basis Functions on [-1,1]', [f'Spline {d}' for d in range(12)])"
   ]
  },
  {
   "cell_type": "markdown",
   "metadata": {},
   "source": [
    "### Plot cubic spline basis functions and nodes"
   ]
  },
  {
   "cell_type": "code",
   "execution_count": null,
   "metadata": {},
   "outputs": [],
   "source": [
    "C = BasisSpline(n,a,b,k=3)\n",
    "figc = basisplot(x, C.Phi(x).T.toarray(),'Cubic Spline Basis Functions on [-1,1]',[f'Spline {d}' for d in range(12)])"
   ]
  },
  {
   "cell_type": "markdown",
   "metadata": {},
   "source": [
    "###  Routine for plotting approximation nodes"
   ]
  },
  {
   "cell_type": "code",
   "execution_count": null,
   "metadata": {},
   "outputs": [],
   "source": [
    "fignodos, axs = plt.subplots(7,1,figsize=FIGSIZE, sharex=True, sharey=True)\n",
    "for i, ax in enumerate(axs.flatten()):\n",
    "    n = i+3\n",
    "    B = BasisChebyshev(n,a,b)\n",
    "    ax.plot(B.nodes, 0, 'bo')\n",
    "    ax.set_xticks([a,0,b])\n",
    "    ax.set_xticklabels([a,0,b], fontsize=11)\n",
    "    ax.set_yticks([])\n",
    "    ax.text(1.07, 0, f'$n={n}$', size=12)\n",
    "    fignodos.suptitle('Chebyshev nodes', size=16) "
   ]
  },
  {
   "cell_type": "code",
   "execution_count": null,
   "metadata": {},
   "outputs": [],
   "source": [
    "fig0x, ax = plt.subplots(figsize=[9,3])\n",
    "B = BasisChebyshev(5,a,b)\n",
    "ax.plot(x, B.Phi(x)[:,-1])\n",
    "xextr=np.cos(np.arange(5)*np.pi/4)\n",
    "ax.plot(xextr, B.Phi(xextr)[:,-1],'r*')\n",
    "for i, vv in enumerate(xextr):\n",
    "    ax.text(vv,B.Phi(vv)[:,-1],r'$\\frac{%d \\pi}{8}$' % (2*i), ha='center', va='bottom')  \n",
    "\n",
    "xcero = np.cos((np.arange(4)+0.5)*np.pi/4)\n",
    "ax.plot(xcero, B.Phi(xcero)[:,-1],'bo')\n",
    "\n",
    "for i, vv in enumerate(xcero):\n",
    "    ax.text(vv,0,r' $\\frac{%d \\pi}{8}$' % (2*i+1), ha='left', va='center') \n",
    "\n",
    "ax.set_xticks([-1,0,1])\n",
    "ax.set_xticklabels([-1,0,1],fontsize=11)\n",
    "ax.set_yticks([-1,0,1])\n",
    "ax.set_yticklabels([-1,0,1],fontsize=11)\n",
    "ax.set_title('Extrema and zeros of a Chebyshev polynomial\\n', size=16);"
   ]
  },
  {
   "cell_type": "markdown",
   "metadata": {},
   "source": [
    "### Save all figures to disc"
   ]
  },
  {
   "cell_type": "code",
   "execution_count": null,
   "metadata": {},
   "outputs": [],
   "source": [
    "#demo.savefig([figm, figch, fignodos, figl, figc, fig0x], name='demapp03')"
   ]
  }
 ],
 "metadata": {
  "kernelspec": {
   "display_name": "Python 3",
   "language": "python",
   "name": "python3"
  },
  "language_info": {
   "codemirror_mode": {
    "name": "ipython",
    "version": 3
   },
   "file_extension": ".py",
   "mimetype": "text/x-python",
   "name": "python",
   "nbconvert_exporter": "python",
   "pygments_lexer": "ipython3",
   "version": "3.8.3"
  }
 },
 "nbformat": 4,
 "nbformat_minor": 4
}
