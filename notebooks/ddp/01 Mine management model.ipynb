{
 "cells": [
  {
   "cell_type": "markdown",
   "metadata": {},
   "source": [
    "<center>\n",
    "<b>CompEcon Toolbox:</b>\n",
    "<div style=\"font-size:175%;color:white; background-color: #0064b0;\">DemDdp01</div>\n",
    "<div style=\"font-size:250%;color:white; background-color: #0064b0;\">Mine management model</div>\n",
    "\n",
    "<b>Randall Romero Aguilar, PhD</b>\n",
    "<br><br>\n",
    "\n",
    "</center>\n",
    "\n",
    "This demo is based on the original Matlab demo accompanying the  <a href=\"https://mitpress.mit.edu/books/applied-computational-economics-and-finance\">Computational Economics and Finance</a> 2001 textbook by Mario Miranda and Paul Fackler.\n",
    "\n",
    "\n",
    "<i>Last updated: 2020-Sep-09</i>"
   ]
  },
  {
   "cell_type": "markdown",
   "metadata": {},
   "source": [
    "## About"
   ]
  },
  {
   "cell_type": "markdown",
   "metadata": {},
   "source": [
    "A mine operator must decide how much ore to extract from a mine that will be shut down and abandoned after $T$ years of operation. The price of extracted ore is $p$ dollars per ton, and the total cost of extracting $x$ tons of ore in any year, given that the mine contains $s$ tons at the beginning of the year, is $c(s, x)$ dollars. The mine currently contains $\\bar{s}$ tons of ore. Assuming the amount of ore extracted in any year must be an integer number of tons, what extraction schedule maximizes profits?"
   ]
  },
  {
   "cell_type": "markdown",
   "metadata": {},
   "source": [
    "## Initial tasks"
   ]
  },
  {
   "cell_type": "code",
   "execution_count": null,
   "metadata": {},
   "outputs": [],
   "source": [
    "if 'google.colab' in str(get_ipython()):\n",
    "    print(\"This notebook is running on Google Colab. Installing the compecon package.\")\n",
    "    !pip install compecon"
   ]
  },
  {
   "cell_type": "code",
   "execution_count": null,
   "metadata": {},
   "outputs": [],
   "source": [
    "import numpy as np\n",
    "import pandas as pd\n",
    "import matplotlib.pyplot as plt\n",
    "\n",
    "from compecon import DDPmodel, getindex"
   ]
  },
  {
   "cell_type": "markdown",
   "metadata": {},
   "source": [
    "## Model Parameters"
   ]
  },
  {
   "cell_type": "markdown",
   "metadata": {},
   "source": [
    "Assuming a market price $p=1$, initial stock of ore $\\bar{s}=100$, and annual discount factor $\\delta = 0.9$"
   ]
  },
  {
   "cell_type": "code",
   "execution_count": null,
   "metadata": {},
   "outputs": [],
   "source": [
    "price = 1\n",
    "sbar  = 100\n",
    "delta = 0.9"
   ]
  },
  {
   "cell_type": "markdown",
   "metadata": {},
   "source": [
    "### State Space"
   ]
  },
  {
   "cell_type": "markdown",
   "metadata": {},
   "source": [
    "This is a finite horizon, deterministic model with time $t$ measured in years. The state\n",
    "variable $s \\in \\{0, 1, 2, \\dots, \\bar{s}\\}$ is the amount of ore remaining in the mine at the beginning of the year, measured in tons."
   ]
  },
  {
   "cell_type": "code",
   "execution_count": null,
   "metadata": {},
   "outputs": [],
   "source": [
    "S = np.arange(sbar + 1)      # vector of states\n",
    "n = S.size                   # number of states"
   ]
  },
  {
   "cell_type": "markdown",
   "metadata": {},
   "source": [
    "### Action Space"
   ]
  },
  {
   "cell_type": "markdown",
   "metadata": {},
   "source": [
    "The action variable $x \\in \\{0, 1, 2, \\dots, s\\}$ is the amount of ore extracted over the year, measured in tons."
   ]
  },
  {
   "cell_type": "code",
   "execution_count": null,
   "metadata": {},
   "outputs": [],
   "source": [
    "X = np.arange(sbar + 1)      # vector of actions\n",
    "m = X.size                   # number of actions"
   ]
  },
  {
   "cell_type": "markdown",
   "metadata": {},
   "source": [
    "### Reward Function"
   ]
  },
  {
   "cell_type": "markdown",
   "metadata": {},
   "source": [
    "The reward function is $f(s, x) = px − c(s, x)$. The cost of extraction is $c(s, x) = \\frac{x^2}{1+s}$.\n",
    "\n",
    "Here, the reward is set to negative infinity if the extraction level exceeds the available stock in order to preclude the choice of an infeasible\n",
    "action:"
   ]
  },
  {
   "cell_type": "code",
   "execution_count": null,
   "metadata": {},
   "outputs": [],
   "source": [
    "f = np.full((m, n), -np.inf)\n",
    "for c, s in enumerate(S):\n",
    "    for r, x in enumerate(X):\n",
    "        if x <= s:\n",
    "            f[r, c] = price * x - (x ** 2) / (1 + s)"
   ]
  },
  {
   "cell_type": "markdown",
   "metadata": {},
   "source": [
    "### State Transition Function"
   ]
  },
  {
   "cell_type": "markdown",
   "metadata": {},
   "source": [
    "The state transition function is $g(s, x) = s − x$\n",
    "\n",
    "Here, the routine `getindex` is used to find the index of the following period’s state."
   ]
  },
  {
   "cell_type": "code",
   "execution_count": null,
   "metadata": {},
   "outputs": [],
   "source": [
    "g = np.empty_like(f)\n",
    "for r, x in enumerate(X):\n",
    "    snext = S - x\n",
    "    g[r] = getindex(snext, S)"
   ]
  },
  {
   "cell_type": "markdown",
   "metadata": {},
   "source": [
    "## Model Structure"
   ]
  },
  {
   "cell_type": "markdown",
   "metadata": {},
   "source": [
    "The value of the mine, given that it contains $s$ tons of ore at the beginning of year $t$, satisfies the Bellman equation\n",
    "\n",
    "\\begin{equation} V_t(s) = max_{x\\in\\{0,1,\\dots,s\\}} \\left\\{px−c(s, x) + \\delta V_{t+1}(s−x)\\right\\} \\end{equation}\n",
    "\n",
    "subject to the terminal condition $V_{T+1}(s) = 0$\n",
    "\n",
    "To solve and simulate this model, use the CompEcon class ```DDPmodel```. "
   ]
  },
  {
   "cell_type": "code",
   "execution_count": null,
   "metadata": {},
   "outputs": [],
   "source": [
    "model = DDPmodel(f, g, delta)\n",
    "model.solve()"
   ]
  },
  {
   "cell_type": "markdown",
   "metadata": {},
   "source": [
    "By default, the `solve()` method uses Newton's algorithm. This and other default settings can be changed when solving the model. For example,\n",
    "```python\n",
    "model.solve(algorithm='funcit', print=True)\n",
    "```\n",
    "solves the model by function iteration, printing a summary of each iteration to screen.\n",
    "\n",
    "In either case, `solve()` updates the model itself, storing the $n$ vector of values `.value`, the $n$ vector of optimal actions `.policy`, and the $n\\times n$ controlled state `.transition` probability.\n"
   ]
  },
  {
   "cell_type": "code",
   "execution_count": null,
   "metadata": {},
   "outputs": [],
   "source": [
    "solution = pd.DataFrame({\n",
    "    'Stock': S,\n",
    "    'Extraction': X[model.policy], \n",
    "    'Value': model.value}).set_index('Stock')"
   ]
  },
  {
   "cell_type": "markdown",
   "metadata": {},
   "source": [
    "## Analysis"
   ]
  },
  {
   "cell_type": "markdown",
   "metadata": {},
   "source": [
    "### Simulate Model\n",
    "The path followed by the stock level over time is computed by the `simulate()` method. Here, the simulation assumes an initial stock level of 100 and 15 years in duration."
   ]
  },
  {
   "cell_type": "code",
   "execution_count": null,
   "metadata": {},
   "outputs": [],
   "source": [
    "sinit = S.max()\n",
    "nyrs = 15\n",
    "t = np.arange(nyrs + 1)\n",
    "spath, xpath = model.simulate(sinit, nyrs)\n",
    "\n",
    "simul = pd.DataFrame({\n",
    "    'Year': t,\n",
    "    'Stock': S[spath],\n",
    "    'Extraction': X[xpath]}).set_index('Year')\n",
    "simul"
   ]
  },
  {
   "cell_type": "markdown",
   "metadata": {},
   "source": [
    "### Plot Optimal Policy"
   ]
  },
  {
   "cell_type": "code",
   "execution_count": null,
   "metadata": {},
   "outputs": [],
   "source": [
    "ax = solution['Extraction'].plot(title='Optimal Extraction Policy')\n",
    "ax.set(ylabel='Extraction');"
   ]
  },
  {
   "cell_type": "markdown",
   "metadata": {},
   "source": [
    "### Plot Value Function\n",
    "The value of the firm is very nearly proportional to the stock level."
   ]
  },
  {
   "cell_type": "code",
   "execution_count": null,
   "metadata": {},
   "outputs": [],
   "source": [
    "ax = solution['Value'].plot(title='Optimal Value Function')\n",
    "ax.set(ylabel='Value');"
   ]
  },
  {
   "cell_type": "markdown",
   "metadata": {},
   "source": [
    "### Plot State and Extraction Path\n",
    "As seen in this figure, the content of the mine is optimally exhausted in 15 years."
   ]
  },
  {
   "cell_type": "code",
   "execution_count": null,
   "metadata": {},
   "outputs": [],
   "source": [
    "ax = simul.plot(subplots=True, layout=[1,2], legend=None)\n",
    "for i, lab in enumerate(simul.columns):\n",
    "    ax[0, i].set(ylabel=lab);"
   ]
  }
 ],
 "metadata": {
  "kernelspec": {
   "display_name": "Python 3",
   "language": "python",
   "name": "python3"
  },
  "language_info": {
   "codemirror_mode": {
    "name": "ipython",
    "version": 3
   },
   "file_extension": ".py",
   "mimetype": "text/x-python",
   "name": "python",
   "nbconvert_exporter": "python",
   "pygments_lexer": "ipython3",
   "version": "3.8.3"
  }
 },
 "nbformat": 4,
 "nbformat_minor": 4
}
