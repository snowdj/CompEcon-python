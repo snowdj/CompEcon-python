{
 "cells": [
  {
   "cell_type": "markdown",
   "metadata": {},
   "source": [
    "### DEMDP01 \n",
    "# Timber Harvesting Model - Cubic Spline Approximation"
   ]
  },
  {
   "cell_type": "markdown",
   "metadata": {},
   "source": [
    "Profit maximizing owner of a commercial tree stand must decide when to clearcut the stand."
   ]
  },
  {
   "cell_type": "code",
   "execution_count": 13,
   "metadata": {},
   "outputs": [],
   "source": [
    "import numpy as np\n",
    "import matplotlib.pyplot as plt\n",
    "import matplotlib.gridspec as gridspec\n",
    "from compecon import DPmodel, BasisSpline, demo, NLP"
   ]
  },
  {
   "cell_type": "markdown",
   "metadata": {},
   "source": [
    "### Model Parameters\n",
    "Assuming that the unit price of biomass is $p=1$, the cost to clearcut-replant is $\\kappa=0.2$, the stand carrying capacity $s_{\\max}=0.5$, biomass growth factor is $\\gamma=10\\%$ per period, and the annual discount factor $\\delta=0.9$."
   ]
  },
  {
   "cell_type": "code",
   "execution_count": 2,
   "metadata": {},
   "outputs": [],
   "source": [
    "price = 1.0\n",
    "kappa = 0.2\n",
    "smax  = 0.5\n",
    "gamma = 0.1\n",
    "delta = 0.9"
   ]
  },
  {
   "cell_type": "markdown",
   "metadata": {},
   "source": [
    "### State Space\n",
    "The state variable is the stand biomass, $s\\in [0,s_{\\max}]$.  \n",
    "\n",
    "Here, we represent it with a cubic spline basis, with $n=200$ nodes.\n"
   ]
  },
  {
   "cell_type": "code",
   "execution_count": 3,
   "metadata": {},
   "outputs": [],
   "source": [
    "n = 200\n",
    "basis = BasisSpline(n, 0, smax, labels=['biomass'])"
   ]
  },
  {
   "cell_type": "markdown",
   "metadata": {},
   "source": [
    "### Action Space\n",
    "The action variable is $j\\in\\{0:\\text{'keep'},\\quad 1:\\text{'clear cut'}\\}$.\n"
   ]
  },
  {
   "cell_type": "code",
   "execution_count": 4,
   "metadata": {},
   "outputs": [],
   "source": [
    "options = ['keep', 'clear-cut']"
   ]
  },
  {
   "cell_type": "markdown",
   "metadata": {},
   "source": [
    "### Reward function\n",
    "If the farmer clears the stand, the profit is the value of selling the biomass $ps$ minus the cost of clearing and replanting $\\kappa$, otherwise the profit is zero."
   ]
  },
  {
   "cell_type": "code",
   "execution_count": 5,
   "metadata": {},
   "outputs": [],
   "source": [
    "def reward(s, x, i , j):\n",
    "    return (price * s - kappa) * j"
   ]
  },
  {
   "cell_type": "markdown",
   "metadata": {},
   "source": [
    "### State Transition Function\n",
    "If the farmer clears the stand, it begins next period with $\\gamma s_{\\max}$ units. If he keeps the stand, then it grows to $s + \\gamma (s_{\\max} - s)$.\n"
   ]
  },
  {
   "cell_type": "code",
   "execution_count": 6,
   "metadata": {},
   "outputs": [],
   "source": [
    "def transition(s, x, i, j, in_, e):\n",
    "    if j:\n",
    "        return np.full_like(s, gamma * smax)\n",
    "    else:\n",
    "        return s + gamma * (smax - s)"
   ]
  },
  {
   "cell_type": "markdown",
   "metadata": {},
   "source": [
    "### Model Structure\n",
    "The value of the stand, given that it contains $s$ units of biomass at the beginning of the period, satisfies the Bellman equation\n",
    "\n",
    "\\begin{equation} V(s) = \\max\\left\\{(ps-\\kappa) + \\delta V(\\gamma s_{\\max}),\\quad \\delta V[s+\\gamma(s_{\\max}-s)]  \\right\\}   \\end{equation}\n",
    "\n",
    "To solve and simulate this model, use the CompEcon class ```DPmodel```."
   ]
  },
  {
   "cell_type": "code",
   "execution_count": 26,
   "metadata": {},
   "outputs": [
    {
     "name": "stdout",
     "output_type": "stream",
     "text": [
      "Solving infinite-horizon model collocation equation by Newton's method\n",
      "iter change       time    \n",
      "------------------------------\n",
      "   0       3.1e-01    0.0000\n",
      "   1       1.1e-01    0.0186\n",
      "   2       1.1e-02    0.0221\n",
      "   3       4.6e-03    0.0221\n",
      "   4       1.9e-16    0.0378\n",
      "Elapsed Time =    0.04 Seconds\n"
     ]
    }
   ],
   "source": [
    "model = DPmodel(basis, reward, transition,\n",
    "                discount=delta,\n",
    "                j=options)\n",
    "\n",
    "S = model.solve()"
   ]
  },
  {
   "cell_type": "markdown",
   "metadata": {},
   "source": [
    "The ```solve``` method retuns a pandas ```DataFrame```, which can easily be used to make plots. To see the first 10 entries of `S`, we use the `head` method"
   ]
  },
  {
   "cell_type": "code",
   "execution_count": 27,
   "metadata": {},
   "outputs": [
    {
     "data": {
      "text/html": [
       "<div>\n",
       "<style scoped>\n",
       "    .dataframe tbody tr th:only-of-type {\n",
       "        vertical-align: middle;\n",
       "    }\n",
       "\n",
       "    .dataframe tbody tr th {\n",
       "        vertical-align: top;\n",
       "    }\n",
       "\n",
       "    .dataframe thead th {\n",
       "        text-align: right;\n",
       "    }\n",
       "</style>\n",
       "<table border=\"1\" class=\"dataframe\">\n",
       "  <thead>\n",
       "    <tr style=\"text-align: right;\">\n",
       "      <th></th>\n",
       "      <th>biomass</th>\n",
       "      <th>value</th>\n",
       "      <th>resid</th>\n",
       "      <th>j*</th>\n",
       "      <th>value[keep]</th>\n",
       "      <th>value[clear-cut]</th>\n",
       "    </tr>\n",
       "    <tr>\n",
       "      <th>biomass</th>\n",
       "      <th></th>\n",
       "      <th></th>\n",
       "      <th></th>\n",
       "      <th></th>\n",
       "      <th></th>\n",
       "      <th></th>\n",
       "    </tr>\n",
       "  </thead>\n",
       "  <tbody>\n",
       "    <tr>\n",
       "      <th>0.000000</th>\n",
       "      <td>0.000000</td>\n",
       "      <td>0.067287</td>\n",
       "      <td>1.387779e-17</td>\n",
       "      <td>keep</td>\n",
       "      <td>0.067287</td>\n",
       "      <td>-0.132713</td>\n",
       "    </tr>\n",
       "    <tr>\n",
       "      <th>0.000250</th>\n",
       "      <td>0.000250</td>\n",
       "      <td>0.067320</td>\n",
       "      <td>-7.491474e-09</td>\n",
       "      <td>keep</td>\n",
       "      <td>0.067320</td>\n",
       "      <td>-0.132462</td>\n",
       "    </tr>\n",
       "    <tr>\n",
       "      <th>0.000500</th>\n",
       "      <td>0.000500</td>\n",
       "      <td>0.067353</td>\n",
       "      <td>-5.953236e-09</td>\n",
       "      <td>keep</td>\n",
       "      <td>0.067353</td>\n",
       "      <td>-0.132212</td>\n",
       "    </tr>\n",
       "    <tr>\n",
       "      <th>0.000750</th>\n",
       "      <td>0.000750</td>\n",
       "      <td>0.067387</td>\n",
       "      <td>-1.332984e-09</td>\n",
       "      <td>keep</td>\n",
       "      <td>0.067387</td>\n",
       "      <td>-0.131962</td>\n",
       "    </tr>\n",
       "    <tr>\n",
       "      <th>0.001001</th>\n",
       "      <td>0.001001</td>\n",
       "      <td>0.067420</td>\n",
       "      <td>7.309628e-10</td>\n",
       "      <td>keep</td>\n",
       "      <td>0.067420</td>\n",
       "      <td>-0.131712</td>\n",
       "    </tr>\n",
       "  </tbody>\n",
       "</table>\n",
       "</div>"
      ],
      "text/plain": [
       "           biomass     value         resid    j*  value[keep]  \\\n",
       "biomass                                                         \n",
       "0.000000  0.000000  0.067287  1.387779e-17  keep     0.067287   \n",
       "0.000250  0.000250  0.067320 -7.491474e-09  keep     0.067320   \n",
       "0.000500  0.000500  0.067353 -5.953236e-09  keep     0.067353   \n",
       "0.000750  0.000750  0.067387 -1.332984e-09  keep     0.067387   \n",
       "0.001001  0.001001  0.067420  7.309628e-10  keep     0.067420   \n",
       "\n",
       "          value[clear-cut]  \n",
       "biomass                     \n",
       "0.000000         -0.132713  \n",
       "0.000250         -0.132462  \n",
       "0.000500         -0.132212  \n",
       "0.000750         -0.131962  \n",
       "0.001001         -0.131712  "
      ]
     },
     "execution_count": 27,
     "metadata": {},
     "output_type": "execute_result"
    }
   ],
   "source": [
    "S.head()"
   ]
  },
  {
   "cell_type": "markdown",
   "metadata": {},
   "source": [
    "## Analysis"
   ]
  },
  {
   "cell_type": "markdown",
   "metadata": {},
   "source": [
    "To find the biomass level at which it is indifferent to keep or to clear cut, we interpolate as follows:"
   ]
  },
  {
   "cell_type": "code",
   "execution_count": 23,
   "metadata": {},
   "outputs": [
    {
     "name": "stdout",
     "output_type": "stream",
     "text": [
      "When the biomass is 0.30669 its value is 0.17402 regardless of the action taken by the manager\n"
     ]
    }
   ],
   "source": [
    "scrit = NLP(lambda s: model.Value_j(s).dot([1,-1])).broyden(0.0)[0]\n",
    "vcrit = model.Value(scrit)\n",
    "print(f'When the biomass is {scrit:.5f} its value is {vcrit:.5f} regardless of the action taken by the manager')"
   ]
  },
  {
   "cell_type": "markdown",
   "metadata": {},
   "source": [
    "### Plot the Value Function and Optimal Action"
   ]
  },
  {
   "cell_type": "code",
   "execution_count": 37,
   "metadata": {},
   "outputs": [
    {
     "data": {
      "text/plain": [
       "<matplotlib.legend.Legend at 0x23f3f129588>"
      ]
     },
     "execution_count": 37,
     "metadata": {},
     "output_type": "execute_result"
    },
    {
     "data": {
      "image/png": "[encoded data removed]",
      "text/plain": [
       "<matplotlib.figure.Figure at 0x23f3f0186a0>"
      ]
     },
     "metadata": {},
     "output_type": "display_data"
    }
   ],
   "source": [
    "fig1 = plt.figure(figsize=[8,5])\n",
    "gs = gridspec.GridSpec(2, 1,height_ratios=[3.5, 1])\n",
    "\n",
    "S[['value[keep]', 'value[clear-cut]']].plot(ax= plt.subplot(gs[0]))\n",
    "plt.title('Action-Contingent Value Functions')\n",
    "plt.xlabel('')\n",
    "plt.ylabel('Value of Stand')\n",
    "plt.xticks([])\n",
    "\n",
    "\n",
    "ymin,ymax = plt.ylim()\n",
    "plt.vlines(scrit,ymin, vcrit,linestyle=':')\n",
    "demo.annotate(scrit, ymin,'$s^*$',ms=0)\n",
    "\n",
    "S['j*'].cat.codes.plot(ax=plt.subplot(gs[1]))\n",
    "plt.title('Optimal Action')\n",
    "plt.ylabel('Action')\n",
    "plt.ylim([-0.25,1.25])\n",
    "plt.yticks([0,1],options)\n",
    "plt.legend([])"
   ]
  },
  {
   "cell_type": "markdown",
   "metadata": {},
   "source": [
    "### Plot Residuals"
   ]
  },
  {
   "cell_type": "code",
   "execution_count": 34,
   "metadata": {},
   "outputs": [
    {
     "data": {
      "text/plain": [
       "<matplotlib.collections.LineCollection at 0x23f3eeb40f0>"
      ]
     },
     "execution_count": 34,
     "metadata": {},
     "output_type": "execute_result"
    },
    {
     "data": {
      "image/png": "[encoded data removed]",
      "text/plain": [
       "<matplotlib.figure.Figure at 0x23f3ee70438>"
      ]
     },
     "metadata": {},
     "output_type": "display_data"
    }
   ],
   "source": [
    "S['resid2'] = 100*S.resid / S.value\n",
    "\n",
    "fig2 = demo.figure('Bellman Equation Residual','','Percent Residual')\n",
    "plt.plot(S['resid2'])\n",
    "plt.hlines(0,0,smax,'k')"
   ]
  },
  {
   "cell_type": "markdown",
   "metadata": {},
   "source": [
    "###  Simulation\n",
    "\n",
    "The path followed by the biomass is computed by the ```simulate()``` method. Here we simulate 32 periods starting with a biomass level $s_0 = 0$."
   ]
  },
  {
   "cell_type": "code",
   "execution_count": 33,
   "metadata": {},
   "outputs": [
    {
     "data": {
      "text/plain": [
       "[<matplotlib.lines.Line2D at 0x23f3ee5e5c0>]"
      ]
     },
     "execution_count": 33,
     "metadata": {},
     "output_type": "execute_result"
    },
    {
     "data": {
      "image/png": "[encoded data removed]",
      "text/plain": [
       "<matplotlib.figure.Figure at 0x23f3ed1d6d8>"
      ]
     },
     "metadata": {},
     "output_type": "display_data"
    }
   ],
   "source": [
    "H = model.simulate(32, 0.0)\n",
    "\n",
    "fig3 = demo.figure('Timber harvesting simulation','Period','Biomass')\n",
    "plt.plot(H['biomass'])\n"
   ]
  },
  {
   "cell_type": "code",
   "execution_count": null,
   "metadata": {},
   "outputs": [],
   "source": [
    "#demo.savefig([fig1, fig2, fig3])"
   ]
  }
 ],
 "metadata": {
  "kernelspec": {
   "display_name": "Python 3",
   "language": "python",
   "name": "python3"
  },
  "language_info": {
   "codemirror_mode": {
    "name": "ipython",
    "version": 3
   },
   "file_extension": ".py",
   "mimetype": "text/x-python",
   "name": "python",
   "nbconvert_exporter": "python",
   "pygments_lexer": "ipython3",
   "version": "3.6.4"
  }
 },
 "nbformat": 4,
 "nbformat_minor": 1
}
