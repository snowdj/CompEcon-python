{
 "cells": [
  {
   "cell_type": "markdown",
   "metadata": {},
   "source": [
    "### DEMDP08 \n",
    "# Public Renewable Resource Model\n",
    "\n",
    "Welfare maximizing social planner must decide how much of a renewable resource to harvest."
   ]
  },
  {
   "cell_type": "markdown",
   "metadata": {},
   "source": [
    "- States\n",
    "    -     s       quantity of stock available\n",
    "- Actions\n",
    "    -     q       quantity of stock harvested\n",
    "- Parameters\n",
    "    - $\\alpha$     growth function parameter\n",
    "    - $\\beta$      growth function parameter\n",
    "    - $\\gamma$    relative risk aversion\n",
    "    - $\\kappa$     unit cost of harvest\n",
    "    - $\\delta$     discount factor"
   ]
  },
  {
   "cell_type": "code",
   "execution_count": 1,
   "metadata": {},
   "outputs": [],
   "source": [
    "import numpy as np\n",
    "import matplotlib.pyplot as plt\n",
    "from compecon import BasisChebyshev, DPmodel, DPoptions, qnwnorm, demo"
   ]
  },
  {
   "cell_type": "markdown",
   "metadata": {},
   "source": [
    "### Model parameters"
   ]
  },
  {
   "cell_type": "code",
   "execution_count": 2,
   "metadata": {},
   "outputs": [],
   "source": [
    "α, β, γ, κ, δ = 4.0, 1.0, 0.5, 0.2, 0.9"
   ]
  },
  {
   "cell_type": "markdown",
   "metadata": {},
   "source": [
    "### Steady-state\n",
    "\n",
    "The steady-state values for this model are"
   ]
  },
  {
   "cell_type": "code",
   "execution_count": 3,
   "metadata": {},
   "outputs": [
    {
     "name": "stdout",
     "output_type": "stream",
     "text": [
      "Steady-State\n",
      "\tStock        =   7.3827\n",
      "\tHarvest      =   4.4938\n"
     ]
    }
   ],
   "source": [
    "sstar = (α**2 - 1/δ**2)/(2*β)     # steady-state stock\n",
    "qstar = sstar - (δ*α-1)/(δ*β) # steady-state action\n",
    "\n",
    "print('Steady-State')\n",
    "print(f\"\\t{'Stock':12s} = {sstar:8.4f}\")\n",
    "print(f\"\\t{'Harvest':12s} = {qstar:8.4f}\")"
   ]
  },
  {
   "cell_type": "markdown",
   "metadata": {},
   "source": [
    "## Numeric results"
   ]
  },
  {
   "cell_type": "markdown",
   "metadata": {},
   "source": [
    "### State space\n",
    "The state variable is s=\"Stock\", which we restrict to $s\\in[6, 9]$. \n",
    "\n",
    "Here, we represent it with a Chebyshev basis, with $n=8$ nodes."
   ]
  },
  {
   "cell_type": "code",
   "execution_count": 4,
   "metadata": {},
   "outputs": [],
   "source": [
    "n, smin, smax = 8, 6, 9\n",
    "basis = BasisChebyshev(n, smin, smax, labels=['Stock'])"
   ]
  },
  {
   "cell_type": "markdown",
   "metadata": {},
   "source": [
    "### Action space\n",
    "The choice variable q=\"Harvest\" must be nonnegative."
   ]
  },
  {
   "cell_type": "code",
   "execution_count": 5,
   "metadata": {},
   "outputs": [],
   "source": [
    "def bounds(s, i=None, j=None):\n",
    "    return np.zeros_like(s), s[:]"
   ]
  },
  {
   "cell_type": "markdown",
   "metadata": {},
   "source": [
    "### Reward function\n",
    "The reward function is the utility of harvesting $q$ units."
   ]
  },
  {
   "cell_type": "code",
   "execution_count": 6,
   "metadata": {},
   "outputs": [],
   "source": [
    "def reward(s, q, i=None, j=None):\n",
    "    u = (q**(1-γ))/(1-γ)-κ*q\n",
    "    ux= q**(-γ)-κ\n",
    "    uxx = -γ*q**(-γ-1)\n",
    "    \n",
    "    return u, ux, uxx"
   ]
  },
  {
   "cell_type": "markdown",
   "metadata": {},
   "source": [
    "### State transition function\n",
    "Next period, the stock will be equal that is $s' = \\alpha (s-q) - 0.5\\beta(s-q)^2$"
   ]
  },
  {
   "cell_type": "code",
   "execution_count": 7,
   "metadata": {},
   "outputs": [],
   "source": [
    "def transition(s, q, i=None, j=None, in_=None, e=None):\n",
    "    sq = s-q\n",
    "    g = α*sq - 0.5*β*sq**2\n",
    "    gx = -α + β*sq\n",
    "    gxx = -β*np.ones_like(s)\n",
    "    return g, gx, gxx"
   ]
  },
  {
   "cell_type": "markdown",
   "metadata": {},
   "source": [
    "### Model structure\n",
    "The value of wealth $s$ satisfies the Bellman equation\n",
    "\\begin{equation*}\n",
    "V(s) = \\max_q\\left\\{\\frac{q^{1-\\gamma}}{1-\\gamma} -\\kappa q + \\delta V(s')  \\right\\}\n",
    "\\end{equation*}\n",
    "\n",
    "To solve and simulate this model,use the CompEcon class `DPmodel`"
   ]
  },
  {
   "cell_type": "code",
   "execution_count": 8,
   "metadata": {},
   "outputs": [],
   "source": [
    "model = DPmodel(basis, reward, transition, bounds,\n",
    "                       x=['Harvest'],\n",
    "                       discount=δ)"
   ]
  },
  {
   "cell_type": "markdown",
   "metadata": {},
   "source": [
    "### Solving the model\n",
    "\n",
    "Solving the growth model by collocation"
   ]
  },
  {
   "cell_type": "code",
   "execution_count": 9,
   "metadata": {},
   "outputs": [
    {
     "name": "stdout",
     "output_type": "stream",
     "text": [
      "Solving infinite-horizon model collocation equation by Newton's method\n",
      "iter change       time    \n",
      "------------------------------\n",
      "   0       1.4e+01    0.0000\n",
      "   1       1.9e+01    0.0156\n",
      "   2       3.7e-01    0.0313\n",
      "   3       1.1e-03    0.0313\n",
      "   4       1.5e-08    0.0313\n",
      "   5       7.6e-14    0.0469\n",
      "Elapsed Time =    0.05 Seconds\n"
     ]
    }
   ],
   "source": [
    "S = model.solve()"
   ]
  },
  {
   "cell_type": "markdown",
   "metadata": {},
   "source": [
    "`DPmodel.solve` returns a pandas `DataFrame` with the following data:"
   ]
  },
  {
   "cell_type": "code",
   "execution_count": 10,
   "metadata": {},
   "outputs": [
    {
     "data": {
      "text/html": [
       "<div>\n",
       "<style scoped>\n",
       "    .dataframe tbody tr th:only-of-type {\n",
       "        vertical-align: middle;\n",
       "    }\n",
       "\n",
       "    .dataframe tbody tr th {\n",
       "        vertical-align: top;\n",
       "    }\n",
       "\n",
       "    .dataframe thead th {\n",
       "        text-align: right;\n",
       "    }\n",
       "</style>\n",
       "<table border=\"1\" class=\"dataframe\">\n",
       "  <thead>\n",
       "    <tr style=\"text-align: right;\">\n",
       "      <th></th>\n",
       "      <th>Stock</th>\n",
       "      <th>value</th>\n",
       "      <th>resid</th>\n",
       "      <th>Harvest</th>\n",
       "    </tr>\n",
       "    <tr>\n",
       "      <th>Stock</th>\n",
       "      <th></th>\n",
       "      <th></th>\n",
       "      <th></th>\n",
       "      <th></th>\n",
       "    </tr>\n",
       "  </thead>\n",
       "  <tbody>\n",
       "    <tr>\n",
       "      <th>6.000000</th>\n",
       "      <td>6.000000</td>\n",
       "      <td>32.985613</td>\n",
       "      <td>6.795958e-09</td>\n",
       "      <td>3.349254</td>\n",
       "    </tr>\n",
       "    <tr>\n",
       "      <th>6.037975</th>\n",
       "      <td>6.037975</td>\n",
       "      <td>32.998722</td>\n",
       "      <td>-1.561688e-09</td>\n",
       "      <td>3.379828</td>\n",
       "    </tr>\n",
       "    <tr>\n",
       "      <th>6.075949</th>\n",
       "      <td>6.075949</td>\n",
       "      <td>33.011736</td>\n",
       "      <td>-5.604697e-09</td>\n",
       "      <td>3.410456</td>\n",
       "    </tr>\n",
       "    <tr>\n",
       "      <th>6.113924</th>\n",
       "      <td>6.113924</td>\n",
       "      <td>33.024658</td>\n",
       "      <td>-6.686072e-09</td>\n",
       "      <td>3.441138</td>\n",
       "    </tr>\n",
       "    <tr>\n",
       "      <th>6.151899</th>\n",
       "      <td>6.151899</td>\n",
       "      <td>33.037489</td>\n",
       "      <td>-5.868451e-09</td>\n",
       "      <td>3.471872</td>\n",
       "    </tr>\n",
       "  </tbody>\n",
       "</table>\n",
       "</div>"
      ],
      "text/plain": [
       "             Stock      value         resid   Harvest\n",
       "Stock                                                \n",
       "6.000000  6.000000  32.985613  6.795958e-09  3.349254\n",
       "6.037975  6.037975  32.998722 -1.561688e-09  3.379828\n",
       "6.075949  6.075949  33.011736 -5.604697e-09  3.410456\n",
       "6.113924  6.113924  33.024658 -6.686072e-09  3.441138\n",
       "6.151899  6.151899  33.037489 -5.868451e-09  3.471872"
      ]
     },
     "execution_count": 10,
     "metadata": {},
     "output_type": "execute_result"
    }
   ],
   "source": [
    "S.head()"
   ]
  },
  {
   "cell_type": "markdown",
   "metadata": {},
   "source": [
    "We are also interested in the shadow price of wealth (the first derivative of the value function)."
   ]
  },
  {
   "cell_type": "code",
   "execution_count": 11,
   "metadata": {},
   "outputs": [],
   "source": [
    "S['shadow price'] = model.Value(S['Stock'],1)"
   ]
  },
  {
   "cell_type": "markdown",
   "metadata": {},
   "source": [
    "## Plotting the results"
   ]
  },
  {
   "cell_type": "markdown",
   "metadata": {},
   "source": [
    "### Optimal Policy"
   ]
  },
  {
   "cell_type": "code",
   "execution_count": 12,
   "metadata": {},
   "outputs": [
    {
     "data": {
      "image/png": "[encoded data removed]",
      "text/plain": [
       "<matplotlib.figure.Figure at 0x2657a1966a0>"
      ]
     },
     "metadata": {},
     "output_type": "display_data"
    }
   ],
   "source": [
    "fig1 = demo.figure('Optimal Harvest Policy','Stock','Harvest')\n",
    "plt.plot(S['Harvest'])\n",
    "demo.annotate(sstar, qstar,f'$s^*$ = {sstar:.2f}\\n$q^*$ = {qstar:.2f}','bo', (8, -8),ms=10,fs=11)"
   ]
  },
  {
   "cell_type": "markdown",
   "metadata": {},
   "source": [
    "### Value Function"
   ]
  },
  {
   "cell_type": "code",
   "execution_count": 13,
   "metadata": {},
   "outputs": [
    {
     "data": {
      "text/plain": [
       "[<matplotlib.lines.Line2D at 0x2657a00f2b0>]"
      ]
     },
     "execution_count": 13,
     "metadata": {},
     "output_type": "execute_result"
    },
    {
     "data": {
      "image/png": "[encoded data removed]",
      "text/plain": [
       "<matplotlib.figure.Figure at 0x26579eeb0f0>"
      ]
     },
     "metadata": {},
     "output_type": "display_data"
    }
   ],
   "source": [
    "fig2 = demo.figure('Value Function', 'Stock', 'Value')\n",
    "plt.plot(S.value)"
   ]
  },
  {
   "cell_type": "markdown",
   "metadata": {},
   "source": [
    "### Shadow Price Function"
   ]
  },
  {
   "cell_type": "code",
   "execution_count": 14,
   "metadata": {},
   "outputs": [
    {
     "data": {
      "text/plain": [
       "[<matplotlib.lines.Line2D at 0x2657a0af5c0>]"
      ]
     },
     "execution_count": 14,
     "metadata": {},
     "output_type": "execute_result"
    },
    {
     "data": {
      "image/png": "[encoded data removed]",
      "text/plain": [
       "<matplotlib.figure.Figure at 0x2657a105c18>"
      ]
     },
     "metadata": {},
     "output_type": "display_data"
    }
   ],
   "source": [
    "fig3 = demo.figure('Shadow Price Function', 'Stock', 'Shadow Price')\n",
    "plt.plot(S['shadow price'])"
   ]
  },
  {
   "cell_type": "markdown",
   "metadata": {},
   "source": [
    "### Residual"
   ]
  },
  {
   "cell_type": "code",
   "execution_count": 15,
   "metadata": {
    "scrolled": false
   },
   "outputs": [
    {
     "data": {
      "image/png": "[encoded data removed]",
      "text/plain": [
       "<matplotlib.figure.Figure at 0x2657a0afb38>"
      ]
     },
     "metadata": {},
     "output_type": "display_data"
    }
   ],
   "source": [
    "fig4 = demo.figure('Bellman Equation Residua', 'Stock', 'Residual')\n",
    "plt.hlines(0,smin,smax,'k',linestyles='--')\n",
    "plt.plot(S['resid'])\n",
    "plt.ticklabel_format(style='sci', axis='y', scilimits=(-1,1))"
   ]
  },
  {
   "cell_type": "markdown",
   "metadata": {},
   "source": [
    "## Simulating the model\n",
    "\n",
    "We simulate 16 periods of the model starting from $s=s_{\\min}$"
   ]
  },
  {
   "cell_type": "code",
   "execution_count": 16,
   "metadata": {},
   "outputs": [],
   "source": [
    "T = 16\n",
    "data = model.simulate(T, smin)"
   ]
  },
  {
   "cell_type": "markdown",
   "metadata": {},
   "source": [
    "### Simulated State and Policy Paths"
   ]
  },
  {
   "cell_type": "code",
   "execution_count": 17,
   "metadata": {
    "scrolled": false
   },
   "outputs": [
    {
     "data": {
      "image/png": "[encoded data removed]",
      "text/plain": [
       "<matplotlib.figure.Figure at 0x2657a482978>"
      ]
     },
     "metadata": {},
     "output_type": "display_data"
    }
   ],
   "source": [
    "opts = dict(spec='r*', offset=(-5, -5), fs=11, ha='right')\n",
    "\n",
    "fig5 = demo.figure('State and Policy Paths','Period', 'Stock/Harvest',[0, T + 0.5])\n",
    "plt.plot(data[['Stock', 'Harvest']])\n",
    "demo.annotate(T, sstar, f'steady-state stock\\n = {sstar:.2f}', **opts)\n",
    "demo.annotate(T, qstar, f'steady-state harvest\\n = {qstar:.2f}', **opts)"
   ]
  },
  {
   "cell_type": "code",
   "execution_count": 18,
   "metadata": {},
   "outputs": [],
   "source": [
    "#demo.savefig([fig1,fig2,fig3,fig4,fig5])"
   ]
  }
 ],
 "metadata": {
  "kernelspec": {
   "display_name": "Python 3",
   "language": "python",
   "name": "python3"
  },
  "language_info": {
   "codemirror_mode": {
    "name": "ipython",
    "version": 3
   },
   "file_extension": ".py",
   "mimetype": "text/x-python",
   "name": "python",
   "nbconvert_exporter": "python",
   "pygments_lexer": "ipython3",
   "version": "3.6.4"
  }
 },
 "nbformat": 4,
 "nbformat_minor": 1
}
